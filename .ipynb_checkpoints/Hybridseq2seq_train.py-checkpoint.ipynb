{
 "cells": [
  {
   "cell_type": "markdown",
   "metadata": {},
   "source": [
    "# Train script for seq2seq models"
   ]
  },
  {
   "cell_type": "markdown",
   "metadata": {},
   "source": [
    "### imports"
   ]
  },
  {
   "cell_type": "code",
   "execution_count": 1,
   "metadata": {
    "collapsed": true
   },
   "outputs": [],
   "source": [
    "%matplotlib inline\n",
    "\n",
    "from torch.autograd import Variable\n",
    "from torch import optim\n",
    "import torch.nn as nn\n",
    "from torch.utils.data import DataLoader\n",
    "import torch\n",
    "import matplotlib.pyplot as plt\n",
    "import numpy as np\n",
    "\n",
    "# local imports\n",
    "from visualize import showPlot,plotPredictions\n",
    "from models import HybridSeq2Seq\n",
    "from ToyDatasets.timeSeries import Sinusoids"
   ]
  },
  {
   "cell_type": "markdown",
   "metadata": {},
   "source": [
    "## Define dataset loader"
   ]
  },
  {
   "cell_type": "code",
   "execution_count": 2,
   "metadata": {
    "collapsed": true
   },
   "outputs": [],
   "source": [
    "batch_size = 256\n",
    "num_steps = 16\n",
    "dataset_size = 20000\n",
    "\n",
    "data_loader = DataLoader(Sinusoids(num_steps,virtual_size=dataset_size),batch_size=batch_size,shuffle=True)\n",
    "valid_data_loader = DataLoader(Sinusoids(num_steps,virtual_size=dataset_size),batch_size=batch_size,shuffle=True)\n",
    "\n",
    "batch_loader = iter(data_loader)\n",
    "valid_batch_loader = iter(valid_data_loader)"
   ]
  },
  {
   "cell_type": "markdown",
   "metadata": {},
   "source": [
    "## Define model"
   ]
  },
  {
   "cell_type": "code",
   "execution_count": 3,
   "metadata": {},
   "outputs": [
    {
     "name": "stdout",
     "output_type": "stream",
     "text": [
      "Number of trainable parameters 6530913\n",
      "Forward pass succesfull\n"
     ]
    }
   ],
   "source": [
    "model = CNNSeq2Seq(hidden_size=800)\n",
    "print(\"Number of trainable parameters {}\".format(sum(p.numel() for p in model.parameters() if p.requires_grad)))\n",
    "\n",
    "# test forward pass\n",
    "try:\n",
    "    initial_batch = batch_loader.next()\n",
    "    x = Variable(initial_batch).type(torch.FloatTensor).transpose(1,0)\n",
    "    test = model(x)\n",
    "    assert (test.shape[0] == x.shape[0] and test.shape[1] == x.shape[1] and test.shape[2] == x.shape[2])\n",
    "    print(\"Forward pass succesfull\")\n",
    "except:\n",
    "    print(\"Error in forward pass. Output should have shape: {} but had {}\".format(x.contiguous().view(-1).shape,test.view(-1).shape))"
   ]
  },
  {
   "cell_type": "markdown",
   "metadata": {},
   "source": [
    "## Define optimizer and loss"
   ]
  },
  {
   "cell_type": "code",
   "execution_count": 4,
   "metadata": {
    "collapsed": true
   },
   "outputs": [],
   "source": [
    "learning_rate = 1e-4\n",
    "optimizer = optim.Adam(model.parameters(),lr=learning_rate)\n",
    "loss_fn = nn.MSELoss()"
   ]
  },
  {
   "cell_type": "markdown",
   "metadata": {},
   "source": [
    "## Define trainer"
   ]
  },
  {
   "cell_type": "code",
   "execution_count": null,
   "metadata": {
    "collapsed": true
   },
   "outputs": [],
   "source": [
    "def train(batch_loader,valid_batch_loader,model,optimizer,loss_fn,n_iters,print_every=100):\n",
    "    train_data = {\"x\":[],\"recon_x\":[]}\n",
    "    valid_data = {\"x\":[],\"recon_x\":[]}\n",
    "    plot_losses = []\n",
    "    plot_losses_valid = []\n",
    "    # start training and evaluating\n",
    "    for i in range(1,n_iters+1):\n",
    "        # train\n",
    "        try:\n",
    "            batch = next(batch_loader)\n",
    "        except StopIteration:\n",
    "            batch_loader = iter(data_loader)\n",
    "            batch = next(batch_loader)\n",
    "        x = Variable(batch).type(torch.FloatTensor).transpose(1,0)\n",
    "        model.train()\n",
    "        optimizer.zero_grad()\n",
    "        recon_x = model(x)\n",
    "        x_pl = x.contiguous().view(-1)\n",
    "        recon_x_pl = recon_x.contiguous().view(-1)\n",
    "        loss = loss_fn(recon_x_pl,x_pl)\n",
    "        loss.backward()\n",
    "        optimizer.step()\n",
    "        train_data[\"x\"] = x.squeeze(2)\n",
    "        train_data[\"recon_x\"] = recon_x.squeeze(2)\n",
    "        if i % print_every == 0:\n",
    "            plot_losses.append(loss.data[0])\n",
    "            print('\\nTrain ({0:d} {1:d}%) loss: {2:.4f}'.format(i,int(i/n_iters*100),loss.data[0]))\n",
    "        \n",
    "        # eval\n",
    "        try:\n",
    "            batch = next(valid_batch_loader)\n",
    "        except StopIteration:\n",
    "            valid_batch_loader = iter(valid_data_loader)\n",
    "            batch = next(valid_batch_loader)\n",
    "        x = Variable(batch).type(torch.FloatTensor).transpose(1,0)\n",
    "        model.eval()\n",
    "        recon_x = model(x)\n",
    "        x_pl = x.contiguous().view(-1)\n",
    "        recon_x_pl = recon_x.contiguous().view(-1)\n",
    "        loss = loss_fn(recon_x_pl,x_pl)\n",
    "        valid_data[\"x\"] = x.squeeze(2)\n",
    "        valid_data[\"recon_x\"] = recon_x.squeeze(2)\n",
    "        if i % print_every == 0:\n",
    "            plot_losses_valid.append(loss.data[0])\n",
    "            print('Valid ({0:d} {1:d}%) loss: {2:.4f}'.format(i,int(i/n_iters*100),loss.data[0]))\n",
    "    showPlot(plot_losses,plot_losses_valid,yu=0.5)\n",
    "    plotPredictions(train_data['x'],train_data['recon_x'],xu=num_steps,yu=1)\n",
    "    plotPredictions(valid_data['x'],valid_data['recon_x'],xu=num_steps,yu=1)"
   ]
  },
  {
   "cell_type": "code",
   "execution_count": null,
   "metadata": {
    "scrolled": false
   },
   "outputs": [
    {
     "name": "stdout",
     "output_type": "stream",
     "text": [
      "\n",
      "Train (100 10%) loss: 0.0230\n",
      "Valid (100 10%) loss: 0.0219\n",
      "\n",
      "Train (200 20%) loss: 0.0032\n",
      "Valid (200 20%) loss: 0.0027\n",
      "\n",
      "Train (300 30%) loss: 0.0020\n",
      "Valid (300 30%) loss: 0.0018\n"
     ]
    }
   ],
   "source": [
    "# use at least 1000 iterations to get good results\n",
    "train(batch_loader,valid_batch_loader,model,optimizer,loss_fn,1000,print_every=100)"
   ]
  },
  {
   "cell_type": "code",
   "execution_count": null,
   "metadata": {
    "collapsed": true
   },
   "outputs": [],
   "source": []
  }
 ],
 "metadata": {
  "kernelspec": {
   "display_name": "Python 3",
   "language": "python",
   "name": "python3"
  },
  "language_info": {
   "codemirror_mode": {
    "name": "ipython",
    "version": 3
   },
   "file_extension": ".py",
   "mimetype": "text/x-python",
   "name": "python",
   "nbconvert_exporter": "python",
   "pygments_lexer": "ipython3",
   "version": "3.5.2"
  }
 },
 "nbformat": 4,
 "nbformat_minor": 2
}
