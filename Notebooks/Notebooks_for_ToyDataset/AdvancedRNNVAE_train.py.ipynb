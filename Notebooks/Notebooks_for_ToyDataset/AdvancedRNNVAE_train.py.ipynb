{
 "cells": [
  {
   "cell_type": "markdown",
   "metadata": {},
   "source": [
    "# Train script for Advanced RNN VAE model"
   ]
  },
  {
   "cell_type": "markdown",
   "metadata": {},
   "source": [
    "### imports"
   ]
  },
  {
   "cell_type": "code",
   "execution_count": 1,
   "metadata": {},
   "outputs": [],
   "source": [
    "%matplotlib inline\n",
    "\n",
    "from torch.autograd import Variable\n",
    "from torch import optim\n",
    "from torch.utils.data import DataLoader\n",
    "import torch\n",
    "\n",
    "import sys\n",
    "sys.path.append(\"../../Modules\")\n",
    "sys.path.append(\"../../Datasets\")\n",
    "\n",
    "# local imports\n",
    "from train import train\n",
    "from helpers import kl_loss,nll_loss,mse_loss,kl_loss_multi\n",
    "from models import AdvancedRNNVAE\n",
    "from ToyDatasets.timeSeries import Sinusoids"
   ]
  },
  {
   "cell_type": "markdown",
   "metadata": {},
   "source": [
    "## Define dataset loader"
   ]
  },
  {
   "cell_type": "code",
   "execution_count": 2,
   "metadata": {},
   "outputs": [],
   "source": [
    "batch_size = 32\n",
    "num_steps = 16\n",
    "dataset_size = 5000\n",
    "num_classes = 10\n",
    "\n",
    "data_loader = DataLoader(Sinusoids(num_steps,virtual_size=dataset_size,quantization=num_classes),batch_size=batch_size,shuffle=True)\n",
    "valid_data_loader = DataLoader(Sinusoids(num_steps,virtual_size=dataset_size,quantization=num_classes),batch_size=batch_size,shuffle=True)\n",
    "\n",
    "batch_loader = iter(data_loader)\n",
    "valid_batch_loader = iter(valid_data_loader)"
   ]
  },
  {
   "cell_type": "markdown",
   "metadata": {},
   "source": [
    "## Define model"
   ]
  },
  {
   "cell_type": "code",
   "execution_count": 3,
   "metadata": {},
   "outputs": [
    {
     "name": "stdout",
     "output_type": "stream",
     "text": [
      "Number of trainable parameters 878218\n",
      "Forward pass succesfull\n"
     ]
    }
   ],
   "source": [
    "model = AdvancedRNNVAE(input_size=1,rnn_size=256,latent_size=64,output_size=num_classes,use_softmax=True,bidirectional=True)\n",
    "print(\"Number of trainable parameters {}\".format(sum(p.numel() for p in model.parameters() if p.requires_grad)))\n",
    "\n",
    "# test forward pass\n",
    "try:\n",
    "    initial_batch = batch_loader.next()\n",
    "    x = Variable(initial_batch).type(torch.FloatTensor).transpose(1,0)\n",
    "    test,_ = model(x)\n",
    "    assert (test.shape[0] == x.shape[0] and test.shape[1] == x.shape[1])\n",
    "    print(\"Forward pass succesfull\")\n",
    "except:\n",
    "    print(\"Error in forward pass. Output should have shape: {} but had {}\".format(x.contiguous().view(-1).shape,test.view(-1).shape))"
   ]
  },
  {
   "cell_type": "markdown",
   "metadata": {},
   "source": [
    "## Define optimizer and loss"
   ]
  },
  {
   "cell_type": "code",
   "execution_count": 4,
   "metadata": {},
   "outputs": [],
   "source": [
    "learning_rate = 1e-4\n",
    "optimizer = optim.Adam(model.parameters(),lr=learning_rate,weight_decay=1e-3)\n",
    "scheduler = optim.lr_scheduler.ReduceLROnPlateau(optimizer,mode=\"min\",factor=0.5,verbose=True,cooldown=5)"
   ]
  },
  {
   "cell_type": "markdown",
   "metadata": {},
   "source": [
    "## Define trainer"
   ]
  },
  {
   "cell_type": "code",
   "execution_count": 5,
   "metadata": {
    "scrolled": false
   },
   "outputs": [
    {
     "name": "stdout",
     "output_type": "stream",
     "text": [
      "\n",
      "Train (1 2%) elbo: -1.7110 r_loss: -1.7110 kl: 158.5639 aux_loss: 0.0000 beta 0.00e+00\n",
      "Valid (1 2%) elbo: -1.1196 r_loss: -1.1196 kl: 380.3193 aux_loss: 0.0000 beta 0.00e+00\n",
      "\n",
      "Train (2 4%) elbo: -0.9820 r_loss: -0.8997 kl: 403.4111 aux_loss: 0.0000 beta 2.04e-04\n",
      "Valid (2 4%) elbo: -0.8088 r_loss: -0.7227 kl: 421.8980 aux_loss: 0.0000 beta 2.04e-04\n",
      "\n",
      "Train (3 6%) elbo: -0.7587 r_loss: -0.6159 kl: 349.9222 aux_loss: 0.0000 beta 4.08e-04\n",
      "Valid (3 6%) elbo: -0.6498 r_loss: -0.5142 kl: 332.2853 aux_loss: 0.0000 beta 4.08e-04\n",
      "\n",
      "Train (4 8%) elbo: -0.6721 r_loss: -0.4915 kl: 294.9413 aux_loss: 0.0000 beta 6.12e-04\n",
      "Valid (4 8%) elbo: -0.6186 r_loss: -0.4419 kl: 288.6174 aux_loss: 0.0000 beta 6.12e-04\n",
      "\n",
      "Train (5 10%) elbo: -0.6299 r_loss: -0.4166 kl: 261.3280 aux_loss: 0.0000 beta 8.16e-04\n",
      "Valid (5 10%) elbo: -0.6083 r_loss: -0.4037 kl: 250.6891 aux_loss: 0.0000 beta 8.16e-04\n",
      "\n",
      "Train (6 12%) elbo: -0.6088 r_loss: -0.3664 kl: 237.5409 aux_loss: 0.0000 beta 1.02e-03\n",
      "Valid (6 12%) elbo: -0.6078 r_loss: -0.3738 kl: 229.3120 aux_loss: 0.0000 beta 1.02e-03\n",
      "\n",
      "Train (7 14%) elbo: -0.6032 r_loss: -0.3387 kl: 216.0007 aux_loss: 0.0000 beta 1.22e-03\n",
      "Valid (7 14%) elbo: -0.6635 r_loss: -0.4016 kl: 213.8816 aux_loss: 0.0000 beta 1.22e-03\n",
      "\n",
      "Train (8 16%) elbo: -0.6083 r_loss: -0.3227 kl: 199.8774 aux_loss: 0.0000 beta 1.43e-03\n",
      "Valid (8 16%) elbo: -0.5707 r_loss: -0.2974 kl: 191.3235 aux_loss: 0.0000 beta 1.43e-03\n",
      "\n",
      "Train (9 18%) elbo: -0.6139 r_loss: -0.3102 kl: 186.0179 aux_loss: 0.0000 beta 1.63e-03\n",
      "Valid (9 18%) elbo: -0.5597 r_loss: -0.2731 kl: 175.5063 aux_loss: 0.0000 beta 1.63e-03\n",
      "\n",
      "Train (10 20%) elbo: -0.6205 r_loss: -0.3029 kl: 172.9136 aux_loss: 0.0000 beta 1.84e-03\n",
      "Valid (10 20%) elbo: -0.6727 r_loss: -0.3612 kl: 169.6263 aux_loss: 0.0000 beta 1.84e-03\n",
      "\n",
      "Train (11 22%) elbo: -0.6389 r_loss: -0.3060 kl: 163.0928 aux_loss: 0.0000 beta 2.04e-03\n",
      "Valid (11 22%) elbo: -0.6010 r_loss: -0.2817 kl: 156.4372 aux_loss: 0.0000 beta 2.04e-03\n",
      "\n",
      "Train (12 24%) elbo: -0.6482 r_loss: -0.3030 kl: 153.7661 aux_loss: 0.0000 beta 2.24e-03\n",
      "Valid (12 24%) elbo: -0.6380 r_loss: -0.3041 kl: 148.7339 aux_loss: 0.0000 beta 2.24e-03\n",
      "\n",
      "Train (13 26%) elbo: -0.6578 r_loss: -0.3008 kl: 145.7604 aux_loss: 0.0000 beta 2.45e-03\n",
      "Valid (13 26%) elbo: -0.6420 r_loss: -0.2934 kl: 142.3285 aux_loss: 0.0000 beta 2.45e-03\n",
      "\n",
      "Train (14 28%) elbo: -0.6724 r_loss: -0.3054 kl: 138.3353 aux_loss: 0.0000 beta 2.65e-03\n",
      "Valid (14 28%) elbo: -0.6808 r_loss: -0.3083 kl: 140.3911 aux_loss: 0.0000 beta 2.65e-03\n",
      "\n",
      "Train (15 30%) elbo: -0.6857 r_loss: -0.3069 kl: 132.5611 aux_loss: 0.0000 beta 2.86e-03\n",
      "Valid (15 30%) elbo: -0.6727 r_loss: -0.3044 kl: 128.9177 aux_loss: 0.0000 beta 2.86e-03\n",
      "\n",
      "Train (16 32%) elbo: -0.7030 r_loss: -0.3128 kl: 127.4696 aux_loss: 0.0000 beta 3.06e-03\n",
      "Valid (16 32%) elbo: -0.6898 r_loss: -0.3132 kl: 123.0183 aux_loss: 0.0000 beta 3.06e-03\n",
      "\n",
      "Train (17 34%) elbo: -0.7082 r_loss: -0.3121 kl: 121.2898 aux_loss: 0.0000 beta 3.27e-03\n",
      "Valid (17 34%) elbo: -0.7725 r_loss: -0.3724 kl: 122.5417 aux_loss: 0.0000 beta 3.27e-03\n",
      "\n",
      "Train (18 36%) elbo: -0.7263 r_loss: -0.3203 kl: 117.0095 aux_loss: 0.0000 beta 3.47e-03\n",
      "Valid (18 36%) elbo: -0.7020 r_loss: -0.2894 kl: 118.9322 aux_loss: 0.0000 beta 3.47e-03\n",
      "\n",
      "Train (19 38%) elbo: -0.7354 r_loss: -0.3214 kl: 112.6959 aux_loss: 0.0000 beta 3.67e-03\n",
      "Valid (19 38%) elbo: -0.6511 r_loss: -0.2596 kl: 106.5666 aux_loss: 0.0000 beta 3.67e-03\n",
      "\n",
      "Train (20 40%) elbo: -0.7416 r_loss: -0.3213 kl: 108.3851 aux_loss: 0.0000 beta 3.88e-03\n",
      "Epoch    19: reducing learning rate of group 0 to 5.0000e-05.\n",
      "Valid (20 40%) elbo: -0.6986 r_loss: -0.2864 kl: 106.2934 aux_loss: 0.0000 beta 3.88e-03\n",
      "\n",
      "Train (21 42%) elbo: -0.7626 r_loss: -0.3297 kl: 106.0717 aux_loss: 0.0000 beta 4.08e-03\n",
      "Valid (21 42%) elbo: -0.8116 r_loss: -0.3810 kl: 105.4856 aux_loss: 0.0000 beta 4.08e-03\n",
      "\n",
      "Train (22 44%) elbo: -0.7772 r_loss: -0.3344 kl: 103.3265 aux_loss: 0.0000 beta 4.29e-03\n",
      "Valid (22 44%) elbo: -0.8149 r_loss: -0.3740 kl: 102.8863 aux_loss: 0.0000 beta 4.29e-03\n",
      "\n",
      "Train (23 46%) elbo: -0.7945 r_loss: -0.3398 kl: 101.2818 aux_loss: 0.0000 beta 4.49e-03\n",
      "Valid (23 46%) elbo: -0.7921 r_loss: -0.3421 kl: 100.2204 aux_loss: 0.0000 beta 4.49e-03\n",
      "\n",
      "Train (24 48%) elbo: -0.8018 r_loss: -0.3373 kl: 98.9506 aux_loss: 0.0000 beta 4.69e-03\n",
      "Valid (24 48%) elbo: -0.8675 r_loss: -0.3943 kl: 100.8166 aux_loss: 0.0000 beta 4.69e-03\n",
      "\n",
      "Train (25 50%) elbo: -0.8235 r_loss: -0.3495 kl: 96.7678 aux_loss: 0.0000 beta 4.90e-03\n",
      "Valid (25 50%) elbo: -0.8395 r_loss: -0.3764 kl: 94.5574 aux_loss: 0.0000 beta 4.90e-03\n",
      "\n",
      "Train (26 52%) elbo: -0.8359 r_loss: -0.3569 kl: 93.8857 aux_loss: 0.0000 beta 5.10e-03\n",
      "Valid (26 52%) elbo: -0.7706 r_loss: -0.3265 kl: 87.0344 aux_loss: 0.0000 beta 5.10e-03\n",
      "\n",
      "Train (27 54%) elbo: -0.8470 r_loss: -0.3620 kl: 91.4005 aux_loss: 0.0000 beta 5.31e-03\n",
      "Valid (27 54%) elbo: -0.8916 r_loss: -0.4168 kl: 89.4896 aux_loss: 0.0000 beta 5.31e-03\n",
      "\n",
      "Train (28 56%) elbo: -0.8613 r_loss: -0.3701 kl: 89.1446 aux_loss: 0.0000 beta 5.51e-03\n",
      "Valid (28 56%) elbo: -0.8430 r_loss: -0.3484 kl: 89.7563 aux_loss: 0.0000 beta 5.51e-03\n",
      "\n",
      "Train (29 57%) elbo: -0.8713 r_loss: -0.3767 kl: 86.5601 aux_loss: 0.0000 beta 5.71e-03\n",
      "Valid (29 57%) elbo: -0.8597 r_loss: -0.3648 kl: 86.6012 aux_loss: 0.0000 beta 5.71e-03\n",
      "\n",
      "Train (30 60%) elbo: -0.8896 r_loss: -0.3858 kl: 85.1151 aux_loss: 0.0000 beta 5.92e-03\n",
      "Valid (30 60%) elbo: -0.9009 r_loss: -0.4324 kl: 79.1558 aux_loss: 0.0000 beta 5.92e-03\n",
      "\n",
      "Train (31 62%) elbo: -0.9002 r_loss: -0.3926 kl: 82.9150 aux_loss: 0.0000 beta 6.12e-03\n",
      "Valid (31 62%) elbo: -0.8811 r_loss: -0.3794 kl: 81.9421 aux_loss: 0.0000 beta 6.12e-03\n",
      "\n",
      "Train (32 64%) elbo: -0.9085 r_loss: -0.3980 kl: 80.6911 aux_loss: 0.0000 beta 6.33e-03\n",
      "Valid (32 64%) elbo: -0.8648 r_loss: -0.3690 kl: 78.3604 aux_loss: 0.0000 beta 6.33e-03\n",
      "\n",
      "Train (33 66%) elbo: -0.9192 r_loss: -0.4063 kl: 78.5351 aux_loss: 0.0000 beta 6.53e-03\n",
      "Valid (33 66%) elbo: -0.9563 r_loss: -0.4591 kl: 76.1294 aux_loss: 0.0000 beta 6.53e-03\n",
      "\n",
      "Train (34 68%) elbo: -0.9192 r_loss: -0.4021 kl: 76.7866 aux_loss: 0.0000 beta 6.73e-03\n",
      "Valid (34 68%) elbo: -0.8903 r_loss: -0.4177 kl: 70.1781 aux_loss: 0.0000 beta 6.73e-03\n",
      "\n",
      "Train (35 70%) elbo: -0.9402 r_loss: -0.4219 kl: 74.6914 aux_loss: 0.0000 beta 6.94e-03\n",
      "Valid (35 70%) elbo: -0.9462 r_loss: -0.4278 kl: 74.7088 aux_loss: 0.0000 beta 6.94e-03\n",
      "\n",
      "Train (36 72%) elbo: -0.9510 r_loss: -0.4267 kl: 73.4051 aux_loss: 0.0000 beta 7.14e-03\n",
      "Epoch    35: reducing learning rate of group 0 to 2.5000e-05.\n",
      "Valid (36 72%) elbo: -0.9426 r_loss: -0.4468 kl: 69.4096 aux_loss: 0.0000 beta 7.14e-03\n",
      "\n",
      "Train (37 74%) elbo: -0.9575 r_loss: -0.4261 kl: 72.3407 aux_loss: 0.0000 beta 7.35e-03\n",
      "Valid (37 74%) elbo: -0.9364 r_loss: -0.4324 kl: 68.6047 aux_loss: 0.0000 beta 7.35e-03\n",
      "\n",
      "Train (38 76%) elbo: -0.9673 r_loss: -0.4310 kl: 71.0280 aux_loss: 0.0000 beta 7.55e-03\n",
      "Valid (38 76%) elbo: -0.9284 r_loss: -0.3971 kl: 70.3611 aux_loss: 0.0000 beta 7.55e-03\n",
      "\n",
      "Train (39 78%) elbo: -0.9746 r_loss: -0.4357 kl: 69.4904 aux_loss: 0.0000 beta 7.76e-03\n",
      "Valid (39 78%) elbo: -0.9938 r_loss: -0.4748 kl: 66.9137 aux_loss: 0.0000 beta 7.76e-03\n",
      "\n",
      "Train (40 80%) elbo: -0.9858 r_loss: -0.4403 kl: 68.5358 aux_loss: 0.0000 beta 7.96e-03\n",
      "Valid (40 80%) elbo: -0.9439 r_loss: -0.4038 kl: 67.8631 aux_loss: 0.0000 beta 7.96e-03\n",
      "\n",
      "Train (41 82%) elbo: -1.0013 r_loss: -0.4488 kl: 67.6744 aux_loss: 0.0000 beta 8.16e-03\n",
      "Valid (41 82%) elbo: -0.9783 r_loss: -0.4115 kl: 69.4279 aux_loss: 0.0000 beta 8.16e-03\n",
      "\n",
      "Train (42 84%) elbo: -1.0080 r_loss: -0.4525 kl: 66.3830 aux_loss: 0.0000 beta 8.37e-03\n",
      "Valid (42 84%) elbo: -1.0942 r_loss: -0.5619 kl: 63.6241 aux_loss: 0.0000 beta 8.37e-03\n",
      "\n",
      "Train (43 86%) elbo: -1.0236 r_loss: -0.4614 kl: 65.5951 aux_loss: 0.0000 beta 8.57e-03\n",
      "Valid (43 86%) elbo: -1.0175 r_loss: -0.4596 kl: 65.0941 aux_loss: 0.0000 beta 8.57e-03\n",
      "\n",
      "Train (44 88%) elbo: -1.0294 r_loss: -0.4623 kl: 64.6226 aux_loss: 0.0000 beta 8.78e-03\n",
      "Valid (44 88%) elbo: -0.9560 r_loss: -0.3889 kl: 64.6303 aux_loss: 0.0000 beta 8.78e-03\n",
      "\n",
      "Train (45 90%) elbo: -1.0357 r_loss: -0.4677 kl: 63.2576 aux_loss: 0.0000 beta 8.98e-03\n",
      "Valid (45 90%) elbo: -1.1298 r_loss: -0.5675 kl: 62.6121 aux_loss: 0.0000 beta 8.98e-03\n",
      "\n",
      "Train (46 92%) elbo: -1.0456 r_loss: -0.4758 kl: 62.0404 aux_loss: 0.0000 beta 9.18e-03\n",
      "Valid (46 92%) elbo: -1.0557 r_loss: -0.4682 kl: 63.9774 aux_loss: 0.0000 beta 9.18e-03\n"
     ]
    },
    {
     "name": "stdout",
     "output_type": "stream",
     "text": [
      "\n",
      "Train (47 94%) elbo: -1.0633 r_loss: -0.4893 kl: 61.1460 aux_loss: 0.0000 beta 9.39e-03\n",
      "Valid (47 94%) elbo: -1.1284 r_loss: -0.5488 kl: 61.7450 aux_loss: 0.0000 beta 9.39e-03\n",
      "\n",
      "Train (48 96%) elbo: -1.0726 r_loss: -0.4925 kl: 60.4771 aux_loss: 0.0000 beta 9.59e-03\n",
      "Valid (48 96%) elbo: -1.0756 r_loss: -0.5071 kl: 59.2685 aux_loss: 0.0000 beta 9.59e-03\n",
      "\n",
      "Train (49 98%) elbo: -1.0731 r_loss: -0.4911 kl: 59.4214 aux_loss: 0.0000 beta 9.80e-03\n",
      "Valid (49 98%) elbo: -1.0996 r_loss: -0.5274 kl: 58.4187 aux_loss: 0.0000 beta 9.80e-03\n",
      "\n",
      "Train (50 100%) elbo: -1.0841 r_loss: -0.5027 kl: 58.1432 aux_loss: 0.0000 beta 1.00e-02\n",
      "Valid (50 100%) elbo: -1.0100 r_loss: -0.4392 kl: 57.0785 aux_loss: 0.0000 beta 1.00e-02\n"
     ]
    },
    {
     "data": {
      "image/png": "[encoded data removed]",
      "text/plain": [
       "<Figure size 432x288 with 1 Axes>"
      ]
     },
     "metadata": {},
     "output_type": "display_data"
    }
   ],
   "source": [
    "# use at least 50 iterations to get good results\n",
    "train(data_loader,valid_data_loader,model,optimizer,scheduler,loss_fn=nll_loss,kl_loss_fn=kl_loss_multi,n_iters=50,use_softmax=True,max_beta=1e-2,print_every=1,plot_pred=False)"
   ]
  },
  {
   "cell_type": "code",
   "execution_count": 6,
   "metadata": {},
   "outputs": [],
   "source": [
    "#torch.save(model.state_dict(),\"../../Saved_models/ToyDataset/RNNVAE_nll_map.pt\")"
   ]
  }
 ],
 "metadata": {
  "kernelspec": {
   "display_name": "Python 3",
   "language": "python",
   "name": "python3"
  },
  "language_info": {
   "codemirror_mode": {
    "name": "ipython",
    "version": 3
   },
   "file_extension": ".py",
   "mimetype": "text/x-python",
   "name": "python",
   "nbconvert_exporter": "python",
   "pygments_lexer": "ipython3",
   "version": "3.6.5"
  }
 },
 "nbformat": 4,
 "nbformat_minor": 2
}
