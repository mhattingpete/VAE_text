{
 "cells": [
  {
   "cell_type": "markdown",
   "metadata": {},
   "source": [
    "# Train script for Ladder VAE model"
   ]
  },
  {
   "cell_type": "markdown",
   "metadata": {},
   "source": [
    "### imports"
   ]
  },
  {
   "cell_type": "code",
   "execution_count": 1,
   "metadata": {},
   "outputs": [],
   "source": [
    "%matplotlib inline\n",
    "\n",
    "from torch.autograd import Variable\n",
    "from torch import optim\n",
    "from torch.utils.data import DataLoader\n",
    "import torch\n",
    "\n",
    "import sys\n",
    "sys.path.append(\"../../Modules\")\n",
    "sys.path.append(\"../../Datasets\")\n",
    "\n",
    "# local imports\n",
    "from train import train\n",
    "from helpers import nll_loss\n",
    "from models import LadderVAE\n",
    "from ToyDatasets.timeSeries import Sinusoids"
   ]
  },
  {
   "cell_type": "markdown",
   "metadata": {},
   "source": [
    "## Define dataset loader"
   ]
  },
  {
   "cell_type": "code",
   "execution_count": 2,
   "metadata": {},
   "outputs": [],
   "source": [
    "batch_size = 32\n",
    "num_steps = 16\n",
    "dataset_size = 5000\n",
    "num_classes = 10\n",
    "\n",
    "data_loader = DataLoader(Sinusoids(num_steps,virtual_size=dataset_size,quantization=num_classes),batch_size=batch_size,shuffle=True)\n",
    "valid_data_loader = DataLoader(Sinusoids(num_steps,virtual_size=dataset_size,quantization=num_classes),batch_size=batch_size,shuffle=True)\n",
    "\n",
    "batch_loader = iter(data_loader)\n",
    "valid_batch_loader = iter(valid_data_loader)"
   ]
  },
  {
   "cell_type": "markdown",
   "metadata": {},
   "source": [
    "## Define model"
   ]
  },
  {
   "cell_type": "code",
   "execution_count": 3,
   "metadata": {},
   "outputs": [
    {
     "name": "stdout",
     "output_type": "stream",
     "text": [
      "Number of trainable parameters 870026\n",
      "Forward pass succesfull\n"
     ]
    }
   ],
   "source": [
    "model = LadderVAE(input_size=1,hidden_sizes=[350,250,150],latent_sizes=[100,40,20],recon_hidden_size=256,output_size=num_classes,use_softmax=True)\n",
    "print(\"Number of trainable parameters {}\".format(sum(p.numel() for p in model.parameters() if p.requires_grad)))\n",
    "\n",
    "# test forward pass\n",
    "try:\n",
    "    initial_batch = batch_loader.next()\n",
    "    x = Variable(initial_batch).type(torch.FloatTensor).transpose(1,0)\n",
    "    test,_ = model(x)\n",
    "    assert (test.shape[0] == x.shape[0] and test.shape[1] == x.shape[1] and test.shape[2] == num_classes)\n",
    "    print(\"Forward pass succesfull\")\n",
    "except:\n",
    "    print(\"Error in forward pass. Output should have shape: {} but had {}\".format(x.contiguous().view(-1).shape,test.view(-1).shape))"
   ]
  },
  {
   "cell_type": "markdown",
   "metadata": {},
   "source": [
    "## Define optimizer and loss"
   ]
  },
  {
   "cell_type": "code",
   "execution_count": 4,
   "metadata": {},
   "outputs": [],
   "source": [
    "learning_rate = 1e-4\n",
    "optimizer = optim.Adam(model.parameters(),lr=learning_rate,weight_decay=1e-3)\n",
    "scheduler = optim.lr_scheduler.ReduceLROnPlateau(optimizer,mode=\"min\",factor=0.5,verbose=True,cooldown=200)"
   ]
  },
  {
   "cell_type": "markdown",
   "metadata": {},
   "source": [
    "## Run trainer"
   ]
  },
  {
   "cell_type": "code",
   "execution_count": 5,
   "metadata": {
    "scrolled": false
   },
   "outputs": [
    {
     "name": "stdout",
     "output_type": "stream",
     "text": [
      "\n",
      "Train (1 2%) elbo: -1.6605 r_loss: -1.6605 kl: 939.3771 aux_loss: 0.0000 beta 0.00e+00\n",
      "Valid (1 2%) elbo: -1.1942 r_loss: -1.1942 kl: 1862.4470 aux_loss: 0.0000 beta 0.00e+00\n",
      "\n",
      "Train (2 4%) elbo: -1.0346 r_loss: -0.9094 kl: 613.6066 aux_loss: 0.0000 beta 2.04e-04\n",
      "Valid (2 4%) elbo: -0.8128 r_loss: -0.7327 kl: 392.2246 aux_loss: 0.0000 beta 2.04e-04\n",
      "\n",
      "Train (3 6%) elbo: -0.7733 r_loss: -0.6456 kl: 312.8633 aux_loss: 0.0000 beta 4.08e-04\n",
      "Valid (3 6%) elbo: -0.6707 r_loss: -0.5519 kl: 290.9831 aux_loss: 0.0000 beta 4.08e-04\n",
      "\n",
      "Train (4 8%) elbo: -0.6757 r_loss: -0.5221 kl: 250.9794 aux_loss: 0.0000 beta 6.12e-04\n",
      "Valid (4 8%) elbo: -0.5217 r_loss: -0.3869 kl: 220.2866 aux_loss: 0.0000 beta 6.12e-04\n",
      "\n",
      "Train (5 10%) elbo: -0.6132 r_loss: -0.4386 kl: 213.8837 aux_loss: 0.0000 beta 8.16e-04\n",
      "Valid (5 10%) elbo: -0.4447 r_loss: -0.2955 kl: 182.8190 aux_loss: 0.0000 beta 8.16e-04\n",
      "\n",
      "Train (6 12%) elbo: -0.5412 r_loss: -0.3458 kl: 191.4766 aux_loss: 0.0000 beta 1.02e-03\n",
      "Valid (6 12%) elbo: -0.4169 r_loss: -0.2255 kl: 187.6506 aux_loss: 0.0000 beta 1.02e-03\n",
      "\n",
      "Train (7 14%) elbo: -0.5510 r_loss: -0.3267 kl: 183.2146 aux_loss: 0.0000 beta 1.22e-03\n",
      "Valid (7 14%) elbo: -0.4241 r_loss: -0.1986 kl: 184.1305 aux_loss: 0.0000 beta 1.22e-03\n",
      "\n",
      "Train (8 16%) elbo: -0.5221 r_loss: -0.2788 kl: 170.3082 aux_loss: 0.0000 beta 1.43e-03\n",
      "Valid (8 16%) elbo: -0.4276 r_loss: -0.1829 kl: 171.3472 aux_loss: 0.0000 beta 1.43e-03\n",
      "\n",
      "Train (9 18%) elbo: -0.5080 r_loss: -0.2496 kl: 158.2851 aux_loss: 0.0000 beta 1.63e-03\n",
      "Valid (9 18%) elbo: -0.4197 r_loss: -0.1693 kl: 153.3900 aux_loss: 0.0000 beta 1.63e-03\n",
      "\n",
      "Train (10 20%) elbo: -0.4942 r_loss: -0.2199 kl: 149.3437 aux_loss: 0.0000 beta 1.84e-03\n",
      "Valid (10 20%) elbo: -0.3771 r_loss: -0.1273 kl: 135.9810 aux_loss: 0.0000 beta 1.84e-03\n",
      "\n",
      "Train (11 22%) elbo: -0.4926 r_loss: -0.2099 kl: 138.4919 aux_loss: 0.0000 beta 2.04e-03\n",
      "Valid (11 22%) elbo: -0.4260 r_loss: -0.1424 kl: 138.9380 aux_loss: 0.0000 beta 2.04e-03\n",
      "\n",
      "Train (12 24%) elbo: -0.4767 r_loss: -0.1848 kl: 130.0357 aux_loss: 0.0000 beta 2.24e-03\n",
      "Valid (12 24%) elbo: -0.3977 r_loss: -0.1243 kl: 121.7812 aux_loss: 0.0000 beta 2.24e-03\n",
      "\n",
      "Train (13 26%) elbo: -0.4824 r_loss: -0.1838 kl: 121.9299 aux_loss: 0.0000 beta 2.45e-03\n",
      "Valid (13 26%) elbo: -0.3677 r_loss: -0.0813 kl: 116.9460 aux_loss: 0.0000 beta 2.45e-03\n",
      "\n",
      "Train (14 28%) elbo: -0.4850 r_loss: -0.1785 kl: 115.5044 aux_loss: 0.0000 beta 2.65e-03\n",
      "Valid (14 28%) elbo: -0.4098 r_loss: -0.1132 kl: 111.7856 aux_loss: 0.0000 beta 2.65e-03\n",
      "\n",
      "Train (15 30%) elbo: -0.4664 r_loss: -0.1561 kl: 108.6155 aux_loss: 0.0000 beta 2.86e-03\n",
      "Valid (15 30%) elbo: -0.3601 r_loss: -0.0698 kl: 101.6353 aux_loss: 0.0000 beta 2.86e-03\n",
      "\n",
      "Train (16 32%) elbo: -0.4794 r_loss: -0.1669 kl: 102.0754 aux_loss: 0.0000 beta 3.06e-03\n",
      "Valid (16 32%) elbo: -0.4921 r_loss: -0.1604 kl: 108.3254 aux_loss: 0.0000 beta 3.06e-03\n",
      "\n",
      "Train (17 34%) elbo: -0.4484 r_loss: -0.1429 kl: 93.5814 aux_loss: 0.0000 beta 3.27e-03\n",
      "Valid (17 34%) elbo: -0.3559 r_loss: -0.0810 kl: 84.1681 aux_loss: 0.0000 beta 3.27e-03\n",
      "\n",
      "Train (18 36%) elbo: -0.4474 r_loss: -0.1431 kl: 87.7196 aux_loss: 0.0000 beta 3.47e-03\n",
      "Valid (18 36%) elbo: -0.3590 r_loss: -0.0845 kl: 79.1170 aux_loss: 0.0000 beta 3.47e-03\n",
      "\n",
      "Train (19 38%) elbo: -0.4165 r_loss: -0.1178 kl: 81.3032 aux_loss: 0.0000 beta 3.67e-03\n",
      "Valid (19 38%) elbo: -0.4378 r_loss: -0.1395 kl: 81.1924 aux_loss: 0.0000 beta 3.67e-03\n",
      "\n",
      "Train (20 40%) elbo: -0.4156 r_loss: -0.1134 kl: 77.9328 aux_loss: 0.0000 beta 3.88e-03\n",
      "Valid (20 40%) elbo: -0.3584 r_loss: -0.0753 kl: 72.9984 aux_loss: 0.0000 beta 3.88e-03\n",
      "\n",
      "Train (21 42%) elbo: -0.4149 r_loss: -0.1115 kl: 74.3297 aux_loss: 0.0000 beta 4.08e-03\n",
      "Valid (21 42%) elbo: -0.3262 r_loss: -0.0517 kl: 67.2591 aux_loss: 0.0000 beta 4.08e-03\n",
      "\n",
      "Train (22 44%) elbo: -0.4115 r_loss: -0.1072 kl: 71.0013 aux_loss: 0.0000 beta 4.29e-03\n",
      "Valid (22 44%) elbo: -0.3547 r_loss: -0.0585 kl: 69.1058 aux_loss: 0.0000 beta 4.29e-03\n",
      "\n",
      "Train (23 46%) elbo: -0.4189 r_loss: -0.1096 kl: 68.8916 aux_loss: 0.0000 beta 4.49e-03\n",
      "Valid (23 46%) elbo: -0.4472 r_loss: -0.1531 kl: 65.5102 aux_loss: 0.0000 beta 4.49e-03\n",
      "\n",
      "Train (24 48%) elbo: -0.4223 r_loss: -0.1091 kl: 66.7285 aux_loss: 0.0000 beta 4.69e-03\n",
      "Valid (24 48%) elbo: -0.4202 r_loss: -0.1101 kl: 66.0492 aux_loss: 0.0000 beta 4.69e-03\n",
      "\n",
      "Train (25 50%) elbo: -0.4145 r_loss: -0.0976 kl: 64.7030 aux_loss: 0.0000 beta 4.90e-03\n",
      "Valid (25 50%) elbo: -0.3807 r_loss: -0.0808 kl: 61.2233 aux_loss: 0.0000 beta 4.90e-03\n",
      "\n",
      "Train (26 52%) elbo: -0.4249 r_loss: -0.1012 kl: 63.4479 aux_loss: 0.0000 beta 5.10e-03\n",
      "Valid (26 52%) elbo: -0.3962 r_loss: -0.0824 kl: 61.4899 aux_loss: 0.0000 beta 5.10e-03\n",
      "\n",
      "Train (27 54%) elbo: -0.4345 r_loss: -0.0991 kl: 63.2041 aux_loss: 0.0000 beta 5.31e-03\n",
      "Valid (27 54%) elbo: -0.4130 r_loss: -0.1073 kl: 57.6156 aux_loss: 0.0000 beta 5.31e-03\n",
      "\n",
      "Train (28 56%) elbo: -0.4505 r_loss: -0.1079 kl: 62.1916 aux_loss: 0.0000 beta 5.51e-03\n",
      "Valid (28 56%) elbo: -0.3972 r_loss: -0.0682 kl: 59.7033 aux_loss: 0.0000 beta 5.51e-03\n",
      "\n",
      "Train (29 57%) elbo: -0.4387 r_loss: -0.0915 kl: 60.7484 aux_loss: 0.0000 beta 5.71e-03\n",
      "Valid (29 57%) elbo: -0.3872 r_loss: -0.0405 kl: 60.6827 aux_loss: 0.0000 beta 5.71e-03\n",
      "\n",
      "Train (30 60%) elbo: -0.4587 r_loss: -0.1002 kl: 60.5690 aux_loss: 0.0000 beta 5.92e-03\n",
      "Valid (30 60%) elbo: -0.4257 r_loss: -0.0432 kl: 64.6443 aux_loss: 0.0000 beta 5.92e-03\n",
      "\n",
      "Train (31 62%) elbo: -0.4704 r_loss: -0.1034 kl: 59.9335 aux_loss: 0.0000 beta 6.12e-03\n",
      "Valid (31 62%) elbo: -0.4179 r_loss: -0.0683 kl: 57.0918 aux_loss: 0.0000 beta 6.12e-03\n",
      "\n",
      "Train (32 64%) elbo: -0.4702 r_loss: -0.0991 kl: 58.6477 aux_loss: 0.0000 beta 6.33e-03\n",
      "Epoch    31: reducing learning rate of group 0 to 5.0000e-05.\n",
      "Valid (32 64%) elbo: -0.4508 r_loss: -0.1036 kl: 54.8841 aux_loss: 0.0000 beta 6.33e-03\n",
      "\n",
      "Train (33 66%) elbo: -0.4666 r_loss: -0.0928 kl: 57.2399 aux_loss: 0.0000 beta 6.53e-03\n",
      "Valid (33 66%) elbo: -0.4337 r_loss: -0.0636 kl: 56.6641 aux_loss: 0.0000 beta 6.53e-03\n",
      "\n",
      "Train (34 68%) elbo: -0.4693 r_loss: -0.0911 kl: 56.1534 aux_loss: 0.0000 beta 6.73e-03\n",
      "Valid (34 68%) elbo: -0.4356 r_loss: -0.0703 kl: 54.2368 aux_loss: 0.0000 beta 6.73e-03\n",
      "\n",
      "Train (35 70%) elbo: -0.4944 r_loss: -0.1046 kl: 56.1897 aux_loss: 0.0000 beta 6.94e-03\n",
      "Valid (35 70%) elbo: -0.4286 r_loss: -0.0581 kl: 53.3956 aux_loss: 0.0000 beta 6.94e-03\n",
      "\n",
      "Train (36 72%) elbo: -0.4844 r_loss: -0.0902 kl: 55.1847 aux_loss: 0.0000 beta 7.14e-03\n",
      "Valid (36 72%) elbo: -0.4931 r_loss: -0.1243 kl: 51.6446 aux_loss: 0.0000 beta 7.14e-03\n",
      "\n",
      "Train (37 74%) elbo: -0.4997 r_loss: -0.0965 kl: 54.8888 aux_loss: 0.0000 beta 7.35e-03\n",
      "Valid (37 74%) elbo: -0.4289 r_loss: -0.0608 kl: 50.0965 aux_loss: 0.0000 beta 7.35e-03\n",
      "\n",
      "Train (38 76%) elbo: -0.5183 r_loss: -0.1068 kl: 54.4913 aux_loss: 0.0000 beta 7.55e-03\n",
      "Valid (38 76%) elbo: -0.4565 r_loss: -0.0775 kl: 50.1832 aux_loss: 0.0000 beta 7.55e-03\n",
      "\n",
      "Train (39 78%) elbo: -0.5160 r_loss: -0.0995 kl: 53.6971 aux_loss: 0.0000 beta 7.76e-03\n",
      "Valid (39 78%) elbo: -0.4828 r_loss: -0.0841 kl: 51.4132 aux_loss: 0.0000 beta 7.76e-03\n",
      "\n",
      "Train (40 80%) elbo: -0.5347 r_loss: -0.1121 kl: 53.0984 aux_loss: 0.0000 beta 7.96e-03\n",
      "Valid (40 80%) elbo: -0.4972 r_loss: -0.1193 kl: 47.4805 aux_loss: 0.0000 beta 7.96e-03\n",
      "\n",
      "Train (41 82%) elbo: -0.5352 r_loss: -0.1058 kl: 52.6025 aux_loss: 0.0000 beta 8.16e-03\n",
      "Valid (41 82%) elbo: -0.5105 r_loss: -0.0822 kl: 52.4662 aux_loss: 0.0000 beta 8.16e-03\n",
      "\n",
      "Train (42 84%) elbo: -0.5507 r_loss: -0.1107 kl: 52.5854 aux_loss: 0.0000 beta 8.37e-03\n",
      "Valid (42 84%) elbo: -0.5216 r_loss: -0.1093 kl: 49.2732 aux_loss: 0.0000 beta 8.37e-03\n",
      "\n",
      "Train (43 86%) elbo: -0.5564 r_loss: -0.1104 kl: 52.0285 aux_loss: 0.0000 beta 8.57e-03\n",
      "Valid (43 86%) elbo: -0.4992 r_loss: -0.0763 kl: 49.3400 aux_loss: 0.0000 beta 8.57e-03\n",
      "\n",
      "Train (44 88%) elbo: -0.5535 r_loss: -0.1027 kl: 51.3757 aux_loss: 0.0000 beta 8.78e-03\n",
      "Valid (44 88%) elbo: -0.5390 r_loss: -0.1253 kl: 47.1476 aux_loss: 0.0000 beta 8.78e-03\n",
      "\n",
      "Train (45 90%) elbo: -0.5690 r_loss: -0.1094 kl: 51.1908 aux_loss: 0.0000 beta 8.98e-03\n",
      "Valid (45 90%) elbo: -0.5076 r_loss: -0.0805 kl: 47.5610 aux_loss: 0.0000 beta 8.98e-03\n",
      "\n",
      "Train (46 92%) elbo: -0.5779 r_loss: -0.1128 kl: 50.6389 aux_loss: 0.0000 beta 9.18e-03\n",
      "Valid (46 92%) elbo: -0.5575 r_loss: -0.1002 kl: 49.7952 aux_loss: 0.0000 beta 9.18e-03\n"
     ]
    },
    {
     "name": "stdout",
     "output_type": "stream",
     "text": [
      "\n",
      "Train (47 94%) elbo: -0.5851 r_loss: -0.1143 kl: 50.1538 aux_loss: 0.0000 beta 9.39e-03\n",
      "Valid (47 94%) elbo: -0.5152 r_loss: -0.0758 kl: 46.8070 aux_loss: 0.0000 beta 9.39e-03\n",
      "\n",
      "Train (48 96%) elbo: -0.5975 r_loss: -0.1184 kl: 49.9533 aux_loss: 0.0000 beta 9.59e-03\n",
      "Valid (48 96%) elbo: -0.5365 r_loss: -0.1058 kl: 44.9010 aux_loss: 0.0000 beta 9.59e-03\n",
      "\n",
      "Train (49 98%) elbo: -0.6115 r_loss: -0.1249 kl: 49.6695 aux_loss: 0.0000 beta 9.80e-03\n",
      "Valid (49 98%) elbo: -0.5604 r_loss: -0.1016 kl: 46.8392 aux_loss: 0.0000 beta 9.80e-03\n",
      "\n",
      "Train (50 100%) elbo: -0.6236 r_loss: -0.1296 kl: 49.4020 aux_loss: 0.0000 beta 1.00e-02\n",
      "Valid (50 100%) elbo: -0.5886 r_loss: -0.1240 kl: 46.4611 aux_loss: 0.0000 beta 1.00e-02\n"
     ]
    },
    {
     "data": {
      "image/png": "[encoded data removed]",
      "text/plain": [
       "<Figure size 432x288 with 1 Axes>"
      ]
     },
     "metadata": {},
     "output_type": "display_data"
    }
   ],
   "source": [
    "# use at least 50 iterations to get good results\n",
    "train(data_loader,valid_data_loader,model,optimizer,scheduler,loss_fn=nll_loss,kl_loss_fn=None,n_iters=50,use_softmax=True,max_beta=1e-2,print_every=1,plot_pred=False)"
   ]
  },
  {
   "cell_type": "code",
   "execution_count": 6,
   "metadata": {},
   "outputs": [],
   "source": [
    "#torch.save(model.state_dict(),\"../../Saved_models/ToyDataset/LadderVAE_nll_best.pt\")"
   ]
  },
  {
   "cell_type": "markdown",
   "metadata": {},
   "source": [
    "## Model results:\n",
    "\n",
    "### Model 1\n",
    "with the following settings: \n",
    "\n",
    "hidden_sizes=[256,128,64], latent_sizes=[32,16,8], recon_hidden_size=128, with 279940 trainable parameters\n",
    "\n",
    "| Dataset | ELBO | nll | kl | beta |\n",
    "|:-------------:|:-------------:|:-------------:|:-------------:|:-------------:|\n",
    "| Train | -0.4809 | -0.1179 | 36.2942 | 1e-2 |\n",
    "| Valid | -0.4773| -0.1227 | 35.4518 | 1e-2 |\n",
    "\n",
    "### Model 2\n",
    "with the following settings: \n",
    "\n",
    "hidden_sizes=[256,128,64], latent_sizes=[64,32,16], recon_hidden_size=128, with 357044 trainable parameters\n",
    "\n",
    "| Dataset | ELBO | nll | kl | beta |\n",
    "|:-------------:|:-------------:|:-------------:|:-------------:|:-------------:|\n",
    "| Train | -0.4754 | -0.0587 | 41.6707 | 1e-2 |\n",
    "| Valid | -0.4530| -0.0471 | 40.5872 | 1e-2 |\n"
   ]
  }
 ],
 "metadata": {
  "kernelspec": {
   "display_name": "Python 3",
   "language": "python",
   "name": "python3"
  },
  "language_info": {
   "codemirror_mode": {
    "name": "ipython",
    "version": 3
   },
   "file_extension": ".py",
   "mimetype": "text/x-python",
   "name": "python",
   "nbconvert_exporter": "python",
   "pygments_lexer": "ipython3",
   "version": "3.6.5"
  }
 },
 "nbformat": 4,
 "nbformat_minor": 2
}
