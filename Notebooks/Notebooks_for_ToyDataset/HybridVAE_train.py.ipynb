{
 "cells": [
  {
   "cell_type": "markdown",
   "metadata": {},
   "source": [
    "# Train script for Hybrid VAE model"
   ]
  },
  {
   "cell_type": "markdown",
   "metadata": {},
   "source": [
    "### imports"
   ]
  },
  {
   "cell_type": "code",
   "execution_count": 1,
   "metadata": {},
   "outputs": [],
   "source": [
    "%matplotlib inline\n",
    "\n",
    "from torch.autograd import Variable\n",
    "from torch import optim\n",
    "from torch.utils.data import DataLoader\n",
    "import torch\n",
    "\n",
    "import sys\n",
    "sys.path.append(\"../../Modules\")\n",
    "sys.path.append(\"../../Datasets\")\n",
    "\n",
    "# local imports\n",
    "from train import train\n",
    "from helpers import kl_loss,nll_loss,mse_loss,kl_loss_multi\n",
    "from models import HybridVAESmall\n",
    "from ToyDatasets.timeSeries import Sinusoids"
   ]
  },
  {
   "cell_type": "markdown",
   "metadata": {},
   "source": [
    "## Define dataset loader"
   ]
  },
  {
   "cell_type": "code",
   "execution_count": 2,
   "metadata": {},
   "outputs": [],
   "source": [
    "batch_size = 32\n",
    "num_steps = 16\n",
    "dataset_size = 5000\n",
    "num_classes = 10\n",
    "\n",
    "data_loader = DataLoader(Sinusoids(num_steps,virtual_size=dataset_size,quantization=num_classes),batch_size=batch_size,shuffle=True)\n",
    "valid_data_loader = DataLoader(Sinusoids(num_steps,virtual_size=dataset_size,quantization=num_classes),batch_size=batch_size,shuffle=True)\n",
    "\n",
    "batch_loader = iter(data_loader)\n",
    "valid_batch_loader = iter(valid_data_loader)"
   ]
  },
  {
   "cell_type": "markdown",
   "metadata": {},
   "source": [
    "## Define model"
   ]
  },
  {
   "cell_type": "code",
   "execution_count": 3,
   "metadata": {},
   "outputs": [
    {
     "name": "stdout",
     "output_type": "stream",
     "text": [
      "Number of trainable parameters 833848\n",
      "Forward pass succesfull\n"
     ]
    }
   ],
   "source": [
    "model = HybridVAESmall(input_size=1,conv_size=150,rnn_size=150,latent_size=64,output_size=num_classes,use_softmax=True)\n",
    "print(\"Number of trainable parameters {}\".format(sum(p.numel() for p in model.parameters() if p.requires_grad)))\n",
    "\n",
    "# test forward pass\n",
    "try:\n",
    "    initial_batch = batch_loader.next()\n",
    "    x = Variable(initial_batch).type(torch.FloatTensor).transpose(1,0)\n",
    "    test,_,_ = model(x)\n",
    "    assert (test.shape[0] == x.shape[0] and test.shape[1] == x.shape[1] and test.shape[2] == num_classes)\n",
    "    print(\"Forward pass succesfull\")\n",
    "except:\n",
    "    print(\"Error in forward pass. Output should have shape: {} but had {}\".format(x.contiguous().view(-1).shape,test.view(-1).shape))"
   ]
  },
  {
   "cell_type": "markdown",
   "metadata": {},
   "source": [
    "## Define optimizer and loss"
   ]
  },
  {
   "cell_type": "code",
   "execution_count": 4,
   "metadata": {},
   "outputs": [],
   "source": [
    "learning_rate = 1e-4\n",
    "optimizer = optim.Adam(model.parameters(),lr=learning_rate,weight_decay=1e-3)\n",
    "scheduler = optim.lr_scheduler.ReduceLROnPlateau(optimizer,mode=\"min\",factor=0.5,verbose=True,cooldown=5)"
   ]
  },
  {
   "cell_type": "markdown",
   "metadata": {},
   "source": [
    "## Run trainer"
   ]
  },
  {
   "cell_type": "code",
   "execution_count": 5,
   "metadata": {
    "scrolled": false
   },
   "outputs": [
    {
     "name": "stdout",
     "output_type": "stream",
     "text": [
      "\n",
      "Train (1 2%) elbo: -2.5627 r_loss: -1.9559 kl: 1049.8873 aux_loss: -2.0229 beta 0.00e+00\n",
      "Valid (1 2%) elbo: -2.1474 r_loss: -1.6657 kl: 4020.1809 aux_loss: -1.6056 beta 0.00e+00\n",
      "\n",
      "Train (2 4%) elbo: -2.0462 r_loss: -1.4953 kl: 586.3840 aux_loss: -1.4373 beta 2.04e-04\n",
      "Valid (2 4%) elbo: -1.9409 r_loss: -1.4391 kl: 434.4148 aux_loss: -1.3769 beta 2.04e-04\n",
      "\n",
      "Train (3 6%) elbo: -1.5874 r_loss: -1.1542 kl: 259.3317 aux_loss: -1.0909 beta 4.08e-04\n",
      "Valid (3 6%) elbo: -1.5490 r_loss: -1.1135 kl: 268.1347 aux_loss: -1.0869 beta 4.08e-04\n",
      "\n",
      "Train (4 8%) elbo: -1.2609 r_loss: -0.8791 kl: 202.0116 aux_loss: -0.8604 beta 6.12e-04\n",
      "Valid (4 8%) elbo: -1.1454 r_loss: -0.7962 kl: 194.8960 aux_loss: -0.7661 beta 6.12e-04\n",
      "\n",
      "Train (5 10%) elbo: -1.1503 r_loss: -0.7716 kl: 171.5564 aux_loss: -0.7955 beta 8.16e-04\n",
      "Valid (5 10%) elbo: -1.0881 r_loss: -0.7120 kl: 201.6970 aux_loss: -0.7048 beta 8.16e-04\n",
      "\n",
      "Train (6 12%) elbo: -1.0515 r_loss: -0.6835 kl: 152.6744 aux_loss: -0.7076 beta 1.02e-03\n",
      "Valid (6 12%) elbo: -1.0363 r_loss: -0.6689 kl: 138.5702 aux_loss: -0.7536 beta 1.02e-03\n",
      "\n",
      "Train (7 14%) elbo: -1.0487 r_loss: -0.6649 kl: 139.3024 aux_loss: -0.7110 beta 1.22e-03\n",
      "Valid (7 14%) elbo: -1.2611 r_loss: -0.8236 kl: 137.8875 aux_loss: -0.8954 beta 1.22e-03\n",
      "\n",
      "Train (8 16%) elbo: -1.0024 r_loss: -0.6191 kl: 128.8364 aux_loss: -0.6641 beta 1.43e-03\n",
      "Valid (8 16%) elbo: -0.9424 r_loss: -0.5694 kl: 134.0322 aux_loss: -0.6051 beta 1.43e-03\n",
      "\n",
      "Train (9 18%) elbo: -1.0136 r_loss: -0.6168 kl: 119.1715 aux_loss: -0.6741 beta 1.63e-03\n",
      "Valid (9 18%) elbo: -0.9717 r_loss: -0.6134 kl: 95.2768 aux_loss: -0.6758 beta 1.63e-03\n",
      "\n",
      "Train (10 20%) elbo: -0.9953 r_loss: -0.5961 kl: 110.4888 aux_loss: -0.6544 beta 1.84e-03\n",
      "Valid (10 20%) elbo: -1.1322 r_loss: -0.7107 kl: 94.9639 aux_loss: -0.8237 beta 1.84e-03\n",
      "\n",
      "Train (11 22%) elbo: -0.9932 r_loss: -0.5903 kl: 101.0498 aux_loss: -0.6556 beta 2.04e-03\n",
      "Valid (11 22%) elbo: -1.0898 r_loss: -0.6776 kl: 94.9292 aux_loss: -0.7281 beta 2.04e-03\n",
      "\n",
      "Train (12 24%) elbo: -0.9699 r_loss: -0.5650 kl: 96.1849 aux_loss: -0.6300 beta 2.24e-03\n",
      "Valid (12 24%) elbo: -0.9334 r_loss: -0.5549 kl: 90.3731 aux_loss: -0.5856 beta 2.24e-03\n",
      "\n",
      "Train (13 26%) elbo: -0.9835 r_loss: -0.5685 kl: 91.2443 aux_loss: -0.6386 beta 2.45e-03\n",
      "Valid (13 26%) elbo: -0.8509 r_loss: -0.4830 kl: 87.0426 aux_loss: -0.5156 beta 2.45e-03\n",
      "\n",
      "Train (14 28%) elbo: -0.9887 r_loss: -0.5682 kl: 85.7353 aux_loss: -0.6437 beta 2.65e-03\n",
      "Valid (14 28%) elbo: -0.9247 r_loss: -0.5376 kl: 74.6297 aux_loss: -0.6303 beta 2.65e-03\n",
      "\n",
      "Train (15 30%) elbo: -0.9607 r_loss: -0.5472 kl: 79.7148 aux_loss: -0.6192 beta 2.86e-03\n",
      "Valid (15 30%) elbo: -1.2038 r_loss: -0.7338 kl: 82.7877 aux_loss: -0.7785 beta 2.86e-03\n",
      "\n",
      "Train (16 32%) elbo: -0.9724 r_loss: -0.5472 kl: 77.4888 aux_loss: -0.6264 beta 3.06e-03\n",
      "Valid (16 32%) elbo: -1.0287 r_loss: -0.5845 kl: 81.4589 aux_loss: -0.6497 beta 3.06e-03\n",
      "\n",
      "Train (17 34%) elbo: -0.9591 r_loss: -0.5335 kl: 74.2960 aux_loss: -0.6101 beta 3.27e-03\n",
      "Valid (17 34%) elbo: -0.9174 r_loss: -0.4951 kl: 75.5688 aux_loss: -0.5851 beta 3.27e-03\n",
      "\n",
      "Train (18 36%) elbo: -0.9738 r_loss: -0.5383 kl: 72.0397 aux_loss: -0.6183 beta 3.47e-03\n",
      "Valid (18 36%) elbo: -0.8507 r_loss: -0.4389 kl: 73.7192 aux_loss: -0.5203 beta 3.47e-03\n",
      "\n",
      "Train (19 38%) elbo: -0.9666 r_loss: -0.5287 kl: 69.5157 aux_loss: -0.6086 beta 3.67e-03\n",
      "Valid (19 38%) elbo: -0.9781 r_loss: -0.5324 kl: 70.8780 aux_loss: -0.6178 beta 3.67e-03\n",
      "\n",
      "Train (20 40%) elbo: -0.9824 r_loss: -0.5396 kl: 66.1866 aux_loss: -0.6205 beta 3.88e-03\n",
      "Valid (20 40%) elbo: -0.9272 r_loss: -0.5096 kl: 62.5548 aux_loss: -0.5833 beta 3.88e-03\n",
      "\n",
      "Train (21 42%) elbo: -0.9788 r_loss: -0.5337 kl: 63.9537 aux_loss: -0.6136 beta 4.08e-03\n",
      "Valid (21 42%) elbo: -0.9032 r_loss: -0.4920 kl: 59.7866 aux_loss: -0.5574 beta 4.08e-03\n",
      "\n",
      "Train (22 44%) elbo: -0.9822 r_loss: -0.5333 kl: 61.7841 aux_loss: -0.6140 beta 4.29e-03\n",
      "Valid (22 44%) elbo: -1.0961 r_loss: -0.6177 kl: 65.7077 aux_loss: -0.6560 beta 4.29e-03\n",
      "\n",
      "Train (23 46%) elbo: -0.9700 r_loss: -0.5219 kl: 59.4390 aux_loss: -0.6041 beta 4.49e-03\n",
      "Valid (23 46%) elbo: -1.0029 r_loss: -0.5288 kl: 64.9045 aux_loss: -0.6091 beta 4.49e-03\n",
      "\n",
      "Train (24 48%) elbo: -0.9738 r_loss: -0.5197 kl: 58.3701 aux_loss: -0.6004 beta 4.69e-03\n",
      "Valid (24 48%) elbo: -1.0200 r_loss: -0.5676 kl: 53.0026 aux_loss: -0.6787 beta 4.69e-03\n",
      "\n",
      "Train (25 50%) elbo: -0.9752 r_loss: -0.5161 kl: 57.2373 aux_loss: -0.5957 beta 4.90e-03\n",
      "Valid (25 50%) elbo: -0.9794 r_loss: -0.5165 kl: 56.3061 aux_loss: -0.6235 beta 4.90e-03\n",
      "\n",
      "Train (26 52%) elbo: -0.9753 r_loss: -0.5147 kl: 55.2514 aux_loss: -0.5958 beta 5.10e-03\n",
      "Valid (26 52%) elbo: -0.9498 r_loss: -0.5078 kl: 52.4142 aux_loss: -0.5819 beta 5.10e-03\n",
      "\n",
      "Train (27 54%) elbo: -0.9843 r_loss: -0.5162 kl: 54.3169 aux_loss: -0.5997 beta 5.31e-03\n",
      "Valid (27 54%) elbo: -0.9790 r_loss: -0.4904 kl: 58.7560 aux_loss: -0.5895 beta 5.31e-03\n",
      "\n",
      "Train (28 56%) elbo: -0.9878 r_loss: -0.5173 kl: 52.9195 aux_loss: -0.5962 beta 5.51e-03\n",
      "Valid (28 56%) elbo: -1.0773 r_loss: -0.5814 kl: 52.8280 aux_loss: -0.6826 beta 5.51e-03\n",
      "\n",
      "Train (29 57%) elbo: -0.9920 r_loss: -0.5180 kl: 51.6258 aux_loss: -0.5965 beta 5.71e-03\n",
      "Epoch    28: reducing learning rate of group 0 to 5.0000e-05.\n",
      "Valid (29 57%) elbo: -1.0871 r_loss: -0.5818 kl: 53.4037 aux_loss: -0.6670 beta 5.71e-03\n",
      "\n",
      "Train (30 60%) elbo: -0.9697 r_loss: -0.4949 kl: 51.1189 aux_loss: -0.5743 beta 5.92e-03\n",
      "Valid (30 60%) elbo: -0.9082 r_loss: -0.4506 kl: 49.7692 aux_loss: -0.5436 beta 5.92e-03\n",
      "\n",
      "Train (31 62%) elbo: -0.9730 r_loss: -0.4934 kl: 50.1623 aux_loss: -0.5751 beta 6.12e-03\n",
      "Valid (31 62%) elbo: -1.0253 r_loss: -0.5389 kl: 51.5410 aux_loss: -0.5696 beta 6.12e-03\n",
      "\n",
      "Train (32 64%) elbo: -0.9814 r_loss: -0.4950 kl: 49.6025 aux_loss: -0.5751 beta 6.33e-03\n",
      "Valid (32 64%) elbo: -1.0595 r_loss: -0.5542 kl: 49.9020 aux_loss: -0.6321 beta 6.33e-03\n",
      "\n",
      "Train (33 66%) elbo: -0.9943 r_loss: -0.5018 kl: 48.7292 aux_loss: -0.5808 beta 6.53e-03\n",
      "Valid (33 66%) elbo: -0.9268 r_loss: -0.4419 kl: 49.5862 aux_loss: -0.5370 beta 6.53e-03\n",
      "\n",
      "Train (34 68%) elbo: -1.0039 r_loss: -0.5033 kl: 48.4748 aux_loss: -0.5806 beta 6.73e-03\n",
      "Valid (34 68%) elbo: -0.8964 r_loss: -0.4374 kl: 45.5234 aux_loss: -0.5078 beta 6.73e-03\n",
      "\n",
      "Train (35 70%) elbo: -0.9940 r_loss: -0.4939 kl: 47.3655 aux_loss: -0.5714 beta 6.94e-03\n",
      "Valid (35 70%) elbo: -1.0517 r_loss: -0.5298 kl: 47.8467 aux_loss: -0.6330 beta 6.94e-03\n",
      "\n",
      "Train (36 72%) elbo: -1.0117 r_loss: -0.5005 kl: 47.2386 aux_loss: -0.5790 beta 7.14e-03\n",
      "Valid (36 72%) elbo: -1.0403 r_loss: -0.5330 kl: 46.1958 aux_loss: -0.5910 beta 7.14e-03\n",
      "\n",
      "Train (37 74%) elbo: -1.0230 r_loss: -0.5078 kl: 46.2699 aux_loss: -0.5844 beta 7.35e-03\n",
      "Valid (37 74%) elbo: -1.0331 r_loss: -0.5296 kl: 44.0923 aux_loss: -0.5986 beta 7.35e-03\n",
      "\n",
      "Train (38 76%) elbo: -1.0206 r_loss: -0.5006 kl: 45.9058 aux_loss: -0.5779 beta 7.55e-03\n",
      "Valid (38 76%) elbo: -1.0300 r_loss: -0.5191 kl: 44.4596 aux_loss: -0.5839 beta 7.55e-03\n",
      "\n",
      "Train (39 78%) elbo: -1.0371 r_loss: -0.5111 kl: 45.0600 aux_loss: -0.5886 beta 7.76e-03\n",
      "Valid (39 78%) elbo: -0.9963 r_loss: -0.4884 kl: 43.0083 aux_loss: -0.5815 beta 7.76e-03\n",
      "\n",
      "Train (40 80%) elbo: -1.0341 r_loss: -0.5084 kl: 44.0469 aux_loss: -0.5838 beta 7.96e-03\n",
      "Valid (40 80%) elbo: -1.0720 r_loss: -0.5406 kl: 45.1664 aux_loss: -0.5729 beta 7.96e-03\n",
      "\n",
      "Train (41 82%) elbo: -1.0425 r_loss: -0.5108 kl: 43.4932 aux_loss: -0.5887 beta 8.16e-03\n",
      "Valid (41 82%) elbo: -0.9137 r_loss: -0.4060 kl: 44.5209 aux_loss: -0.4810 beta 8.16e-03\n",
      "\n",
      "Train (42 84%) elbo: -1.0471 r_loss: -0.5111 kl: 43.0205 aux_loss: -0.5867 beta 8.37e-03\n",
      "Valid (42 84%) elbo: -0.9503 r_loss: -0.4366 kl: 43.8329 aux_loss: -0.4899 beta 8.37e-03\n",
      "\n",
      "Train (43 86%) elbo: -1.0481 r_loss: -0.5096 kl: 42.3658 aux_loss: -0.5843 beta 8.57e-03\n",
      "Valid (43 86%) elbo: -1.0633 r_loss: -0.5203 kl: 42.3031 aux_loss: -0.6014 beta 8.57e-03\n",
      "\n",
      "Train (44 88%) elbo: -1.0537 r_loss: -0.5110 kl: 41.8410 aux_loss: -0.5849 beta 8.78e-03\n",
      "Valid (44 88%) elbo: -1.0754 r_loss: -0.5344 kl: 40.8044 aux_loss: -0.6097 beta 8.78e-03\n",
      "\n",
      "Train (45 90%) elbo: -1.0621 r_loss: -0.5134 kl: 41.5160 aux_loss: -0.5864 beta 8.98e-03\n",
      "Epoch    44: reducing learning rate of group 0 to 2.5000e-05.\n",
      "Valid (45 90%) elbo: -0.9741 r_loss: -0.4523 kl: 39.8576 aux_loss: -0.5464 beta 8.98e-03\n",
      "\n",
      "Train (46 92%) elbo: -1.0518 r_loss: -0.5010 kl: 41.1214 aux_loss: -0.5772 beta 9.18e-03\n",
      "Valid (46 92%) elbo: -1.0348 r_loss: -0.4874 kl: 41.2203 aux_loss: -0.5628 beta 9.18e-03\n"
     ]
    },
    {
     "name": "stdout",
     "output_type": "stream",
     "text": [
      "\n",
      "Train (47 94%) elbo: -1.0726 r_loss: -0.5133 kl: 40.8075 aux_loss: -0.5870 beta 9.39e-03\n",
      "Valid (47 94%) elbo: -1.1366 r_loss: -0.5590 kl: 41.2298 aux_loss: -0.6351 beta 9.39e-03\n",
      "\n",
      "Train (48 96%) elbo: -1.0697 r_loss: -0.5079 kl: 40.4032 aux_loss: -0.5809 beta 9.59e-03\n",
      "Valid (48 96%) elbo: -1.0752 r_loss: -0.5241 kl: 38.8667 aux_loss: -0.5943 beta 9.59e-03\n",
      "\n",
      "Train (49 98%) elbo: -1.0738 r_loss: -0.5093 kl: 39.7639 aux_loss: -0.5831 beta 9.80e-03\n",
      "Valid (49 98%) elbo: -1.1062 r_loss: -0.5353 kl: 39.3943 aux_loss: -0.6167 beta 9.80e-03\n",
      "\n",
      "Train (50 100%) elbo: -1.0783 r_loss: -0.5092 kl: 39.3977 aux_loss: -0.5838 beta 1.00e-02\n",
      "Valid (50 100%) elbo: -1.2902 r_loss: -0.6674 kl: 39.9032 aux_loss: -0.7458 beta 1.00e-02\n"
     ]
    },
    {
     "data": {
      "image/png": "[encoded data removed]",
      "text/plain": [
       "<Figure size 432x288 with 1 Axes>"
      ]
     },
     "metadata": {},
     "output_type": "display_data"
    }
   ],
   "source": [
    "# use at least 50 iterations to get good results\n",
    "train(data_loader,valid_data_loader,model,optimizer,scheduler,loss_fn=nll_loss,kl_loss_fn=kl_loss,n_iters=50,use_softmax=True,max_beta=1e-2,print_every=1,plot_pred=False)"
   ]
  },
  {
   "cell_type": "code",
   "execution_count": 6,
   "metadata": {},
   "outputs": [],
   "source": [
    "#torch.save(model.state_dict(),\"Saved_models/HybridVAE_nll.pt\")"
   ]
  }
 ],
 "metadata": {
  "kernelspec": {
   "display_name": "Python 3",
   "language": "python",
   "name": "python3"
  },
  "language_info": {
   "codemirror_mode": {
    "name": "ipython",
    "version": 3
   },
   "file_extension": ".py",
   "mimetype": "text/x-python",
   "name": "python",
   "nbconvert_exporter": "python",
   "pygments_lexer": "ipython3",
   "version": "3.6.5"
  }
 },
 "nbformat": 4,
 "nbformat_minor": 2
}
