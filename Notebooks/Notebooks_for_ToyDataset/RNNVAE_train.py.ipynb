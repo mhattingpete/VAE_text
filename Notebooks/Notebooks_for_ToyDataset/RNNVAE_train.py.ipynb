{
 "cells": [
  {
   "cell_type": "markdown",
   "metadata": {},
   "source": [
    "# Train script for RNN VAE model"
   ]
  },
  {
   "cell_type": "markdown",
   "metadata": {},
   "source": [
    "### imports"
   ]
  },
  {
   "cell_type": "code",
   "execution_count": 1,
   "metadata": {},
   "outputs": [],
   "source": [
    "%matplotlib inline\n",
    "\n",
    "from torch.autograd import Variable\n",
    "from torch import optim\n",
    "from torch.utils.data import DataLoader\n",
    "import torch\n",
    "\n",
    "import sys\n",
    "sys.path.append(\"../../Modules\")\n",
    "sys.path.append(\"../../Datasets\")\n",
    "\n",
    "# local imports\n",
    "from train import train\n",
    "from helpers import kl_loss,nll_loss,mse_loss,kl_loss_multi\n",
    "from models import RNNVAE\n",
    "from ToyDatasets.timeSeries import Sinusoids"
   ]
  },
  {
   "cell_type": "markdown",
   "metadata": {},
   "source": [
    "## Define dataset loader"
   ]
  },
  {
   "cell_type": "code",
   "execution_count": 2,
   "metadata": {},
   "outputs": [],
   "source": [
    "batch_size = 32\n",
    "num_steps = 16\n",
    "dataset_size = 5000\n",
    "num_classes = 10\n",
    "\n",
    "data_loader = DataLoader(Sinusoids(num_steps,virtual_size=dataset_size,quantization=num_classes),batch_size=batch_size,shuffle=True)\n",
    "valid_data_loader = DataLoader(Sinusoids(num_steps,virtual_size=dataset_size,quantization=num_classes),batch_size=batch_size,shuffle=True)\n",
    "\n",
    "batch_loader = iter(data_loader)\n",
    "valid_batch_loader = iter(valid_data_loader)"
   ]
  },
  {
   "cell_type": "markdown",
   "metadata": {},
   "source": [
    "## Define model"
   ]
  },
  {
   "cell_type": "code",
   "execution_count": 3,
   "metadata": {},
   "outputs": [
    {
     "name": "stdout",
     "output_type": "stream",
     "text": [
      "Number of trainable parameters 646538\n",
      "Forward pass succesfull\n"
     ]
    }
   ],
   "source": [
    "model = RNNVAE(input_size=1,rnn_size=256,latent_size=64,output_size=num_classes,use_softmax=True)\n",
    "print(\"Number of trainable parameters {}\".format(sum(p.numel() for p in model.parameters() if p.requires_grad)))\n",
    "\n",
    "# test forward pass\n",
    "try:\n",
    "    initial_batch = batch_loader.next()\n",
    "    x = Variable(initial_batch).type(torch.FloatTensor).transpose(1,0)\n",
    "    test,_ = model(x)\n",
    "    assert (test.shape[0] == x.shape[0] and test.shape[1] == x.shape[1] and test.shape[2] == num_classes)\n",
    "    print(\"Forward pass succesfull\")\n",
    "except:\n",
    "    print(\"Error in forward pass. Output should have shape: {} but had {}\".format(x.contiguous().view(-1).shape,test.view(-1).shape))"
   ]
  },
  {
   "cell_type": "markdown",
   "metadata": {},
   "source": [
    "## Define optimizer and loss"
   ]
  },
  {
   "cell_type": "code",
   "execution_count": 4,
   "metadata": {},
   "outputs": [],
   "source": [
    "learning_rate = 1e-4\n",
    "optimizer = optim.Adam(model.parameters(),lr=learning_rate,weight_decay=1e-3)\n",
    "scheduler = optim.lr_scheduler.ReduceLROnPlateau(optimizer,mode=\"min\",factor=0.5,verbose=True,cooldown=5)"
   ]
  },
  {
   "cell_type": "markdown",
   "metadata": {},
   "source": [
    "## Run trainer"
   ]
  },
  {
   "cell_type": "code",
   "execution_count": 5,
   "metadata": {
    "scrolled": false
   },
   "outputs": [
    {
     "name": "stdout",
     "output_type": "stream",
     "text": [
      "\n",
      "Train (1 2%) elbo: -2.1489 r_loss: -2.1489 kl: 5.5071 aux_loss: 0.0000 beta 0.00e+00\n",
      "Valid (1 2%) elbo: -2.0463 r_loss: -2.0463 kl: 10.2999 aux_loss: 0.0000 beta 0.00e+00\n",
      "\n",
      "Train (2 4%) elbo: -1.9153 r_loss: -1.9123 kl: 14.7741 aux_loss: 0.0000 beta 2.04e-04\n",
      "Valid (2 4%) elbo: -2.0242 r_loss: -2.0200 kl: 20.9142 aux_loss: 0.0000 beta 2.04e-04\n",
      "\n",
      "Train (3 6%) elbo: -1.6155 r_loss: -1.5981 kl: 42.6120 aux_loss: 0.0000 beta 4.08e-04\n",
      "Valid (3 6%) elbo: -1.6692 r_loss: -1.6453 kl: 58.3501 aux_loss: 0.0000 beta 4.08e-04\n",
      "\n",
      "Train (4 8%) elbo: -1.4763 r_loss: -1.4447 kl: 51.6202 aux_loss: 0.0000 beta 6.12e-04\n",
      "Valid (4 8%) elbo: -1.5058 r_loss: -1.4765 kl: 47.7811 aux_loss: 0.0000 beta 6.12e-04\n",
      "\n",
      "Train (5 10%) elbo: -1.4167 r_loss: -1.3754 kl: 50.5020 aux_loss: 0.0000 beta 8.16e-04\n",
      "Valid (5 10%) elbo: -1.2894 r_loss: -1.2461 kl: 53.0239 aux_loss: 0.0000 beta 8.16e-04\n",
      "\n",
      "Train (6 12%) elbo: -1.3204 r_loss: -1.2701 kl: 49.2993 aux_loss: 0.0000 beta 1.02e-03\n",
      "Valid (6 12%) elbo: -1.3720 r_loss: -1.3308 kl: 40.4263 aux_loss: 0.0000 beta 1.02e-03\n",
      "\n",
      "Train (7 14%) elbo: -1.2336 r_loss: -1.1727 kl: 49.7038 aux_loss: 0.0000 beta 1.22e-03\n",
      "Valid (7 14%) elbo: -1.3116 r_loss: -1.2495 kl: 50.7579 aux_loss: 0.0000 beta 1.22e-03\n",
      "\n",
      "Train (8 16%) elbo: -1.1304 r_loss: -1.0597 kl: 49.4596 aux_loss: 0.0000 beta 1.43e-03\n",
      "Valid (8 16%) elbo: -1.0276 r_loss: -0.9427 kl: 59.4248 aux_loss: 0.0000 beta 1.43e-03\n",
      "\n",
      "Train (9 18%) elbo: -1.0492 r_loss: -0.9644 kl: 51.9692 aux_loss: 0.0000 beta 1.63e-03\n",
      "Valid (9 18%) elbo: -0.9673 r_loss: -0.8661 kl: 61.9637 aux_loss: 0.0000 beta 1.63e-03\n",
      "\n",
      "Train (10 20%) elbo: -0.9696 r_loss: -0.8669 kl: 55.9154 aux_loss: 0.0000 beta 1.84e-03\n",
      "Valid (10 20%) elbo: -0.9705 r_loss: -0.8633 kl: 58.3376 aux_loss: 0.0000 beta 1.84e-03\n",
      "\n",
      "Train (11 22%) elbo: -0.9321 r_loss: -0.8157 kl: 57.0773 aux_loss: 0.0000 beta 2.04e-03\n",
      "Valid (11 22%) elbo: -0.9527 r_loss: -0.8402 kl: 55.1111 aux_loss: 0.0000 beta 2.04e-03\n",
      "\n",
      "Train (12 24%) elbo: -0.8954 r_loss: -0.7653 kl: 57.9559 aux_loss: 0.0000 beta 2.24e-03\n",
      "Valid (12 24%) elbo: -0.8532 r_loss: -0.7315 kl: 54.2048 aux_loss: 0.0000 beta 2.24e-03\n",
      "\n",
      "Train (13 26%) elbo: -0.8801 r_loss: -0.7403 kl: 57.0765 aux_loss: 0.0000 beta 2.45e-03\n",
      "Valid (13 26%) elbo: -0.9050 r_loss: -0.7724 kl: 54.1542 aux_loss: 0.0000 beta 2.45e-03\n",
      "\n",
      "Train (14 28%) elbo: -0.8735 r_loss: -0.7234 kl: 56.5808 aux_loss: 0.0000 beta 2.65e-03\n",
      "Valid (14 28%) elbo: -0.9191 r_loss: -0.7669 kl: 57.3497 aux_loss: 0.0000 beta 2.65e-03\n",
      "\n",
      "Train (15 30%) elbo: -0.8603 r_loss: -0.7000 kl: 56.1036 aux_loss: 0.0000 beta 2.86e-03\n",
      "Valid (15 30%) elbo: -0.8627 r_loss: -0.7070 kl: 54.4902 aux_loss: 0.0000 beta 2.86e-03\n",
      "\n",
      "Train (16 32%) elbo: -0.8540 r_loss: -0.6867 kl: 54.6403 aux_loss: 0.0000 beta 3.06e-03\n",
      "Valid (16 32%) elbo: -0.8394 r_loss: -0.6587 kl: 58.9973 aux_loss: 0.0000 beta 3.06e-03\n",
      "\n",
      "Train (17 34%) elbo: -0.8498 r_loss: -0.6746 kl: 53.6689 aux_loss: 0.0000 beta 3.27e-03\n",
      "Valid (17 34%) elbo: -0.8637 r_loss: -0.6955 kl: 51.4895 aux_loss: 0.0000 beta 3.27e-03\n",
      "\n",
      "Train (18 36%) elbo: -0.8404 r_loss: -0.6574 kl: 52.7570 aux_loss: 0.0000 beta 3.47e-03\n",
      "Valid (18 36%) elbo: -0.8466 r_loss: -0.6724 kl: 50.2124 aux_loss: 0.0000 beta 3.47e-03\n",
      "\n",
      "Train (19 38%) elbo: -0.8495 r_loss: -0.6613 kl: 51.2211 aux_loss: 0.0000 beta 3.67e-03\n",
      "Valid (19 38%) elbo: -0.8376 r_loss: -0.6314 kl: 56.1509 aux_loss: 0.0000 beta 3.67e-03\n",
      "\n",
      "Train (20 40%) elbo: -0.8433 r_loss: -0.6472 kl: 50.5797 aux_loss: 0.0000 beta 3.88e-03\n",
      "Valid (20 40%) elbo: -0.7974 r_loss: -0.6114 kl: 47.9856 aux_loss: 0.0000 beta 3.88e-03\n",
      "\n",
      "Train (21 42%) elbo: -0.8494 r_loss: -0.6506 kl: 48.7086 aux_loss: 0.0000 beta 4.08e-03\n",
      "Valid (21 42%) elbo: -0.8299 r_loss: -0.6299 kl: 48.9998 aux_loss: 0.0000 beta 4.08e-03\n",
      "\n",
      "Train (22 44%) elbo: -0.8489 r_loss: -0.6455 kl: 47.4549 aux_loss: 0.0000 beta 4.29e-03\n",
      "Valid (22 44%) elbo: -0.7731 r_loss: -0.5644 kl: 48.6992 aux_loss: 0.0000 beta 4.29e-03\n",
      "\n",
      "Train (23 46%) elbo: -0.8526 r_loss: -0.6435 kl: 46.5640 aux_loss: 0.0000 beta 4.49e-03\n",
      "Valid (23 46%) elbo: -0.9029 r_loss: -0.6953 kl: 46.2505 aux_loss: 0.0000 beta 4.49e-03\n",
      "\n",
      "Train (24 48%) elbo: -0.8563 r_loss: -0.6430 kl: 45.4541 aux_loss: 0.0000 beta 4.69e-03\n",
      "Valid (24 48%) elbo: -0.8674 r_loss: -0.6506 kl: 46.1870 aux_loss: 0.0000 beta 4.69e-03\n",
      "\n",
      "Train (25 50%) elbo: -0.8600 r_loss: -0.6415 kl: 44.6116 aux_loss: 0.0000 beta 4.90e-03\n",
      "Valid (25 50%) elbo: -0.7766 r_loss: -0.5477 kl: 46.7305 aux_loss: 0.0000 beta 4.90e-03\n",
      "\n",
      "Train (26 52%) elbo: -0.8524 r_loss: -0.6282 kl: 43.9507 aux_loss: 0.0000 beta 5.10e-03\n",
      "Valid (26 52%) elbo: -0.8924 r_loss: -0.6693 kl: 43.7346 aux_loss: 0.0000 beta 5.10e-03\n",
      "\n",
      "Train (27 54%) elbo: -0.8591 r_loss: -0.6300 kl: 43.1639 aux_loss: 0.0000 beta 5.31e-03\n",
      "Valid (27 54%) elbo: -0.8329 r_loss: -0.5787 kl: 47.9046 aux_loss: 0.0000 beta 5.31e-03\n",
      "\n",
      "Train (28 56%) elbo: -0.8670 r_loss: -0.6353 kl: 42.0421 aux_loss: 0.0000 beta 5.51e-03\n",
      "Valid (28 56%) elbo: -0.8761 r_loss: -0.6290 kl: 44.8378 aux_loss: 0.0000 beta 5.51e-03\n",
      "\n",
      "Train (29 57%) elbo: -0.8758 r_loss: -0.6408 kl: 41.1381 aux_loss: 0.0000 beta 5.71e-03\n",
      "Valid (29 57%) elbo: -0.8152 r_loss: -0.5693 kl: 43.0191 aux_loss: 0.0000 beta 5.71e-03\n",
      "\n",
      "Train (30 60%) elbo: -0.8690 r_loss: -0.6306 kl: 40.2792 aux_loss: 0.0000 beta 5.92e-03\n",
      "Valid (30 60%) elbo: -0.7917 r_loss: -0.5512 kl: 40.6401 aux_loss: 0.0000 beta 5.92e-03\n",
      "\n",
      "Train (31 62%) elbo: -0.8875 r_loss: -0.6459 kl: 39.4713 aux_loss: 0.0000 beta 6.12e-03\n",
      "Valid (31 62%) elbo: -0.9221 r_loss: -0.6977 kl: 36.6602 aux_loss: 0.0000 beta 6.12e-03\n",
      "\n",
      "Train (32 64%) elbo: -0.8878 r_loss: -0.6442 kl: 38.5091 aux_loss: 0.0000 beta 6.33e-03\n",
      "Valid (32 64%) elbo: -0.8778 r_loss: -0.6320 kl: 38.8537 aux_loss: 0.0000 beta 6.33e-03\n",
      "\n",
      "Train (33 66%) elbo: -0.8888 r_loss: -0.6398 kl: 38.1147 aux_loss: 0.0000 beta 6.53e-03\n",
      "Epoch    32: reducing learning rate of group 0 to 5.0000e-05.\n",
      "Valid (33 66%) elbo: -0.9157 r_loss: -0.6822 kl: 35.7662 aux_loss: 0.0000 beta 6.53e-03\n",
      "\n",
      "Train (34 68%) elbo: -0.8718 r_loss: -0.6164 kl: 37.9169 aux_loss: 0.0000 beta 6.73e-03\n",
      "Valid (34 68%) elbo: -0.8555 r_loss: -0.5969 kl: 38.3951 aux_loss: 0.0000 beta 6.73e-03\n",
      "\n",
      "Train (35 70%) elbo: -0.8829 r_loss: -0.6243 kl: 37.2619 aux_loss: 0.0000 beta 6.94e-03\n",
      "Valid (35 70%) elbo: -0.9729 r_loss: -0.7195 kl: 36.5248 aux_loss: 0.0000 beta 6.94e-03\n",
      "\n",
      "Train (36 72%) elbo: -0.8859 r_loss: -0.6217 kl: 36.9930 aux_loss: 0.0000 beta 7.14e-03\n",
      "Valid (36 72%) elbo: -0.8117 r_loss: -0.5498 kl: 36.6650 aux_loss: 0.0000 beta 7.14e-03\n",
      "\n",
      "Train (37 74%) elbo: -0.8907 r_loss: -0.6226 kl: 36.5004 aux_loss: 0.0000 beta 7.35e-03\n",
      "Valid (37 74%) elbo: -0.8420 r_loss: -0.5732 kl: 36.5859 aux_loss: 0.0000 beta 7.35e-03\n",
      "\n",
      "Train (38 76%) elbo: -0.9065 r_loss: -0.6317 kl: 36.3888 aux_loss: 0.0000 beta 7.55e-03\n",
      "Valid (38 76%) elbo: -0.9408 r_loss: -0.6594 kl: 37.2679 aux_loss: 0.0000 beta 7.55e-03\n",
      "\n",
      "Train (39 78%) elbo: -0.9007 r_loss: -0.6235 kl: 35.7404 aux_loss: 0.0000 beta 7.76e-03\n",
      "Valid (39 78%) elbo: -0.9770 r_loss: -0.7178 kl: 33.4192 aux_loss: 0.0000 beta 7.76e-03\n",
      "\n",
      "Train (40 80%) elbo: -0.9015 r_loss: -0.6197 kl: 35.4061 aux_loss: 0.0000 beta 7.96e-03\n",
      "Valid (40 80%) elbo: -0.9729 r_loss: -0.6932 kl: 35.1453 aux_loss: 0.0000 beta 7.96e-03\n",
      "\n",
      "Train (41 82%) elbo: -0.9234 r_loss: -0.6375 kl: 35.0198 aux_loss: 0.0000 beta 8.16e-03\n",
      "Valid (41 82%) elbo: -0.9687 r_loss: -0.6779 kl: 35.6280 aux_loss: 0.0000 beta 8.16e-03\n",
      "\n",
      "Train (42 84%) elbo: -0.9241 r_loss: -0.6357 kl: 34.4632 aux_loss: 0.0000 beta 8.37e-03\n",
      "Valid (42 84%) elbo: -0.8925 r_loss: -0.6024 kl: 34.6742 aux_loss: 0.0000 beta 8.37e-03\n",
      "\n",
      "Train (43 86%) elbo: -0.9268 r_loss: -0.6353 kl: 34.0049 aux_loss: 0.0000 beta 8.57e-03\n",
      "Valid (43 86%) elbo: -0.9088 r_loss: -0.6108 kl: 34.7673 aux_loss: 0.0000 beta 8.57e-03\n",
      "\n",
      "Train (44 88%) elbo: -0.9262 r_loss: -0.6321 kl: 33.5163 aux_loss: 0.0000 beta 8.78e-03\n",
      "Valid (44 88%) elbo: -0.8513 r_loss: -0.5486 kl: 34.4970 aux_loss: 0.0000 beta 8.78e-03\n",
      "\n",
      "Train (45 90%) elbo: -0.9317 r_loss: -0.6324 kl: 33.3315 aux_loss: 0.0000 beta 8.98e-03\n",
      "Valid (45 90%) elbo: -0.8869 r_loss: -0.5813 kl: 34.0266 aux_loss: 0.0000 beta 8.98e-03\n",
      "\n",
      "Train (46 92%) elbo: -0.9514 r_loss: -0.6502 kl: 32.7941 aux_loss: 0.0000 beta 9.18e-03\n",
      "Valid (46 92%) elbo: -0.9215 r_loss: -0.6296 kl: 31.7845 aux_loss: 0.0000 beta 9.18e-03\n",
      "\n",
      "Train (47 94%) elbo: -0.9422 r_loss: -0.6375 kl: 32.4581 aux_loss: 0.0000 beta 9.39e-03\n",
      "Valid (47 94%) elbo: -0.9128 r_loss: -0.6075 kl: 32.5224 aux_loss: 0.0000 beta 9.39e-03\n"
     ]
    },
    {
     "name": "stdout",
     "output_type": "stream",
     "text": [
      "\n",
      "Train (48 96%) elbo: -0.9482 r_loss: -0.6399 kl: 32.1395 aux_loss: 0.0000 beta 9.59e-03\n",
      "Valid (48 96%) elbo: -0.9785 r_loss: -0.6533 kl: 33.9015 aux_loss: 0.0000 beta 9.59e-03\n",
      "\n",
      "Train (49 98%) elbo: -0.9488 r_loss: -0.6377 kl: 31.7519 aux_loss: 0.0000 beta 9.80e-03\n",
      "Epoch    48: reducing learning rate of group 0 to 2.5000e-05.\n",
      "Valid (49 98%) elbo: -1.0120 r_loss: -0.6884 kl: 33.0368 aux_loss: 0.0000 beta 9.80e-03\n",
      "\n",
      "Train (50 100%) elbo: -0.9576 r_loss: -0.6446 kl: 31.3031 aux_loss: 0.0000 beta 1.00e-02\n",
      "Valid (50 100%) elbo: -0.8941 r_loss: -0.5785 kl: 31.5606 aux_loss: 0.0000 beta 1.00e-02\n"
     ]
    },
    {
     "data": {
      "image/png": "[encoded data removed]",
      "text/plain": [
       "<Figure size 432x288 with 1 Axes>"
      ]
     },
     "metadata": {},
     "output_type": "display_data"
    },
    {
     "data": {
      "image/png": "[encoded data removed]",
      "text/plain": [
       "<Figure size 432x288 with 8 Axes>"
      ]
     },
     "metadata": {},
     "output_type": "display_data"
    },
    {
     "data": {
      "image/png": "[encoded data removed]",
      "text/plain": [
       "<Figure size 432x288 with 32 Axes>"
      ]
     },
     "metadata": {},
     "output_type": "display_data"
    }
   ],
   "source": [
    "# use at least 50 iterations to get good results\n",
    "train(data_loader,valid_batch_loader,model,optimizer,scheduler,nll_loss,kl_loss,n_iters=50,use_softmax=True,print_every=1,plot_pred=True)"
   ]
  },
  {
   "cell_type": "code",
   "execution_count": 9,
   "metadata": {},
   "outputs": [],
   "source": [
    "torch.save(model.state_dict(),\"../../Saved_models/ToyDataset/RNNVAE_nll.pt\")"
   ]
  }
 ],
 "metadata": {
  "kernelspec": {
   "display_name": "Python 3",
   "language": "python",
   "name": "python3"
  },
  "language_info": {
   "codemirror_mode": {
    "name": "ipython",
    "version": 3
   },
   "file_extension": ".py",
   "mimetype": "text/x-python",
   "name": "python",
   "nbconvert_exporter": "python",
   "pygments_lexer": "ipython3",
   "version": "3.6.5"
  }
 },
 "nbformat": 4,
 "nbformat_minor": 2
}
