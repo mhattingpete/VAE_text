{
 "cells": [
  {
   "cell_type": "markdown",
   "metadata": {},
   "source": [
    "# Sample script for Hybrid VAE model"
   ]
  },
  {
   "cell_type": "markdown",
   "metadata": {},
   "source": [
    "### imports"
   ]
  },
  {
   "cell_type": "code",
   "execution_count": 1,
   "metadata": {},
   "outputs": [],
   "source": [
    "%matplotlib inline\n",
    "\n",
    "from torch.autograd import Variable\n",
    "from torch.utils.data import DataLoader\n",
    "import torch\n",
    "import matplotlib.pyplot as plt\n",
    "import numpy as np\n",
    "\n",
    "import sys\n",
    "sys.path.append(\"../../Modules\")\n",
    "sys.path.append(\"../../Datasets\")\n",
    "\n",
    "# local imports\n",
    "from visualize import printText\n",
    "from models import LadderCNNVAE\n",
    "from babelDatasets.sentiment140 import Sentiment140\n",
    "from babelDatasets.utils import padding_merge"
   ]
  },
  {
   "cell_type": "markdown",
   "metadata": {},
   "source": [
    "## Define dataset loader"
   ]
  },
  {
   "cell_type": "code",
   "execution_count": 2,
   "metadata": {},
   "outputs": [
    {
     "name": "stdout",
     "output_type": "stream",
     "text": [
      "# N sents: 52990  train: False  sentences_path: ../../Datasets/Data/test_sentences.txt\n"
     ]
    }
   ],
   "source": [
    "batch_size = 32\n",
    "\n",
    "dataset = Sentiment140(data_directory=\"../../Datasets/Data\",train=False,max_sentence_size=32)\n",
    "data_loader = DataLoader(dataset,batch_size=batch_size,shuffle=True,collate_fn=padding_merge)\n",
    "\n",
    "num_classes = 82\n",
    "\n",
    "batch_loader = iter(data_loader)\n",
    "# input has shape [batch_size,seq_len,1]"
   ]
  },
  {
   "cell_type": "markdown",
   "metadata": {},
   "source": [
    "## Define and load model"
   ]
  },
  {
   "cell_type": "code",
   "execution_count": 12,
   "metadata": {},
   "outputs": [],
   "source": [
    "model = LadderCNNVAE(input_size=1,hidden_sizes=[512,256,128],latent_sizes=[64,32,16],recon_hidden_size=256,output_size=num_classes,use_softmax=True)\n",
    "model.eval()\n",
    "model.load_state_dict(torch.load(\"../../Saved_models/Sentiment140/LCNNVAE_nll_map.pt\"))\n",
    "\n",
    "model_big = LadderCNNVAE(input_size=1,hidden_sizes=[512,256,128,64,32],latent_sizes=[128,64,32,16,8],recon_hidden_size=256,output_size=num_classes,use_softmax=True)\n",
    "model_big.eval()\n",
    "model_big.load_state_dict(torch.load(\"../../Saved_models/Sentiment140/LCNNVAE_nll_map_5l.pt\"))"
   ]
  },
  {
   "cell_type": "markdown",
   "metadata": {},
   "source": [
    "## Collect some samples and plot\n",
    "\n",
    "Please note that this is not a reconstruction of \"true\" those are just to compare how some random samples from the dataset look like. And the samples below is new samples generated from the model"
   ]
  },
  {
   "cell_type": "code",
   "execution_count": 18,
   "metadata": {},
   "outputs": [],
   "source": [
    "def sampleCompare(batch_loader,model,data_decoder):\n",
    "    sampled_data = {\"x\":[],\"recon_x\":[]}\n",
    "    try:\n",
    "        batch = next(batch_loader)[0]\n",
    "    except StopIteration:\n",
    "        batch_loader = iter(data_loader)\n",
    "        batch = next(batch_loader)[0]\n",
    "    x = Variable(torch.FloatTensor(batch)).unsqueeze(2).transpose(1,0)\n",
    "    size = (x.size()[0],x.size()[1],model.sample_size)\n",
    "    z = Variable(torch.FloatTensor(*size).normal_(),requires_grad=False)\n",
    "    recon_x = model.sample(z)\n",
    "    _,topi = recon_x.data.topk(1)\n",
    "    pred_x = Variable(topi)\n",
    "    sampled_data[\"x\"] = x.squeeze(2)\n",
    "    sampled_data[\"recon_x\"] = pred_x.squeeze(2)\n",
    "    printText(sampled_data,data_decoder,recon_x_text=\"Sample\")"
   ]
  },
  {
   "cell_type": "code",
   "execution_count": 19,
   "metadata": {},
   "outputs": [
    {
     "name": "stdout",
     "output_type": "stream",
     "text": [
      "\n",
      "True:\n",
      " is enjoying the weather.*******\n",
      "Sample:\n",
      " is clla aociallg les h*********\n",
      "\n",
      "True:\n",
      " @user you lucky sausage you****\n",
      "Sample:\n",
      " Iach chiuloutank i dlopy fiiy**\n",
      "\n",
      "True:\n",
      " Is going swimming again********\n",
      "Sample:\n",
      " iast daran pi******************\n",
      "\n",
      "True:\n",
      " i  the new dmb cd**************\n",
      "Sample:\n",
      " ia up sadl Coon.***************\n",
      "\n",
      "True:\n",
      " i love clean clothes***********\n",
      "Sample:\n",
      " I'hEe are sroics****Itc********\n",
      "\n",
      "True:\n",
      " changed my twitter name********\n",
      "Sample:\n",
      " is meav somoks.. ailles evckt**\n",
      "\n",
      "True:\n",
      " Oh yeah. I got a new camera na.\n",
      "Sample:\n",
      " iasten. *ghy!!*****************\n",
      "\n",
      "True:\n",
      " @user**************************\n",
      "Sample:\n",
      " Iisvenr.***********************\n",
      "\n",
      "True:\n",
      " @user Thats great!*************\n",
      "Sample:\n",
      " i  musnygh!********************\n",
      "\n",
      "True:\n",
      " sydney's coming over later.****\n",
      "Sample:\n",
      " is boyso  oo****fe.****Ah's****\n",
      "\n",
      "True:\n",
      " #iremember things**************\n",
      "Sample:\n",
      " Iateellg spickes.is************\n"
     ]
    }
   ],
   "source": [
    "sampleCompare(batch_loader,model,dataset.encoderDecoder)"
   ]
  },
  {
   "cell_type": "code",
   "execution_count": 21,
   "metadata": {},
   "outputs": [
    {
     "name": "stdout",
     "output_type": "stream",
     "text": [
      "\n",
      "True:\n",
      " Soccer with the gang***********\n",
      "Sample:\n",
      " Io  aray lad  m  *****  * re***\n",
      "\n",
      "True:\n",
      " @user  thank you doll!*********\n",
      "Sample:\n",
      " Iom celelnah leauncinan my.** *\n",
      "\n",
      "True:\n",
      " Party tonight******************\n",
      "Sample:\n",
      " Iotth aeotcing o ausely ****...\n",
      "\n",
      "True:\n",
      " today was so relaxing**********\n",
      "Sample:\n",
      " Iast ie oll i loenasn mone  * *\n",
      "\n",
      "True:\n",
      " Today was a good sunday********\n",
      "Sample:\n",
      " io  aen suttchfed.*** @un ar***\n",
      "\n",
      "True:\n",
      " Goodmorning********************\n",
      "Sample:\n",
      " @  aun yp. yeskin**************\n",
      "\n",
      "True:\n",
      " livin the good life************\n",
      "Sample:\n",
      " I  et wime  ara****************\n",
      "\n",
      "True:\n",
      " In the recording studio!*******\n",
      "Sample:\n",
      " I  ingy ail  Ilaiys io..   ate \n",
      "\n",
      "True:\n",
      " @user please follow me!!!!!****\n",
      "Sample:\n",
      " @ mey re muaputing winugi e  . \n",
      "\n",
      "True:\n",
      " @userKillBoy nope I can see you\n",
      "Sample:\n",
      " I st my s**********************\n",
      "\n",
      "True:\n",
      " @user happy birthday***********\n",
      "Sample:\n",
      " I  tred************************\n"
     ]
    }
   ],
   "source": [
    "sampleCompare(batch_loader,model_big,dataset.encoderDecoder)"
   ]
  }
 ],
 "metadata": {
  "kernelspec": {
   "display_name": "Python 3",
   "language": "python",
   "name": "python3"
  },
  "language_info": {
   "codemirror_mode": {
    "name": "ipython",
    "version": 3
   },
   "file_extension": ".py",
   "mimetype": "text/x-python",
   "name": "python",
   "nbconvert_exporter": "python",
   "pygments_lexer": "ipython3",
   "version": "3.6.5"
  }
 },
 "nbformat": 4,
 "nbformat_minor": 2
}
