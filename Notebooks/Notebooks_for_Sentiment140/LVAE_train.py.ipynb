{
 "cells": [
  {
   "cell_type": "markdown",
   "metadata": {},
   "source": [
    "# Train script for Ladder VAE model"
   ]
  },
  {
   "cell_type": "markdown",
   "metadata": {},
   "source": [
    "### imports"
   ]
  },
  {
   "cell_type": "code",
   "execution_count": 1,
   "metadata": {},
   "outputs": [],
   "source": [
    "%matplotlib inline\n",
    "\n",
    "from torch.autograd import Variable\n",
    "from torch import optim\n",
    "from torch.utils.data import DataLoader\n",
    "import torch\n",
    "\n",
    "import sys\n",
    "sys.path.append(\"../../Modules\")\n",
    "sys.path.append(\"../../Datasets\")\n",
    "\n",
    "# local imports\n",
    "from train import train_twitter\n",
    "from helpers import nll_loss\n",
    "from models import LadderVAE\n",
    "from babelDatasets.sentiment140 import Sentiment140\n",
    "from babelDatasets.utils import padding_merge"
   ]
  },
  {
   "cell_type": "markdown",
   "metadata": {},
   "source": [
    "## Define dataset loader"
   ]
  },
  {
   "cell_type": "code",
   "execution_count": 2,
   "metadata": {},
   "outputs": [
    {
     "name": "stdout",
     "output_type": "stream",
     "text": [
      "# N sents: 150000  train: True  sentences_path: ../../Datasets/Data/train_sentences.txt\n",
      "# N sents: 52990  train: False  sentences_path: ../../Datasets/Data/test_sentences.txt\n"
     ]
    }
   ],
   "source": [
    "batch_size = 32\n",
    "\n",
    "data_loader = DataLoader(Sentiment140(data_directory=\"../../Datasets/Data\",train=True,max_sentence_size=32),batch_size=batch_size,shuffle=True,collate_fn=padding_merge)\n",
    "valid_data_loader = DataLoader(Sentiment140(data_directory=\"../../Datasets/Data\",train=False,max_sentence_size=32),batch_size=batch_size,shuffle=True,collate_fn=padding_merge)\n",
    "\n",
    "num_classes = 82\n",
    "\n",
    "batch_loader = iter(data_loader)\n",
    "valid_batch_loader = iter(valid_data_loader)\n",
    "# input has shape [batch_size,seq_len,1]"
   ]
  },
  {
   "cell_type": "markdown",
   "metadata": {},
   "source": [
    "## Define model"
   ]
  },
  {
   "cell_type": "code",
   "execution_count": 3,
   "metadata": {
    "scrolled": true
   },
   "outputs": [
    {
     "name": "stdout",
     "output_type": "stream",
     "text": [
      "Number of trainable parameters 1244194\n",
      "Forward pass succesfull\n"
     ]
    }
   ],
   "source": [
    "model = LadderVAE(input_size=1,hidden_sizes=[512,256,128,64,32],latent_sizes=[128,64,32,16,8],recon_hidden_size=256,output_size=num_classes,use_softmax=True)\n",
    "print(\"Number of trainable parameters {}\".format(sum(p.numel() for p in model.parameters() if p.requires_grad)))\n",
    "\n",
    "# test forward pass\n",
    "try:\n",
    "    initial_batch = batch_loader.next()[0]\n",
    "    x = Variable(torch.FloatTensor(initial_batch)).transpose(1,0).unsqueeze(2)\n",
    "    test,_ = model(x)\n",
    "    assert (test.shape[0] == x.shape[0] and test.shape[1] == x.shape[1] and test.shape[2] == num_classes)\n",
    "    print(\"Forward pass succesfull\")\n",
    "except:\n",
    "    print(\"Error in forward pass. Output should have shape: {} but had {}\".format(x.contiguous().view(-1).shape,test.view(-1).shape))"
   ]
  },
  {
   "cell_type": "markdown",
   "metadata": {},
   "source": [
    "## Define optimizer and loss"
   ]
  },
  {
   "cell_type": "code",
   "execution_count": 4,
   "metadata": {},
   "outputs": [],
   "source": [
    "learning_rate = 1e-4\n",
    "optimizer = optim.Adam(model.parameters(),lr=learning_rate,weight_decay=1e-3)\n",
    "scheduler = optim.lr_scheduler.ReduceLROnPlateau(optimizer,mode=\"min\",factor=0.5,verbose=True,cooldown=2)"
   ]
  },
  {
   "cell_type": "markdown",
   "metadata": {},
   "source": [
    "## Run trainer"
   ]
  },
  {
   "cell_type": "code",
   "execution_count": 5,
   "metadata": {
    "scrolled": false
   },
   "outputs": [
    {
     "name": "stdout",
     "output_type": "stream",
     "text": [
      "\n",
      "Train (1 5%) elbo: -1.1996 r_loss: -1.1996 kl: 102292.4744 aux_loss: 0.0000 beta 0.00e+00\n",
      "Valid (1 5%) elbo: -1.0265 r_loss: -1.0265 kl: 454415.1875 aux_loss: 0.0000 beta 0.00e+00\n",
      "\n",
      "Train (2 10%) elbo: -2.2556 r_loss: -1.0255 kl: 2337.0793 aux_loss: 0.0000 beta 5.26e-04\n",
      "Valid (2 10%) elbo: -0.9368 r_loss: -0.7821 kl: 293.9866 aux_loss: 0.0000 beta 5.26e-04\n",
      "\n",
      "Train (3 15%) elbo: -0.9059 r_loss: -0.6986 kl: 196.8871 aux_loss: 0.0000 beta 1.05e-03\n",
      "Valid (3 15%) elbo: -1.2435 r_loss: -1.0812 kl: 154.1879 aux_loss: 0.0000 beta 1.05e-03\n",
      "\n",
      "Train (4 20%) elbo: -0.7889 r_loss: -0.5957 kl: 122.3997 aux_loss: 0.0000 beta 1.58e-03\n",
      "Valid (4 20%) elbo: -1.0582 r_loss: -0.8840 kl: 110.3741 aux_loss: 0.0000 beta 1.58e-03\n",
      "\n",
      "Train (5 25%) elbo: -0.7583 r_loss: -0.5398 kl: 103.7619 aux_loss: 0.0000 beta 2.11e-03\n",
      "Valid (5 25%) elbo: -0.7441 r_loss: -0.5132 kl: 109.6537 aux_loss: 0.0000 beta 2.11e-03\n",
      "\n",
      "Train (6 30%) elbo: -0.7610 r_loss: -0.5081 kl: 96.1064 aux_loss: 0.0000 beta 2.63e-03\n",
      "Valid (6 30%) elbo: -4.9775 r_loss: -4.6261 kl: 133.5368 aux_loss: 0.0000 beta 2.63e-03\n",
      "\n",
      "Train (7 35%) elbo: -0.7747 r_loss: -0.4853 kl: 91.6469 aux_loss: 0.0000 beta 3.16e-03\n",
      "Valid (7 35%) elbo: -0.7380 r_loss: -0.4262 kl: 98.7385 aux_loss: 0.0000 beta 3.16e-03\n",
      "\n",
      "Train (8 40%) elbo: -0.7951 r_loss: -0.4683 kl: 88.7105 aux_loss: 0.0000 beta 3.68e-03\n",
      "Valid (8 40%) elbo: -4.1037 r_loss: -3.7771 kl: 88.6494 aux_loss: 0.0000 beta 3.68e-03\n",
      "\n",
      "Train (9 45%) elbo: -0.8172 r_loss: -0.4534 kl: 86.4173 aux_loss: 0.0000 beta 4.21e-03\n",
      "Valid (9 45%) elbo: -1.5512 r_loss: -1.1825 kl: 87.5513 aux_loss: 0.0000 beta 4.21e-03\n",
      "\n",
      "Train (10 50%) elbo: -0.8493 r_loss: -0.4489 kl: 84.5340 aux_loss: 0.0000 beta 4.74e-03\n",
      "Valid (10 50%) elbo: -0.8364 r_loss: -0.4295 kl: 85.8823 aux_loss: 0.0000 beta 4.74e-03\n",
      "\n",
      "Train (11 55%) elbo: -0.8746 r_loss: -0.4393 kl: 82.6964 aux_loss: 0.0000 beta 5.26e-03\n",
      "Valid (11 55%) elbo: -2.5446 r_loss: -2.1128 kl: 82.0484 aux_loss: 0.0000 beta 5.26e-03\n",
      "\n",
      "Train (12 60%) elbo: -0.9097 r_loss: -0.4408 kl: 80.9925 aux_loss: 0.0000 beta 5.79e-03\n",
      "Valid (12 60%) elbo: -3.6512 r_loss: -2.5556 kl: 189.2404 aux_loss: 0.0000 beta 5.79e-03\n",
      "\n",
      "Train (13 65%) elbo: -0.9404 r_loss: -0.4391 kl: 79.3721 aux_loss: 0.0000 beta 6.32e-03\n",
      "Valid (13 65%) elbo: -1.0285 r_loss: -0.4591 kl: 90.1624 aux_loss: 0.0000 beta 6.32e-03\n",
      "\n",
      "Train (14 70%) elbo: -0.9717 r_loss: -0.4401 kl: 77.7054 aux_loss: 0.0000 beta 6.84e-03\n",
      "Valid (14 70%) elbo: -4.4733 r_loss: -3.9414 kl: 77.7395 aux_loss: 0.0000 beta 6.84e-03\n",
      "\n",
      "Train (15 75%) elbo: -1.0039 r_loss: -0.4416 kl: 76.3120 aux_loss: 0.0000 beta 7.37e-03\n",
      "Valid (15 75%) elbo: -4.4553 r_loss: -3.8726 kl: 79.0798 aux_loss: 0.0000 beta 7.37e-03\n",
      "\n",
      "Train (16 80%) elbo: -1.0374 r_loss: -0.4457 kl: 74.9414 aux_loss: 0.0000 beta 7.89e-03\n",
      "Valid (16 80%) elbo: -4.5266 r_loss: -3.8991 kl: 79.4813 aux_loss: 0.0000 beta 7.89e-03\n",
      "\n",
      "Train (17 85%) elbo: -1.0717 r_loss: -0.4514 kl: 73.6585 aux_loss: 0.0000 beta 8.42e-03\n",
      "Valid (17 85%) elbo: -1.2340 r_loss: -0.5449 kl: 81.8273 aux_loss: 0.0000 beta 8.42e-03\n",
      "\n",
      "Train (18 90%) elbo: -1.1060 r_loss: -0.4587 kl: 72.3427 aux_loss: 0.0000 beta 8.95e-03\n",
      "Epoch    17: reducing learning rate of group 0 to 5.0000e-05.\n",
      "Valid (18 90%) elbo: -3.9304 r_loss: -3.2694 kl: 73.8758 aux_loss: 0.0000 beta 8.95e-03\n",
      "\n",
      "Train (19 95%) elbo: -1.1082 r_loss: -0.4462 kl: 69.8765 aux_loss: 0.0000 beta 9.47e-03\n",
      "Valid (19 95%) elbo: -2.7406 r_loss: -2.0447 kl: 73.4610 aux_loss: 0.0000 beta 9.47e-03\n",
      "\n",
      "Train (20 100%) elbo: -1.1418 r_loss: -0.4507 kl: 69.1106 aux_loss: 0.0000 beta 1.00e-02\n",
      "Valid (20 100%) elbo: -2.2134 r_loss: -1.5351 kl: 67.8305 aux_loss: 0.0000 beta 1.00e-02\n"
     ]
    },
    {
     "data": {
      "image/png": "[encoded data removed]",
      "text/plain": [
       "<Figure size 432x288 with 1 Axes>"
      ]
     },
     "metadata": {},
     "output_type": "display_data"
    }
   ],
   "source": [
    "# use at least 50 iterations to get good results\n",
    "train_twitter(data_loader,valid_data_loader,model,optimizer,scheduler,loss_fn=nll_loss,kl_loss_fn=None,n_iters=20,use_softmax=True,max_beta=1e-2,print_every=1,plot_pred=False,max_batches=3000)"
   ]
  },
  {
   "cell_type": "code",
   "execution_count": 8,
   "metadata": {},
   "outputs": [],
   "source": [
    "#torch.save(model.state_dict(),\"../../Saved_models/Sentiment140/LVAE_nll_map_5l.pt\")"
   ]
  },
  {
   "cell_type": "markdown",
   "metadata": {},
   "source": [
    "with this setting: hidden_sizes=[512,256,128],latent_sizes=[64,32,16],recon_hidden_size=256\n",
    "\n",
    "Train (20 100%) elbo: -1.1589 r_loss: -0.4739 kl: 68.4986 aux_loss: 0.0000 beta 1.00e-02\n",
    "\n",
    "Valid (20 100%) elbo: -1.2723 r_loss: -0.5495 kl: 72.2757 aux_loss: 0.0000 beta 1.00e-02\n",
    "\n",
    "and with this hidden_sizes=[512,256,128,64,32],latent_sizes=[128,64,32,16,8],recon_hidden_size=256\n",
    "\n",
    "Train (20 100%) elbo: -1.1418 r_loss: -0.4507 kl: 69.1106 aux_loss: 0.0000 beta 1.00e-02\n",
    "\n",
    "Valid (20 100%) elbo: -2.2134 r_loss: -1.5351 kl: 67.8305 aux_loss: 0.0000 beta 1.00e-02"
   ]
  }
 ],
 "metadata": {
  "kernelspec": {
   "display_name": "Python 3",
   "language": "python",
   "name": "python3"
  },
  "language_info": {
   "codemirror_mode": {
    "name": "ipython",
    "version": 3
   },
   "file_extension": ".py",
   "mimetype": "text/x-python",
   "name": "python",
   "nbconvert_exporter": "python",
   "pygments_lexer": "ipython3",
   "version": "3.6.5"
  }
 },
 "nbformat": 4,
 "nbformat_minor": 2
}
