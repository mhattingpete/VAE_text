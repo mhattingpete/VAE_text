{
 "cells": [
  {
   "cell_type": "markdown",
   "metadata": {},
   "source": [
    "# Train script for Hybrid VAE model"
   ]
  },
  {
   "cell_type": "markdown",
   "metadata": {},
   "source": [
    "### imports"
   ]
  },
  {
   "cell_type": "code",
   "execution_count": 1,
   "metadata": {},
   "outputs": [],
   "source": [
    "%matplotlib inline\n",
    "\n",
    "from torch.autograd import Variable\n",
    "from torch import optim\n",
    "from torch.utils.data import DataLoader\n",
    "import torch\n",
    "\n",
    "import sys\n",
    "sys.path.append(\"../../Modules\")\n",
    "sys.path.append(\"../../Datasets\")\n",
    "\n",
    "# local imports\n",
    "from train import train_twitter\n",
    "from helpers import kl_loss,nll_loss,mse_loss,kl_loss_multi\n",
    "from models import HybridVAE\n",
    "from babelDatasets.sentiment140 import Sentiment140\n",
    "from babelDatasets.utils import padding_merge"
   ]
  },
  {
   "cell_type": "markdown",
   "metadata": {},
   "source": [
    "## Define dataset loader"
   ]
  },
  {
   "cell_type": "code",
   "execution_count": 2,
   "metadata": {},
   "outputs": [
    {
     "name": "stdout",
     "output_type": "stream",
     "text": [
      "# N sents: 150000  train: True  sentences_path: ../../Datasets/Data/train_sentences.txt\n",
      "# N sents: 52990  train: False  sentences_path: ../../Datasets/Data/test_sentences.txt\n"
     ]
    }
   ],
   "source": [
    "batch_size = 32\n",
    "\n",
    "def padding(batch):\n",
    "    return padding_merge(batch,fixed_lenght=32)\n",
    "\n",
    "data_loader = DataLoader(Sentiment140(data_directory=\"../../Datasets/Data\",train=True,max_sentence_size=32),batch_size=batch_size,shuffle=True,collate_fn=padding)\n",
    "valid_data_loader = DataLoader(Sentiment140(data_directory=\"../../Datasets/Data\",train=False,max_sentence_size=32),batch_size=batch_size,shuffle=True,collate_fn=padding)\n",
    "\n",
    "num_classes = 82\n",
    "\n",
    "batch_loader = iter(data_loader)\n",
    "valid_batch_loader = iter(valid_data_loader)\n",
    "# input has shape [batch_size,seq_len,1]"
   ]
  },
  {
   "cell_type": "markdown",
   "metadata": {},
   "source": [
    "## Define model"
   ]
  },
  {
   "cell_type": "code",
   "execution_count": 3,
   "metadata": {},
   "outputs": [
    {
     "name": "stdout",
     "output_type": "stream",
     "text": [
      "Number of trainable parameters 1306260\n",
      "Forward pass succesfull\n"
     ]
    }
   ],
   "source": [
    "model = HybridVAE(input_size=1,conv_size=120,rnn_size=120,latent_size=128,output_size=num_classes,use_softmax=True)\n",
    "print(\"Number of trainable parameters {}\".format(sum(p.numel() for p in model.parameters() if p.requires_grad)))\n",
    "\n",
    "# test forward pass\n",
    "try:\n",
    "    initial_batch = batch_loader.next()[0]\n",
    "    x = Variable(torch.FloatTensor(initial_batch)).transpose(1,0).unsqueeze(2)\n",
    "    test,_,_ = model(x)\n",
    "    assert (test.shape[0] == x.shape[0] and test.shape[1] == x.shape[1] and test.shape[2] == num_classes)\n",
    "    print(\"Forward pass succesfull\")\n",
    "except:\n",
    "    print(\"Error in forward pass. Output should have shape: {} but had {}\".format(x.contiguous().view(-1).shape,test.view(-1).shape))"
   ]
  },
  {
   "cell_type": "markdown",
   "metadata": {},
   "source": [
    "## Define optimizer and loss"
   ]
  },
  {
   "cell_type": "code",
   "execution_count": 4,
   "metadata": {},
   "outputs": [],
   "source": [
    "learning_rate = 1e-4\n",
    "optimizer = optim.Adam(model.parameters(),lr=learning_rate,weight_decay=1e-3)\n",
    "scheduler = optim.lr_scheduler.ReduceLROnPlateau(optimizer,mode=\"min\",factor=0.5,verbose=True,cooldown=2)"
   ]
  },
  {
   "cell_type": "markdown",
   "metadata": {},
   "source": [
    "## Run trainer"
   ]
  },
  {
   "cell_type": "code",
   "execution_count": 5,
   "metadata": {
    "scrolled": false
   },
   "outputs": [
    {
     "name": "stdout",
     "output_type": "stream",
     "text": [
      "\n",
      "Train (1 5%) elbo: -2.7164 r_loss: -2.0690 kl: 8073.4657 aux_loss: -2.1577 beta 0.00e+00\n",
      "Valid (1 5%) elbo: -2.3344 r_loss: -1.7926 kl: 8088.2651 aux_loss: -1.8059 beta 0.00e+00\n",
      "\n",
      "Train (2 10%) elbo: -2.6463 r_loss: -2.0062 kl: 73.7522 aux_loss: -2.0044 beta 5.26e-04\n",
      "Valid (2 10%) elbo: -2.6507 r_loss: -2.0208 kl: 48.1578 aux_loss: -2.0151 beta 5.26e-04\n",
      "\n",
      "Train (3 15%) elbo: -2.5973 r_loss: -1.9776 kl: 24.0689 aux_loss: -1.9815 beta 1.05e-03\n",
      "Valid (3 15%) elbo: -2.4539 r_loss: -1.8660 kl: 23.6381 aux_loss: -1.8768 beta 1.05e-03\n",
      "\n",
      "Train (4 20%) elbo: -2.5872 r_loss: -1.9687 kl: 16.7279 aux_loss: -1.9736 beta 1.58e-03\n",
      "Valid (4 20%) elbo: -2.4824 r_loss: -1.8896 kl: 15.4586 aux_loss: -1.8947 beta 1.58e-03\n",
      "\n",
      "Train (5 25%) elbo: -2.5847 r_loss: -1.9651 kl: 13.5836 aux_loss: -1.9701 beta 2.11e-03\n",
      "Valid (5 25%) elbo: -2.4215 r_loss: -1.8388 kl: 13.1900 aux_loss: -1.8500 beta 2.11e-03\n",
      "\n",
      "Train (6 30%) elbo: -2.5850 r_loss: -1.9637 kl: 11.6449 aux_loss: -1.9688 beta 2.63e-03\n",
      "Valid (6 30%) elbo: -2.7061 r_loss: -2.0601 kl: 9.3060 aux_loss: -2.0717 beta 2.63e-03\n",
      "\n",
      "Train (7 35%) elbo: -2.5848 r_loss: -1.9616 kl: 10.5448 aux_loss: -1.9664 beta 3.16e-03\n",
      "Valid (7 35%) elbo: -2.6014 r_loss: -1.9763 kl: 9.7979 aux_loss: -1.9806 beta 3.16e-03\n",
      "\n",
      "Train (8 40%) elbo: -2.5856 r_loss: -1.9612 kl: 9.3928 aux_loss: -1.9660 beta 3.68e-03\n",
      "Valid (8 40%) elbo: -2.7917 r_loss: -2.1154 kl: 10.0495 aux_loss: -2.1310 beta 3.68e-03\n",
      "\n",
      "Train (9 45%) elbo: -2.5900 r_loss: -1.9628 kl: 8.7813 aux_loss: -1.9674 beta 4.21e-03\n",
      "Valid (9 45%) elbo: -2.6308 r_loss: -1.9932 kl: 9.1947 aux_loss: -1.9961 beta 4.21e-03\n",
      "\n",
      "Train (10 50%) elbo: -2.5904 r_loss: -1.9620 kl: 8.1106 aux_loss: -1.9666 beta 4.74e-03\n",
      "Valid (10 50%) elbo: -2.3431 r_loss: -1.7735 kl: 7.9064 aux_loss: -1.7738 beta 4.74e-03\n",
      "\n",
      "Train (11 55%) elbo: -2.5922 r_loss: -1.9618 kl: 7.7217 aux_loss: -1.9660 beta 5.26e-03\n",
      "Valid (11 55%) elbo: -2.3854 r_loss: -1.8078 kl: 6.6425 aux_loss: -1.8090 beta 5.26e-03\n",
      "\n",
      "Train (12 60%) elbo: -2.5931 r_loss: -1.9610 kl: 7.3580 aux_loss: -1.9652 beta 5.79e-03\n",
      "Epoch    11: reducing learning rate of group 0 to 5.0000e-05.\n",
      "Valid (12 60%) elbo: -2.6270 r_loss: -1.9916 kl: 6.5867 aux_loss: -1.9910 beta 5.79e-03\n",
      "\n",
      "Train (13 65%) elbo: -2.5918 r_loss: -1.9590 kl: 6.9862 aux_loss: -1.9624 beta 6.32e-03\n",
      "Valid (13 65%) elbo: -2.5862 r_loss: -1.9576 kl: 6.6793 aux_loss: -1.9547 beta 6.32e-03\n",
      "\n",
      "Train (14 70%) elbo: -2.5915 r_loss: -1.9570 kl: 6.7845 aux_loss: -1.9602 beta 6.84e-03\n",
      "Valid (14 70%) elbo: -2.3584 r_loss: -1.7765 kl: 7.1961 aux_loss: -1.7756 beta 6.84e-03\n",
      "\n",
      "Train (15 75%) elbo: -2.5979 r_loss: -1.9604 kl: 6.5700 aux_loss: -1.9638 beta 7.37e-03\n",
      "Valid (15 75%) elbo: -2.5281 r_loss: -1.9074 kl: 6.4026 aux_loss: -1.9119 beta 7.37e-03\n",
      "\n",
      "Train (16 80%) elbo: -2.5988 r_loss: -1.9597 kl: 6.3519 aux_loss: -1.9631 beta 7.89e-03\n",
      "Valid (16 80%) elbo: -2.4883 r_loss: -1.8795 kl: 5.6885 aux_loss: -1.8797 beta 7.89e-03\n",
      "\n",
      "Train (17 85%) elbo: -2.6056 r_loss: -1.9638 kl: 6.1424 aux_loss: -1.9670 beta 8.42e-03\n",
      "Valid (17 85%) elbo: -2.4414 r_loss: -1.8349 kl: 6.3618 aux_loss: -1.8430 beta 8.42e-03\n",
      "\n",
      "Train (18 90%) elbo: -2.6050 r_loss: -1.9617 kl: 6.0248 aux_loss: -1.9647 beta 8.95e-03\n",
      "Valid (18 90%) elbo: -2.6447 r_loss: -1.9962 kl: 5.3424 aux_loss: -2.0022 beta 8.95e-03\n",
      "\n",
      "Train (19 95%) elbo: -2.6062 r_loss: -1.9612 kl: 5.8767 aux_loss: -1.9644 beta 9.47e-03\n",
      "Valid (19 95%) elbo: -2.1797 r_loss: -1.6327 kl: 5.9436 aux_loss: -1.6359 beta 9.47e-03\n",
      "\n",
      "Train (20 100%) elbo: -2.6135 r_loss: -1.9658 kl: 5.7152 aux_loss: -1.9687 beta 1.00e-02\n",
      "Valid (20 100%) elbo: -2.5335 r_loss: -1.9051 kl: 5.7093 aux_loss: -1.9043 beta 1.00e-02\n"
     ]
    },
    {
     "data": {
      "image/png": "[encoded data removed]",
      "text/plain": [
       "<Figure size 432x288 with 1 Axes>"
      ]
     },
     "metadata": {},
     "output_type": "display_data"
    }
   ],
   "source": [
    "# use at least 50 iterations to get good results\n",
    "train_twitter(data_loader,valid_data_loader,model,optimizer,scheduler,loss_fn=nll_loss,kl_loss_fn=kl_loss,n_iters=20,use_softmax=True,max_beta=1e-2,print_every=1,plot_pred=False,max_batches=3000)"
   ]
  },
  {
   "cell_type": "code",
   "execution_count": 6,
   "metadata": {},
   "outputs": [],
   "source": [
    "#torch.save(model.state_dict(),\"../../Saved_models/Sentiment140/HybridVAE_nll.pt\")"
   ]
  },
  {
   "cell_type": "markdown",
   "metadata": {},
   "source": [
    "Train (20 100%) elbo: -2.6176 r_loss: -1.9683 kl: 5.7184 aux_loss: -1.9737 beta 1.00e-02\n",
    "\n",
    "Valid (20 100%) elbo: -2.4807 r_loss: -1.8679 kl: 5.2078 aux_loss: -1.8690 beta 1.00e-02"
   ]
  }
 ],
 "metadata": {
  "kernelspec": {
   "display_name": "Python 3",
   "language": "python",
   "name": "python3"
  },
  "language_info": {
   "codemirror_mode": {
    "name": "ipython",
    "version": 3
   },
   "file_extension": ".py",
   "mimetype": "text/x-python",
   "name": "python",
   "nbconvert_exporter": "python",
   "pygments_lexer": "ipython3",
   "version": "3.6.5"
  }
 },
 "nbformat": 4,
 "nbformat_minor": 2
}
