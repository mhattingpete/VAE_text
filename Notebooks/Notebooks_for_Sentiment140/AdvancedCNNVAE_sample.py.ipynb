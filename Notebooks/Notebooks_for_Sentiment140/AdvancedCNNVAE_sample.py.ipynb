{
 "cells": [
  {
   "cell_type": "markdown",
   "metadata": {},
   "source": [
    "# Sample script for Advanced CNN VAE model"
   ]
  },
  {
   "cell_type": "markdown",
   "metadata": {},
   "source": [
    "### imports"
   ]
  },
  {
   "cell_type": "code",
   "execution_count": 1,
   "metadata": {},
   "outputs": [],
   "source": [
    "%matplotlib inline\n",
    "\n",
    "from torch.autograd import Variable\n",
    "from torch import optim\n",
    "from torch.utils.data import DataLoader\n",
    "import torch\n",
    "import matplotlib.pyplot as plt\n",
    "import numpy as np\n",
    "\n",
    "import sys\n",
    "sys.path.append(\"../../Modules\")\n",
    "sys.path.append(\"../../Datasets\")\n",
    "\n",
    "# local imports\n",
    "from visualize import printText\n",
    "from models import AdvancedCNNVAE\n",
    "from babelDatasets.sentiment140 import Sentiment140\n",
    "from babelDatasets.utils import padding_merge"
   ]
  },
  {
   "cell_type": "markdown",
   "metadata": {},
   "source": [
    "## Define dataset loader"
   ]
  },
  {
   "cell_type": "code",
   "execution_count": 2,
   "metadata": {},
   "outputs": [
    {
     "name": "stdout",
     "output_type": "stream",
     "text": [
      "# N sents: 52990  train: False  sentences_path: ../../Datasets/Data/test_sentences.txt\n"
     ]
    }
   ],
   "source": [
    "batch_size = 32\n",
    "\n",
    "dataset = Sentiment140(data_directory=\"../../Datasets/Data\",train=False,max_sentence_size=32)\n",
    "data_loader = DataLoader(dataset,batch_size=batch_size,shuffle=True,collate_fn=padding_merge)\n",
    "\n",
    "num_classes = 82\n",
    "\n",
    "batch_loader = iter(data_loader)\n",
    "# input has shape [batch_size,seq_len,1]"
   ]
  },
  {
   "cell_type": "markdown",
   "metadata": {},
   "source": [
    "## Define and load model"
   ]
  },
  {
   "cell_type": "code",
   "execution_count": 3,
   "metadata": {},
   "outputs": [],
   "source": [
    "model = AdvancedCNNVAE(input_size=1,conv_size=256,latent_size=64,output_size=num_classes,use_softmax=True)\n",
    "model.eval()\n",
    "model.load_state_dict(torch.load(\"../../Saved_models/Sentiment140/CNNVAE_nll_map.pt\"))"
   ]
  },
  {
   "cell_type": "markdown",
   "metadata": {},
   "source": [
    "## Collect some samples and plot"
   ]
  },
  {
   "cell_type": "code",
   "execution_count": 32,
   "metadata": {},
   "outputs": [],
   "source": [
    "def sampleCompare(batch_loader,model,data_decoder):\n",
    "    sampled_data = {\"x\":[],\"recon_x\":[]}\n",
    "    try:\n",
    "        batch = next(batch_loader)[0]\n",
    "    except StopIteration:\n",
    "        batch_loader = iter(data_loader)\n",
    "        batch = next(batch_loader)[0]\n",
    "    x = Variable(torch.FloatTensor(batch)).unsqueeze(2).transpose(1,0)\n",
    "    size = (x.size()[0],x.size()[1],model.samplelayer.outputShape()[-1])\n",
    "    z = 2*Variable(torch.FloatTensor(*size).normal_(),requires_grad=False)\n",
    "    recon_x = model.sample(z)\n",
    "    _,topi = recon_x.data.topk(1)\n",
    "    pred_x = Variable(topi)\n",
    "    sampled_data[\"x\"] = x.squeeze(2)\n",
    "    sampled_data[\"recon_x\"] = pred_x.squeeze(2)\n",
    "    printText(sampled_data,data_decoder,recon_x_text=\"Sample\")"
   ]
  },
  {
   "cell_type": "code",
   "execution_count": 33,
   "metadata": {},
   "outputs": [
    {
     "name": "stdout",
     "output_type": "stream",
     "text": [
      "\n",
      "True:\n",
      " Found it! Thanks everyone******\n",
      "Sample:\n",
      " Iit is sea'm my tie. I  a yie my*****\n",
      "\n",
      "True:\n",
      " @user I think you may be right*\n",
      "Sample:\n",
      " I't sseeh  caheoora ie dmy'uo Sasoo**\n",
      "\n",
      "True:\n",
      " @usergash Apply and find out***\n",
      "Sample:\n",
      " Iheveay myed *anat oulayoua Aa!in****\n",
      "\n",
      "True:\n",
      " Today is such a chilled day!***\n",
      "Sample:\n",
      " @usins Go keer whrow yAa, weity wiu**\n",
      "\n",
      "True:\n",
      " @user thanks dont mind it if do\n",
      "Sample:\n",
      " i labountcrieye't ordai! ahs** tiee**\n",
      "\n",
      "True:\n",
      " Got it!************************\n",
      "Sample:\n",
      " Goneah ! w !!i hat i? Y n a ye sada**\n",
      "\n",
      "True:\n",
      " @B B! Back to reality yet?*****\n",
      "Sample:\n",
      " ieatat uam on Aerryt  hieap? eyou****\n",
      "\n",
      "True:\n",
      " Good morning everybody ...*****\n",
      "Sample:\n",
      " @u e nk yw a byehends*aroien? Yut****\n",
      "\n",
      "True:\n",
      " Goodmorning********************\n",
      "Sample:\n",
      " Iah i,*uwi ! BOd th teelcsrn. aoue***\n",
      "\n",
      "True:\n",
      " silence simplicity beauty ocean\n",
      "Sample:\n",
      " I er  *x asu it a mam itock Thack ***\n",
      "\n",
      "True:\n",
      " @user Thanks*******************\n",
      "Sample:\n",
      " iorea  my teen, y a as's i?*u Dari***\n"
     ]
    }
   ],
   "source": [
    "sampleCompare(batch_loader,model,dataset.encoderDecoder)"
   ]
  }
 ],
 "metadata": {
  "kernelspec": {
   "display_name": "Python 3",
   "language": "python",
   "name": "python3"
  },
  "language_info": {
   "codemirror_mode": {
    "name": "ipython",
    "version": 3
   },
   "file_extension": ".py",
   "mimetype": "text/x-python",
   "name": "python",
   "nbconvert_exporter": "python",
   "pygments_lexer": "ipython3",
   "version": "3.6.5"
  }
 },
 "nbformat": 4,
 "nbformat_minor": 2
}
