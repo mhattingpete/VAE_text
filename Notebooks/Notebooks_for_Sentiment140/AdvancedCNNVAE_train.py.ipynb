{
 "cells": [
  {
   "cell_type": "markdown",
   "metadata": {},
   "source": [
    "# Train script for Advanced CNN VAE model"
   ]
  },
  {
   "cell_type": "markdown",
   "metadata": {},
   "source": [
    "### imports"
   ]
  },
  {
   "cell_type": "code",
   "execution_count": 1,
   "metadata": {},
   "outputs": [],
   "source": [
    "%matplotlib inline\n",
    "\n",
    "from torch.autograd import Variable\n",
    "from torch import optim\n",
    "from torch.utils.data import DataLoader\n",
    "import torch\n",
    "\n",
    "import sys\n",
    "sys.path.append(\"../../Modules\")\n",
    "sys.path.append(\"../../Datasets\")\n",
    "\n",
    "# local imports\n",
    "from train import train_twitter\n",
    "from helpers import kl_loss,nll_loss,mse_loss,kl_loss_multi\n",
    "from models import AdvancedCNNVAE\n",
    "from babelDatasets.sentiment140 import Sentiment140\n",
    "from babelDatasets.utils import padding_merge"
   ]
  },
  {
   "cell_type": "markdown",
   "metadata": {},
   "source": [
    "## Define dataset loader"
   ]
  },
  {
   "cell_type": "code",
   "execution_count": 2,
   "metadata": {
    "scrolled": false
   },
   "outputs": [
    {
     "name": "stdout",
     "output_type": "stream",
     "text": [
      "# N sents: 150000  train: True  sentences_path: ../../Datasets/Data/train_sentences.txt\n",
      "# N sents: 52990  train: False  sentences_path: ../../Datasets/Data/test_sentences.txt\n"
     ]
    }
   ],
   "source": [
    "batch_size = 32\n",
    "\n",
    "data_loader = DataLoader(Sentiment140(data_directory=\"../../Datasets/Data\",train=True,max_sentence_size=32),batch_size=batch_size,shuffle=True,collate_fn=padding_merge)\n",
    "valid_data_loader = DataLoader(Sentiment140(data_directory=\"../../Datasets/Data\",train=False,max_sentence_size=32),batch_size=batch_size,shuffle=True,collate_fn=padding_merge)\n",
    "\n",
    "num_classes = 82\n",
    "\n",
    "batch_loader = iter(data_loader)\n",
    "valid_batch_loader = iter(valid_data_loader)\n",
    "# input has shape [batch_size,seq_len,1]"
   ]
  },
  {
   "cell_type": "markdown",
   "metadata": {},
   "source": [
    "## Define model"
   ]
  },
  {
   "cell_type": "code",
   "execution_count": 3,
   "metadata": {},
   "outputs": [
    {
     "name": "stdout",
     "output_type": "stream",
     "text": [
      "Number of trainable parameters 901074\n",
      "Forward pass succesfull\n"
     ]
    }
   ],
   "source": [
    "model = AdvancedCNNVAE(input_size=1,conv_size=256,latent_size=64,output_size=num_classes,use_softmax=True)\n",
    "print(\"Number of trainable parameters {}\".format(sum(p.numel() for p in model.parameters() if p.requires_grad)))\n",
    "\n",
    "# test forward pass\n",
    "try:\n",
    "    initial_batch = batch_loader.next()[0]\n",
    "    x = Variable(torch.FloatTensor(initial_batch)).transpose(1,0).unsqueeze(2)\n",
    "    test,_ = model(x)\n",
    "    assert (test.shape[0] == x.shape[0] and test.shape[1] == x.shape[1] and test.shape[2] == num_classes)\n",
    "    print(\"Forward pass succesfull\")\n",
    "except:\n",
    "    print(\"Error in forward pass. Output should have shape: {} but had {}\".format(x.contiguous().view(-1).shape,test.view(-1).shape))"
   ]
  },
  {
   "cell_type": "markdown",
   "metadata": {},
   "source": [
    "## Define optimizer and loss"
   ]
  },
  {
   "cell_type": "code",
   "execution_count": 4,
   "metadata": {},
   "outputs": [],
   "source": [
    "learning_rate = 1e-4\n",
    "optimizer = optim.Adam(model.parameters(),lr=learning_rate,weight_decay=1e-3)\n",
    "scheduler = optim.lr_scheduler.ReduceLROnPlateau(optimizer,mode=\"min\",factor=0.5,verbose=True,cooldown=2)"
   ]
  },
  {
   "cell_type": "markdown",
   "metadata": {},
   "source": [
    "## Run trainer"
   ]
  },
  {
   "cell_type": "code",
   "execution_count": 5,
   "metadata": {
    "scrolled": false
   },
   "outputs": [
    {
     "name": "stdout",
     "output_type": "stream",
     "text": [
      "\n",
      "Train (1 5%) elbo: -0.8016 r_loss: -0.8016 kl: 468587.1695 aux_loss: 0.0000 beta 0.00e+00\n",
      "Valid (1 5%) elbo: -0.4134 r_loss: -0.4134 kl: 496497.8438 aux_loss: 0.0000 beta 0.00e+00\n",
      "\n",
      "Train (2 10%) elbo: -1.2505 r_loss: -0.8507 kl: 759.5614 aux_loss: 0.0000 beta 5.26e-04\n",
      "Valid (2 10%) elbo: -0.8414 r_loss: -0.6530 kl: 358.1081 aux_loss: 0.0000 beta 5.26e-04\n",
      "\n",
      "Train (3 15%) elbo: -0.8724 r_loss: -0.6212 kl: 238.6418 aux_loss: 0.0000 beta 1.05e-03\n",
      "Valid (3 15%) elbo: -0.7599 r_loss: -0.5464 kl: 202.8805 aux_loss: 0.0000 beta 1.05e-03\n",
      "\n",
      "Train (4 20%) elbo: -0.8518 r_loss: -0.5794 kl: 172.5136 aux_loss: 0.0000 beta 1.58e-03\n",
      "Valid (4 20%) elbo: -0.7989 r_loss: -0.5224 kl: 175.1482 aux_loss: 0.0000 beta 1.58e-03\n",
      "\n",
      "Train (5 25%) elbo: -0.8541 r_loss: -0.5615 kl: 138.9806 aux_loss: 0.0000 beta 2.11e-03\n",
      "Valid (5 25%) elbo: -0.8114 r_loss: -0.5355 kl: 131.0683 aux_loss: 0.0000 beta 2.11e-03\n",
      "\n",
      "Train (6 30%) elbo: -0.8817 r_loss: -0.5632 kl: 121.0422 aux_loss: 0.0000 beta 2.63e-03\n",
      "Valid (6 30%) elbo: -0.8001 r_loss: -0.4985 kl: 114.5833 aux_loss: 0.0000 beta 2.63e-03\n",
      "\n",
      "Train (7 35%) elbo: -0.9144 r_loss: -0.5681 kl: 109.6617 aux_loss: 0.0000 beta 3.16e-03\n",
      "Valid (7 35%) elbo: -0.8069 r_loss: -0.4697 kl: 106.7773 aux_loss: 0.0000 beta 3.16e-03\n",
      "\n",
      "Train (8 40%) elbo: -0.9497 r_loss: -0.5785 kl: 100.7455 aux_loss: 0.0000 beta 3.68e-03\n",
      "Valid (8 40%) elbo: -0.8306 r_loss: -0.4816 kl: 94.7293 aux_loss: 0.0000 beta 3.68e-03\n",
      "\n",
      "Train (9 45%) elbo: -0.9761 r_loss: -0.5941 kl: 90.7331 aux_loss: 0.0000 beta 4.21e-03\n",
      "Valid (9 45%) elbo: -0.8241 r_loss: -0.4763 kl: 82.6004 aux_loss: 0.0000 beta 4.21e-03\n",
      "\n",
      "Train (10 50%) elbo: -1.0041 r_loss: -0.6027 kl: 84.7343 aux_loss: 0.0000 beta 4.74e-03\n",
      "Valid (10 50%) elbo: -1.0087 r_loss: -0.5728 kl: 92.0155 aux_loss: 0.0000 beta 4.74e-03\n",
      "\n",
      "Train (11 55%) elbo: -1.0295 r_loss: -0.6144 kl: 78.8757 aux_loss: 0.0000 beta 5.26e-03\n",
      "Valid (11 55%) elbo: -1.1190 r_loss: -0.6883 kl: 81.8313 aux_loss: 0.0000 beta 5.26e-03\n",
      "\n",
      "Train (12 60%) elbo: -1.0550 r_loss: -0.6212 kl: 74.9311 aux_loss: 0.0000 beta 5.79e-03\n",
      "Epoch    11: reducing learning rate of group 0 to 5.0000e-05.\n",
      "Valid (12 60%) elbo: -1.1474 r_loss: -0.6617 kl: 83.8890 aux_loss: 0.0000 beta 5.79e-03\n",
      "\n",
      "Train (13 65%) elbo: -1.0732 r_loss: -0.6187 kl: 71.9609 aux_loss: 0.0000 beta 6.32e-03\n",
      "Valid (13 65%) elbo: -1.1389 r_loss: -0.6576 kl: 76.2077 aux_loss: 0.0000 beta 6.32e-03\n",
      "\n",
      "Train (14 70%) elbo: -1.1066 r_loss: -0.6294 kl: 69.7492 aux_loss: 0.0000 beta 6.84e-03\n",
      "Valid (14 70%) elbo: -1.1535 r_loss: -0.6527 kl: 73.1921 aux_loss: 0.0000 beta 6.84e-03\n",
      "\n",
      "Train (15 75%) elbo: -1.1365 r_loss: -0.6402 kl: 67.3449 aux_loss: 0.0000 beta 7.37e-03\n",
      "Valid (15 75%) elbo: -1.1144 r_loss: -0.6375 kl: 64.7165 aux_loss: 0.0000 beta 7.37e-03\n",
      "\n",
      "Train (16 80%) elbo: -1.1678 r_loss: -0.6550 kl: 64.9579 aux_loss: 0.0000 beta 7.89e-03\n",
      "Valid (16 80%) elbo: -1.1393 r_loss: -0.6335 kl: 64.0579 aux_loss: 0.0000 beta 7.89e-03\n",
      "\n",
      "Train (17 85%) elbo: -1.1848 r_loss: -0.6703 kl: 61.1052 aux_loss: 0.0000 beta 8.42e-03\n",
      "Valid (17 85%) elbo: -1.1651 r_loss: -0.6869 kl: 56.7858 aux_loss: 0.0000 beta 8.42e-03\n",
      "\n",
      "Train (18 90%) elbo: -1.1938 r_loss: -0.6729 kl: 58.2160 aux_loss: 0.0000 beta 8.95e-03\n",
      "Valid (18 90%) elbo: -1.1824 r_loss: -0.6586 kl: 58.5441 aux_loss: 0.0000 beta 8.95e-03\n",
      "\n",
      "Train (19 95%) elbo: -1.2146 r_loss: -0.6781 kl: 56.6330 aux_loss: 0.0000 beta 9.47e-03\n",
      "Valid (19 95%) elbo: -1.1547 r_loss: -0.6116 kl: 57.3315 aux_loss: 0.0000 beta 9.47e-03\n",
      "\n",
      "Train (20 100%) elbo: -1.2374 r_loss: -0.6851 kl: 55.2347 aux_loss: 0.0000 beta 1.00e-02\n",
      "Valid (20 100%) elbo: -1.0557 r_loss: -0.5796 kl: 47.6082 aux_loss: 0.0000 beta 1.00e-02\n"
     ]
    },
    {
     "data": {
      "image/png": "[encoded data removed]",
      "text/plain": [
       "<Figure size 432x288 with 1 Axes>"
      ]
     },
     "metadata": {},
     "output_type": "display_data"
    }
   ],
   "source": [
    "# use at least 50 iterations to get good results\n",
    "train_twitter(data_loader,valid_data_loader,model,optimizer,scheduler,loss_fn=nll_loss,kl_loss_fn=kl_loss_multi,n_iters=20,use_softmax=True,max_beta=1e-2,print_every=1,plot_pred=False,max_batches=3000)"
   ]
  },
  {
   "cell_type": "code",
   "execution_count": 8,
   "metadata": {},
   "outputs": [],
   "source": [
    "#torch.save(model.state_dict(),\"../../Saved_models/Sentiment140/CNNVAE_nll_map.pt\")"
   ]
  },
  {
   "cell_type": "markdown",
   "metadata": {},
   "source": [
    "Train (20 100%) elbo: -1.2374 r_loss: -0.6851 kl: 55.2347 aux_loss: 0.0000 beta 1.00e-02\n",
    "\n",
    "Valid (20 100%) elbo: -1.0557 r_loss: -0.5796 kl: 47.6082 aux_loss: 0.0000 beta 1.00e-02"
   ]
  }
 ],
 "metadata": {
  "kernelspec": {
   "display_name": "Python 3",
   "language": "python",
   "name": "python3"
  },
  "language_info": {
   "codemirror_mode": {
    "name": "ipython",
    "version": 3
   },
   "file_extension": ".py",
   "mimetype": "text/x-python",
   "name": "python",
   "nbconvert_exporter": "python",
   "pygments_lexer": "ipython3",
   "version": "3.6.5"
  }
 },
 "nbformat": 4,
 "nbformat_minor": 2
}
