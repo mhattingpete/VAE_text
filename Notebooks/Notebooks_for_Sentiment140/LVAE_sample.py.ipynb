{
 "cells": [
  {
   "cell_type": "markdown",
   "metadata": {},
   "source": [
    "# Sample script for Hybrid VAE model"
   ]
  },
  {
   "cell_type": "markdown",
   "metadata": {},
   "source": [
    "### imports"
   ]
  },
  {
   "cell_type": "code",
   "execution_count": 1,
   "metadata": {},
   "outputs": [],
   "source": [
    "%matplotlib inline\n",
    "\n",
    "from torch.autograd import Variable\n",
    "from torch.utils.data import DataLoader\n",
    "import torch\n",
    "import matplotlib.pyplot as plt\n",
    "import numpy as np\n",
    "\n",
    "import sys\n",
    "sys.path.append(\"../../Modules\")\n",
    "sys.path.append(\"../../Datasets\")\n",
    "\n",
    "# local imports\n",
    "from visualize import printText\n",
    "from models import LadderVAE\n",
    "from babelDatasets.sentiment140 import Sentiment140\n",
    "from babelDatasets.utils import padding_merge"
   ]
  },
  {
   "cell_type": "markdown",
   "metadata": {},
   "source": [
    "## Define dataset loader"
   ]
  },
  {
   "cell_type": "code",
   "execution_count": 2,
   "metadata": {},
   "outputs": [
    {
     "name": "stdout",
     "output_type": "stream",
     "text": [
      "# N sents: 52990  train: False  sentences_path: ../../Datasets/Data/test_sentences.txt\n"
     ]
    }
   ],
   "source": [
    "batch_size = 32\n",
    "\n",
    "dataset = Sentiment140(data_directory=\"../../Datasets/Data\",train=False,max_sentence_size=32)\n",
    "data_loader = DataLoader(dataset,batch_size=batch_size,shuffle=True,collate_fn=padding_merge)\n",
    "\n",
    "num_classes = 82\n",
    "\n",
    "batch_loader = iter(data_loader)\n",
    "# input has shape [batch_size,seq_len,1]"
   ]
  },
  {
   "cell_type": "markdown",
   "metadata": {},
   "source": [
    "## Define and load model"
   ]
  },
  {
   "cell_type": "code",
   "execution_count": 3,
   "metadata": {},
   "outputs": [],
   "source": [
    "model = LadderVAE(input_size=1,hidden_sizes=[512,256,128],latent_sizes=[64,32,16],recon_hidden_size=256,output_size=num_classes,use_softmax=True)\n",
    "model.eval()\n",
    "model.load_state_dict(torch.load(\"../../Saved_models/Sentiment140/LVAE_nll_map.pt\"))\n",
    "\n",
    "model_big = LadderVAE(input_size=1,hidden_sizes=[512,256,128,64,32],latent_sizes=[128,64,32,16,8],recon_hidden_size=256,output_size=num_classes,use_softmax=True)\n",
    "model_big.eval()\n",
    "model_big.load_state_dict(torch.load(\"../../Saved_models/Sentiment140/LVAE_nll_map_5l.pt\"))"
   ]
  },
  {
   "cell_type": "markdown",
   "metadata": {},
   "source": [
    "## Collect some samples and plot"
   ]
  },
  {
   "cell_type": "code",
   "execution_count": 12,
   "metadata": {},
   "outputs": [],
   "source": [
    "def sampleCompare(batch_loader,model,data_decoder):\n",
    "    sampled_data = {\"x\":[],\"recon_x\":[]}\n",
    "    try:\n",
    "        batch = next(batch_loader)[0]\n",
    "    except StopIteration:\n",
    "        batch_loader = iter(data_loader)\n",
    "        batch = next(batch_loader)[0]\n",
    "    x = Variable(torch.FloatTensor(batch)).unsqueeze(2).transpose(1,0)\n",
    "    size = (x.size()[0],x.size()[1],model.sample_size)\n",
    "    z = 2*Variable(torch.FloatTensor(*size).normal_(),requires_grad=False)\n",
    "    recon_x = model.sample(z)\n",
    "    _,topi = recon_x.data.topk(1)\n",
    "    pred_x = Variable(topi)\n",
    "    sampled_data[\"x\"] = x.squeeze(2)\n",
    "    sampled_data[\"recon_x\"] = pred_x.squeeze(2)\n",
    "    printText(sampled_data,data_decoder,recon_x_text=\"Sample\")"
   ]
  },
  {
   "cell_type": "code",
   "execution_count": 13,
   "metadata": {},
   "outputs": [
    {
     "name": "stdout",
     "output_type": "stream",
     "text": [
      "\n",
      "True:\n",
      " @user thanks!******************\n",
      "Sample:\n",
      "  yu d Iyhryi *ro*it ***y*is'*y?\n",
      "\n",
      "True:\n",
      " @user Morning hun**************\n",
      "Sample:\n",
      " wh T *yyy m ****xu*****lrr*****\n",
      "\n",
      "True:\n",
      " @user how precious! congrats***\n",
      "Sample:\n",
      " *s ww yo ii t   *w *yat ae *oeo\n",
      "\n",
      "True:\n",
      " @user Happy Birthday Alice!****\n",
      "Sample:\n",
      " syayy  *iu lyn ***y*w*w*yay*y**\n",
      "\n",
      "True:\n",
      " LOVED Up!! especially in 3D!***\n",
      "Sample:\n",
      " w. ievsad a ry f **sr*y***ye***\n",
      "\n",
      "True:\n",
      " @user you're silly*************\n",
      "Sample:\n",
      " @x  Ce s n slr o  wy       uavy\n",
      "\n",
      "True:\n",
      " Watching the mtv movie awards**\n",
      "Sample:\n",
      " *yyo w y y h  sayek worour *yhe\n",
      "\n",
      "True:\n",
      " @user looking forward to it****\n",
      "Sample:\n",
      " I Au gr woi     forrt  t wlr ly\n",
      "\n",
      "True:\n",
      " up and about!******************\n",
      "Sample:\n",
      " siy iseyy**i y l sw ***y*******\n",
      "\n",
      "True:\n",
      " says i had fun last night  @url\n",
      "Sample:\n",
      " ww i  syyc wwor  @o yiy il ya y\n",
      "\n",
      "True:\n",
      " I have candy*******************\n",
      "Sample:\n",
      " **wii y ryi ******t **tl yu Iui\n"
     ]
    }
   ],
   "source": [
    "sampleCompare(batch_loader,model,dataset.encoderDecoder)"
   ]
  },
  {
   "cell_type": "code",
   "execution_count": 14,
   "metadata": {},
   "outputs": [
    {
     "name": "stdout",
     "output_type": "stream",
     "text": [
      "\n",
      "True:\n",
      " Back from beach, good day******\n",
      "Sample:\n",
      " *h Tc Twpa*A*T**T*TOT**o *iO***\n",
      "\n",
      "True:\n",
      " @user South America loves you**\n",
      "Sample:\n",
      " *ia********uu*a *aeea*****Iayar\n",
      "\n",
      "True:\n",
      " @user of course****************\n",
      "Sample:\n",
      " Itm   euai  t   T  ma  @ ro   a\n",
      "\n",
      "True:\n",
      " The nyc skyline is unreal******\n",
      "Sample:\n",
      " *b  Te *I*T****h*hOOy*******T**\n",
      "\n",
      "True:\n",
      " Damn. You are cool*************\n",
      "Sample:\n",
      "      h c T*TET I **hs*A*HO*Te**\n",
      "\n",
      "True:\n",
      " Apprentice and BB night tonight\n",
      "Sample:\n",
      " M   aO*I Ta **i**hn*T wa*T **Tw\n",
      "\n",
      "True:\n",
      " @user how short****************\n",
      "Sample:\n",
      " TeTT *D*Ieh T**T Ntckan*areS*I \n",
      "\n",
      "True:\n",
      " thank god. itunes is now sorted\n",
      "Sample:\n",
      "  tc shato***I'th *ae*Te*****a**\n",
      "\n",
      "True:\n",
      " @user what did you think*******\n",
      "Sample:\n",
      " *ie  **T hre*w *To wayehek w **\n",
      "\n",
      "True:\n",
      " Watching my favorite show @user\n",
      "Sample:\n",
      " TrPvi.*I a********T******TO*Hi \n",
      "\n",
      "True:\n",
      " @user agreed*******************\n",
      "Sample:\n",
      " **s ****uir****Tus*T*Toa****TTy\n"
     ]
    }
   ],
   "source": [
    "sampleCompare(batch_loader,model_big,dataset.encoderDecoder)"
   ]
  }
 ],
 "metadata": {
  "kernelspec": {
   "display_name": "Python 3",
   "language": "python",
   "name": "python3"
  },
  "language_info": {
   "codemirror_mode": {
    "name": "ipython",
    "version": 3
   },
   "file_extension": ".py",
   "mimetype": "text/x-python",
   "name": "python",
   "nbconvert_exporter": "python",
   "pygments_lexer": "ipython3",
   "version": "3.6.5"
  }
 },
 "nbformat": 4,
 "nbformat_minor": 2
}
