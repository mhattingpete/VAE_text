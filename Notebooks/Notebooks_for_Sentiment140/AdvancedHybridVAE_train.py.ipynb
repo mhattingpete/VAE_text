{
 "cells": [
  {
   "cell_type": "markdown",
   "metadata": {},
   "source": [
    "# Train script for Advanced Hybrid VAE model"
   ]
  },
  {
   "cell_type": "markdown",
   "metadata": {},
   "source": [
    "### imports"
   ]
  },
  {
   "cell_type": "code",
   "execution_count": 1,
   "metadata": {},
   "outputs": [],
   "source": [
    "%matplotlib inline\n",
    "\n",
    "from torch.autograd import Variable\n",
    "from torch import optim\n",
    "from torch.utils.data import DataLoader\n",
    "import torch\n",
    "\n",
    "import sys\n",
    "sys.path.append(\"../../Modules\")\n",
    "sys.path.append(\"../../Datasets\")\n",
    "\n",
    "# local imports\n",
    "from train import train_twitter\n",
    "from helpers import kl_loss,nll_loss,mse_loss,kl_loss_multi\n",
    "from models import AdvancedHybridVAE\n",
    "from babelDatasets.sentiment140 import Sentiment140\n",
    "from babelDatasets.utils import padding_merge"
   ]
  },
  {
   "cell_type": "markdown",
   "metadata": {},
   "source": [
    "## Define dataset loader"
   ]
  },
  {
   "cell_type": "code",
   "execution_count": 2,
   "metadata": {},
   "outputs": [
    {
     "name": "stdout",
     "output_type": "stream",
     "text": [
      "# N sents: 150000  train: True  sentences_path: ../../Datasets/Data/train_sentences.txt\n",
      "# N sents: 52990  train: False  sentences_path: ../../Datasets/Data/test_sentences.txt\n"
     ]
    }
   ],
   "source": [
    "batch_size = 32\n",
    "\n",
    "data_loader = DataLoader(Sentiment140(data_directory=\"../../Datasets/Data\",train=True,max_sentence_size=32),batch_size=batch_size,shuffle=True,collate_fn=padding_merge)\n",
    "valid_data_loader = DataLoader(Sentiment140(data_directory=\"../../Datasets/Data\",train=False,max_sentence_size=32),batch_size=batch_size,shuffle=True,collate_fn=padding_merge)\n",
    "\n",
    "num_classes = 82\n",
    "\n",
    "batch_loader = iter(data_loader)\n",
    "valid_batch_loader = iter(valid_data_loader)\n",
    "# input has shape [batch_size,seq_len,1]"
   ]
  },
  {
   "cell_type": "markdown",
   "metadata": {},
   "source": [
    "## Define model"
   ]
  },
  {
   "cell_type": "code",
   "execution_count": 4,
   "metadata": {},
   "outputs": [
    {
     "name": "stdout",
     "output_type": "stream",
     "text": [
      "Number of trainable parameters 1184036\n",
      "Forward pass succesfull\n"
     ]
    }
   ],
   "source": [
    "model = AdvancedHybridVAE(input_size=1,conv_size=256,rnn_size=256,latent_size=64,output_size=num_classes,use_softmax=True)\n",
    "print(\"Number of trainable parameters {}\".format(sum(p.numel() for p in model.parameters() if p.requires_grad)))\n",
    "\n",
    "# test forward pass\n",
    "try:\n",
    "    initial_batch = batch_loader.next()[0]\n",
    "    x = Variable(torch.FloatTensor(initial_batch)).transpose(1,0).unsqueeze(2)\n",
    "    test,_,_ = model(x)\n",
    "    assert (test.shape[0] == x.shape[0] and test.shape[1] == x.shape[1] and test.shape[2] == num_classes)\n",
    "    print(\"Forward pass succesfull\")\n",
    "except:\n",
    "    print(\"Error in forward pass. Output should have shape: {} but had {}\".format(x.contiguous().view(-1).shape,test.view(-1).shape))"
   ]
  },
  {
   "cell_type": "markdown",
   "metadata": {},
   "source": [
    "## Define optimizer and loss"
   ]
  },
  {
   "cell_type": "code",
   "execution_count": 5,
   "metadata": {},
   "outputs": [],
   "source": [
    "learning_rate = 1e-4\n",
    "optimizer = optim.Adam(model.parameters(),lr=learning_rate,weight_decay=1e-3)\n",
    "scheduler = optim.lr_scheduler.ReduceLROnPlateau(optimizer,mode=\"min\",factor=0.5,verbose=True,cooldown=2)"
   ]
  },
  {
   "cell_type": "markdown",
   "metadata": {},
   "source": [
    "## Run trainer"
   ]
  },
  {
   "cell_type": "code",
   "execution_count": 6,
   "metadata": {
    "scrolled": false
   },
   "outputs": [
    {
     "name": "stdout",
     "output_type": "stream",
     "text": [
      "\n",
      "Train (1 5%) elbo: -1.1995 r_loss: -0.9345 kl: 104170.6985 aux_loss: -0.8835 beta 0.00e+00\n",
      "Valid (1 5%) elbo: -0.5007 r_loss: -0.3567 kl: 121344.5781 aux_loss: -0.4799 beta 0.00e+00\n",
      "\n",
      "Train (2 10%) elbo: -1.3309 r_loss: -0.7537 kl: 585.1350 aux_loss: -0.8975 beta 5.26e-04\n",
      "Valid (2 10%) elbo: -1.1315 r_loss: -0.6570 kl: 455.1726 aux_loss: -0.7831 beta 5.26e-04\n",
      "\n",
      "Train (3 15%) elbo: -1.1107 r_loss: -0.6028 kl: 285.4838 aux_loss: -0.6914 beta 1.05e-03\n",
      "Valid (3 15%) elbo: -1.0929 r_loss: -0.5952 kl: 277.2130 aux_loss: -0.6863 beta 1.05e-03\n",
      "\n",
      "Train (4 20%) elbo: -1.0697 r_loss: -0.5581 kl: 203.2361 aux_loss: -0.6357 beta 1.58e-03\n",
      "Valid (4 20%) elbo: -1.1477 r_loss: -0.6086 kl: 202.3793 aux_loss: -0.7321 beta 1.58e-03\n",
      "\n",
      "Train (5 25%) elbo: -1.0653 r_loss: -0.5407 kl: 161.3369 aux_loss: -0.6164 beta 2.11e-03\n",
      "Valid (5 25%) elbo: -0.9804 r_loss: -0.5090 kl: 140.7488 aux_loss: -0.5836 beta 2.11e-03\n",
      "\n",
      "Train (6 30%) elbo: -1.0679 r_loss: -0.5315 kl: 134.4627 aux_loss: -0.6084 beta 2.63e-03\n",
      "Valid (6 30%) elbo: -0.9372 r_loss: -0.4501 kl: 127.1588 aux_loss: -0.5080 beta 2.63e-03\n",
      "\n",
      "Train (7 35%) elbo: -1.0824 r_loss: -0.5287 kl: 117.7241 aux_loss: -0.6064 beta 3.16e-03\n",
      "Valid (7 35%) elbo: -1.0147 r_loss: -0.4908 kl: 112.5698 aux_loss: -0.5613 beta 3.16e-03\n",
      "\n",
      "Train (8 40%) elbo: -1.0947 r_loss: -0.5256 kl: 105.2966 aux_loss: -0.6037 beta 3.68e-03\n",
      "Valid (8 40%) elbo: -1.1797 r_loss: -0.5891 kl: 104.5925 aux_loss: -0.6842 beta 3.68e-03\n",
      "\n",
      "Train (9 45%) elbo: -1.1236 r_loss: -0.5265 kl: 98.6862 aux_loss: -0.6052 beta 4.21e-03\n",
      "Valid (9 45%) elbo: -0.9833 r_loss: -0.4388 kl: 93.5134 aux_loss: -0.5028 beta 4.21e-03\n",
      "\n",
      "Train (10 50%) elbo: -1.1528 r_loss: -0.5285 kl: 93.3421 aux_loss: -0.6073 beta 4.74e-03\n",
      "Valid (10 50%) elbo: -1.0910 r_loss: -0.4875 kl: 91.3046 aux_loss: -0.5700 beta 4.74e-03\n",
      "\n",
      "Train (11 55%) elbo: -1.1858 r_loss: -0.5325 kl: 89.2164 aux_loss: -0.6126 beta 5.26e-03\n",
      "Valid (11 55%) elbo: -1.1657 r_loss: -0.4951 kl: 94.5483 aux_loss: -0.5767 beta 5.26e-03\n",
      "\n",
      "Train (12 60%) elbo: -1.2188 r_loss: -0.5389 kl: 85.3396 aux_loss: -0.6195 beta 5.79e-03\n",
      "Epoch    11: reducing learning rate of group 0 to 5.0000e-05.\n",
      "Valid (12 60%) elbo: -1.1193 r_loss: -0.4626 kl: 85.6904 aux_loss: -0.5352 beta 5.79e-03\n",
      "\n",
      "Train (13 65%) elbo: -1.2322 r_loss: -0.5315 kl: 81.6765 aux_loss: -0.6159 beta 6.32e-03\n",
      "Valid (13 65%) elbo: -1.0573 r_loss: -0.4232 kl: 76.8859 aux_loss: -0.4951 beta 6.32e-03\n",
      "\n",
      "Train (14 70%) elbo: -1.2668 r_loss: -0.5410 kl: 78.5977 aux_loss: -0.6267 beta 6.84e-03\n",
      "Valid (14 70%) elbo: -1.3692 r_loss: -0.5973 kl: 82.2191 aux_loss: -0.6980 beta 6.84e-03\n",
      "\n",
      "Train (15 75%) elbo: -1.2945 r_loss: -0.5510 kl: 74.9345 aux_loss: -0.6378 beta 7.37e-03\n",
      "Valid (15 75%) elbo: -1.2586 r_loss: -0.4902 kl: 81.0915 aux_loss: -0.5698 beta 7.37e-03\n",
      "\n",
      "Train (16 80%) elbo: -1.3233 r_loss: -0.5603 kl: 71.9740 aux_loss: -0.6492 beta 7.89e-03\n",
      "Valid (16 80%) elbo: -1.2847 r_loss: -0.5076 kl: 75.7378 aux_loss: -0.5972 beta 7.89e-03\n",
      "\n",
      "Train (17 85%) elbo: -1.3458 r_loss: -0.5744 kl: 67.9311 aux_loss: -0.6642 beta 8.42e-03\n",
      "Valid (17 85%) elbo: -1.4157 r_loss: -0.6264 kl: 67.7500 aux_loss: -0.7291 beta 8.42e-03\n",
      "\n",
      "Train (18 90%) elbo: -1.3692 r_loss: -0.5793 kl: 65.8209 aux_loss: -0.6698 beta 8.95e-03\n",
      "Valid (18 90%) elbo: -1.3223 r_loss: -0.5351 kl: 67.8244 aux_loss: -0.6011 beta 8.95e-03\n",
      "\n",
      "Train (19 95%) elbo: -1.3949 r_loss: -0.5839 kl: 64.2208 aux_loss: -0.6753 beta 9.47e-03\n",
      "Valid (19 95%) elbo: -1.3745 r_loss: -0.5580 kl: 66.4282 aux_loss: -0.6240 beta 9.47e-03\n",
      "\n",
      "Train (20 100%) elbo: -1.4195 r_loss: -0.5885 kl: 62.6861 aux_loss: -0.6803 beta 1.00e-02\n",
      "Valid (20 100%) elbo: -1.2676 r_loss: -0.5022 kl: 58.9239 aux_loss: -0.5871 beta 1.00e-02\n"
     ]
    },
    {
     "data": {
      "image/png": "[encoded data removed]",
      "text/plain": [
       "<Figure size 432x288 with 1 Axes>"
      ]
     },
     "metadata": {},
     "output_type": "display_data"
    }
   ],
   "source": [
    "# use at least 50 iterations to get good results\n",
    "train_twitter(data_loader,valid_data_loader,model,optimizer,scheduler,loss_fn=nll_loss,kl_loss_fn=kl_loss_multi,n_iters=20,use_softmax=True,max_beta=1e-2,print_every=1,plot_pred=False,max_batches=3000)"
   ]
  },
  {
   "cell_type": "code",
   "execution_count": 7,
   "metadata": {},
   "outputs": [],
   "source": [
    "#torch.save(model.state_dict(),\"../../Saved_models/Sentiment140/HybridVAE_nll_map.pt\")"
   ]
  },
  {
   "cell_type": "markdown",
   "metadata": {},
   "source": [
    "Train (20 100%) elbo: -1.4195 r_loss: -0.5885 kl: 62.6861 aux_loss: -0.6803 beta 1.00e-02\n",
    "\n",
    "Valid (20 100%) elbo: -1.2676 r_loss: -0.5022 kl: 58.9239 aux_loss: -0.5871 beta 1.00e-02"
   ]
  }
 ],
 "metadata": {
  "kernelspec": {
   "display_name": "Python 3",
   "language": "python",
   "name": "python3"
  },
  "language_info": {
   "codemirror_mode": {
    "name": "ipython",
    "version": 3
   },
   "file_extension": ".py",
   "mimetype": "text/x-python",
   "name": "python",
   "nbconvert_exporter": "python",
   "pygments_lexer": "ipython3",
   "version": "3.6.5"
  }
 },
 "nbformat": 4,
 "nbformat_minor": 2
}
