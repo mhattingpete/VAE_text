{
 "cells": [
  {
   "cell_type": "markdown",
   "metadata": {},
   "source": [
    "# Train script for Ladder CNN VAE model"
   ]
  },
  {
   "cell_type": "markdown",
   "metadata": {},
   "source": [
    "### imports"
   ]
  },
  {
   "cell_type": "code",
   "execution_count": 1,
   "metadata": {},
   "outputs": [],
   "source": [
    "%matplotlib inline\n",
    "\n",
    "from torch.autograd import Variable\n",
    "from torch import optim\n",
    "from torch.utils.data import DataLoader\n",
    "import torch\n",
    "\n",
    "import sys\n",
    "sys.path.append(\"../../Modules\")\n",
    "sys.path.append(\"../../Datasets\")\n",
    "\n",
    "# local imports\n",
    "from train import train_twitter\n",
    "from helpers import nll_loss\n",
    "from models import LadderCNNVAE\n",
    "from babelDatasets.sentiment140 import Sentiment140\n",
    "from babelDatasets.utils import padding_merge"
   ]
  },
  {
   "cell_type": "markdown",
   "metadata": {},
   "source": [
    "## Define dataset loader"
   ]
  },
  {
   "cell_type": "code",
   "execution_count": 2,
   "metadata": {},
   "outputs": [
    {
     "name": "stdout",
     "output_type": "stream",
     "text": [
      "# N sents: 150000  train: True  sentences_path: ../../Datasets/Data/train_sentences.txt\n",
      "# N sents: 52990  train: False  sentences_path: ../../Datasets/Data/test_sentences.txt\n"
     ]
    }
   ],
   "source": [
    "batch_size = 32\n",
    "\n",
    "data_loader = DataLoader(Sentiment140(data_directory=\"../../Datasets/Data\",train=True,max_sentence_size=32),batch_size=batch_size,shuffle=True,collate_fn=padding_merge)\n",
    "valid_data_loader = DataLoader(Sentiment140(data_directory=\"../../Datasets/Data\",train=False,max_sentence_size=32),batch_size=batch_size,shuffle=True,collate_fn=padding_merge)\n",
    "\n",
    "num_classes = 82\n",
    "\n",
    "batch_loader = iter(data_loader)\n",
    "valid_batch_loader = iter(valid_data_loader)\n",
    "# input has shape [batch_size,seq_len,1]"
   ]
  },
  {
   "cell_type": "markdown",
   "metadata": {},
   "source": [
    "## Define model"
   ]
  },
  {
   "cell_type": "code",
   "execution_count": 3,
   "metadata": {
    "scrolled": false
   },
   "outputs": [
    {
     "name": "stdout",
     "output_type": "stream",
     "text": [
      "Number of trainable parameters 1636802\n",
      "Forward pass succesfull\n"
     ]
    }
   ],
   "source": [
    "model = LadderCNNVAE(input_size=1,hidden_sizes=[300,200,150,100,50],latent_sizes=[200,150,100,50,20],recon_hidden_size=128,output_size=num_classes,use_softmax=True)\n",
    "print(\"Number of trainable parameters {}\".format(sum(p.numel() for p in model.parameters() if p.requires_grad)))\n",
    "\n",
    "# test forward pass\n",
    "try:\n",
    "    initial_batch = batch_loader.next()[0]\n",
    "    x = Variable(torch.FloatTensor(initial_batch)).transpose(1,0).unsqueeze(2)\n",
    "    test,_ = model(x)\n",
    "    assert (test.shape[0] == x.shape[0] and test.shape[1] == x.shape[1] and test.shape[2] == num_classes)\n",
    "    print(\"Forward pass succesfull\")\n",
    "except:\n",
    "    print(\"Error in forward pass. Output should have shape: {} but had {}\".format(x.contiguous().view(-1).shape,test.view(-1).shape))"
   ]
  },
  {
   "cell_type": "markdown",
   "metadata": {},
   "source": [
    "## Define optimizer and loss"
   ]
  },
  {
   "cell_type": "code",
   "execution_count": 4,
   "metadata": {},
   "outputs": [],
   "source": [
    "learning_rate = 1e-4\n",
    "optimizer = optim.Adam(model.parameters(),lr=learning_rate,weight_decay=1e-3)\n",
    "scheduler = optim.lr_scheduler.ReduceLROnPlateau(optimizer,mode=\"min\",factor=0.5,verbose=True,cooldown=2)"
   ]
  },
  {
   "cell_type": "markdown",
   "metadata": {},
   "source": [
    "## Run trainer"
   ]
  },
  {
   "cell_type": "code",
   "execution_count": 5,
   "metadata": {
    "scrolled": false
   },
   "outputs": [
    {
     "name": "stdout",
     "output_type": "stream",
     "text": [
      "\n",
      "Train (1 5%) elbo: -1.5924 r_loss: -1.5924 kl: 21234.8954 aux_loss: 0.0000 beta 0.00e+00\n",
      "Valid (1 5%) elbo: -1.2302 r_loss: -1.2302 kl: 43365.6094 aux_loss: 0.0000 beta 0.00e+00\n",
      "\n",
      "Train (2 10%) elbo: -1.3480 r_loss: -1.1692 kl: 339.7503 aux_loss: 0.0000 beta 5.26e-04\n",
      "Valid (2 10%) elbo: -1.0850 r_loss: -1.0055 kl: 150.9978 aux_loss: 0.0000 beta 5.26e-04\n",
      "\n",
      "Train (3 15%) elbo: -1.0543 r_loss: -0.9257 kl: 122.1180 aux_loss: 0.0000 beta 1.05e-03\n",
      "Valid (3 15%) elbo: -0.9824 r_loss: -0.8660 kl: 110.5899 aux_loss: 0.0000 beta 1.05e-03\n",
      "\n",
      "Train (4 20%) elbo: -1.0181 r_loss: -0.8562 kl: 102.5539 aux_loss: 0.0000 beta 1.58e-03\n",
      "Valid (4 20%) elbo: -0.9185 r_loss: -0.7627 kl: 98.6835 aux_loss: 0.0000 beta 1.58e-03\n",
      "\n",
      "Train (5 25%) elbo: -1.0113 r_loss: -0.8153 kl: 93.1290 aux_loss: 0.0000 beta 2.11e-03\n",
      "Valid (5 25%) elbo: -0.8791 r_loss: -0.6759 kl: 96.5253 aux_loss: 0.0000 beta 2.11e-03\n",
      "\n",
      "Train (6 30%) elbo: -1.0260 r_loss: -0.7935 kl: 88.3171 aux_loss: 0.0000 beta 2.63e-03\n",
      "Valid (6 30%) elbo: -1.0498 r_loss: -0.8167 kl: 88.6019 aux_loss: 0.0000 beta 2.63e-03\n",
      "\n",
      "Train (7 35%) elbo: -1.0441 r_loss: -0.7784 kl: 84.1474 aux_loss: 0.0000 beta 3.16e-03\n",
      "Valid (7 35%) elbo: -0.9006 r_loss: -0.6309 kl: 85.4034 aux_loss: 0.0000 beta 3.16e-03\n",
      "\n",
      "Train (8 40%) elbo: -1.0664 r_loss: -0.7696 kl: 80.5521 aux_loss: 0.0000 beta 3.68e-03\n",
      "Valid (8 40%) elbo: -0.9281 r_loss: -0.6062 kl: 87.3708 aux_loss: 0.0000 beta 3.68e-03\n",
      "\n",
      "Train (9 45%) elbo: -1.0917 r_loss: -0.7651 kl: 77.5683 aux_loss: 0.0000 beta 4.21e-03\n",
      "Valid (9 45%) elbo: -0.9789 r_loss: -0.6609 kl: 75.5176 aux_loss: 0.0000 beta 4.21e-03\n",
      "\n",
      "Train (10 50%) elbo: -1.1182 r_loss: -0.7647 kl: 74.6239 aux_loss: 0.0000 beta 4.74e-03\n",
      "Valid (10 50%) elbo: -1.0572 r_loss: -0.6950 kl: 76.4688 aux_loss: 0.0000 beta 4.74e-03\n",
      "\n",
      "Train (11 55%) elbo: -1.1443 r_loss: -0.7673 kl: 71.6206 aux_loss: 0.0000 beta 5.26e-03\n",
      "Valid (11 55%) elbo: -1.1820 r_loss: -0.7906 kl: 74.3564 aux_loss: 0.0000 beta 5.26e-03\n",
      "\n",
      "Train (12 60%) elbo: -1.1728 r_loss: -0.7742 kl: 68.8551 aux_loss: 0.0000 beta 5.79e-03\n",
      "Valid (12 60%) elbo: -1.0893 r_loss: -0.7041 kl: 66.5331 aux_loss: 0.0000 beta 5.79e-03\n",
      "\n",
      "Train (13 65%) elbo: -1.1956 r_loss: -0.7847 kl: 65.0679 aux_loss: 0.0000 beta 6.32e-03\n",
      "Valid (13 65%) elbo: -1.1357 r_loss: -0.7224 kl: 65.4435 aux_loss: 0.0000 beta 6.32e-03\n",
      "\n",
      "Train (14 70%) elbo: -1.2072 r_loss: -0.8051 kl: 58.7794 aux_loss: 0.0000 beta 6.84e-03\n",
      "Valid (14 70%) elbo: -1.1342 r_loss: -0.7178 kl: 60.8524 aux_loss: 0.0000 beta 6.84e-03\n",
      "\n",
      "Train (15 75%) elbo: -1.2167 r_loss: -0.8389 kl: 51.2733 aux_loss: 0.0000 beta 7.37e-03\n",
      "Valid (15 75%) elbo: -1.1396 r_loss: -0.7579 kl: 51.8001 aux_loss: 0.0000 beta 7.37e-03\n",
      "\n",
      "Train (16 80%) elbo: -1.2248 r_loss: -0.8376 kl: 49.0420 aux_loss: 0.0000 beta 7.89e-03\n",
      "Epoch    15: reducing learning rate of group 0 to 5.0000e-05.\n",
      "Valid (16 80%) elbo: -1.0424 r_loss: -0.6748 kl: 46.5701 aux_loss: 0.0000 beta 7.89e-03\n",
      "\n",
      "Train (17 85%) elbo: -1.2018 r_loss: -0.8180 kl: 45.5793 aux_loss: 0.0000 beta 8.42e-03\n",
      "Valid (17 85%) elbo: -1.1384 r_loss: -0.7271 kl: 48.8365 aux_loss: 0.0000 beta 8.42e-03\n",
      "\n",
      "Train (18 90%) elbo: -1.2132 r_loss: -0.8112 kl: 44.9255 aux_loss: 0.0000 beta 8.95e-03\n",
      "Valid (18 90%) elbo: -1.1554 r_loss: -0.7296 kl: 47.5930 aux_loss: 0.0000 beta 8.95e-03\n",
      "\n",
      "Train (19 95%) elbo: -1.2274 r_loss: -0.8076 kl: 44.3140 aux_loss: 0.0000 beta 9.47e-03\n",
      "Valid (19 95%) elbo: -1.2995 r_loss: -0.8420 kl: 48.2856 aux_loss: 0.0000 beta 9.47e-03\n",
      "\n",
      "Train (20 100%) elbo: -1.2437 r_loss: -0.8069 kl: 43.6867 aux_loss: 0.0000 beta 1.00e-02\n",
      "Valid (20 100%) elbo: -1.1795 r_loss: -0.7337 kl: 44.5860 aux_loss: 0.0000 beta 1.00e-02\n"
     ]
    },
    {
     "data": {
      "image/png": "[encoded data removed]",
      "text/plain": [
       "<Figure size 432x288 with 1 Axes>"
      ]
     },
     "metadata": {},
     "output_type": "display_data"
    }
   ],
   "source": [
    "# use at least 50 iterations to get good results\n",
    "train_twitter(data_loader,valid_data_loader,model,optimizer,scheduler,loss_fn=nll_loss,kl_loss_fn=None,n_iters=20,use_softmax=True,max_beta=1e-2,print_every=1,plot_pred=False,max_batches=3000)"
   ]
  },
  {
   "cell_type": "code",
   "execution_count": 6,
   "metadata": {},
   "outputs": [],
   "source": [
    "#torch.save(model.state_dict(),\"../../Saved_models/Sentiment140/LCNNVAE_nll_map_best_5l.pt\")"
   ]
  },
  {
   "cell_type": "markdown",
   "metadata": {},
   "source": [
    "model with the following settings:\n",
    "\n",
    "hidden_sizes=[512,256,128],latent_sizes=[64,32,16],recon_hidden_size=256\n",
    "\n",
    "got:\n",
    "\n",
    "Train (20 100%) elbo: -1.0568 r_loss: -0.5148 kl: 54.2003 aux_loss: 0.0000 beta 1.00e-02\n",
    "\n",
    "Valid (20 100%) elbo: -0.9635 r_loss: -0.4337 kl: 52.9805 aux_loss: 0.0000 beta 1.00e-02\n",
    "\n",
    "model with following settings:\n",
    "\n",
    "hidden_sizes=[512,256,128,64,32],latent_sizes=[128,64,32,16,8],recon_hidden_size=256\n",
    "\n",
    "got:\n",
    "\n",
    "Train (20 100%) elbo: -1.1864 r_loss: -0.7873 kl: 39.9118 aux_loss: 0.0000 beta 1.00e-02\n",
    "\n",
    "Valid (20 100%) elbo: -1.2850 r_loss: -0.8711 kl: 41.3991 aux_loss: 0.0000 beta 1.00e-02"
   ]
  }
 ],
 "metadata": {
  "kernelspec": {
   "display_name": "Python 3",
   "language": "python",
   "name": "python3"
  },
  "language_info": {
   "codemirror_mode": {
    "name": "ipython",
    "version": 3
   },
   "file_extension": ".py",
   "mimetype": "text/x-python",
   "name": "python",
   "nbconvert_exporter": "python",
   "pygments_lexer": "ipython3",
   "version": "3.6.5"
  }
 },
 "nbformat": 4,
 "nbformat_minor": 2
}
