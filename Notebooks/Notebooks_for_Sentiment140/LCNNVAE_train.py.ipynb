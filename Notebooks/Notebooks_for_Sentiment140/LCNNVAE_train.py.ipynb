{
 "cells": [
  {
   "cell_type": "markdown",
   "metadata": {},
   "source": [
    "# Train script for Ladder CNN VAE model"
   ]
  },
  {
   "cell_type": "markdown",
   "metadata": {},
   "source": [
    "### imports"
   ]
  },
  {
   "cell_type": "code",
   "execution_count": 1,
   "metadata": {},
   "outputs": [],
   "source": [
    "%matplotlib inline\n",
    "\n",
    "from torch.autograd import Variable\n",
    "from torch import optim\n",
    "from torch.utils.data import DataLoader\n",
    "import torch\n",
    "\n",
    "import sys\n",
    "sys.path.append(\"../../Modules\")\n",
    "sys.path.append(\"../../Datasets\")\n",
    "\n",
    "# local imports\n",
    "from train import train_twitter\n",
    "from helpers import nll_loss\n",
    "from models import LadderCNNVAE\n",
    "from babelDatasets.sentiment140 import Sentiment140\n",
    "from babelDatasets.utils import padding_merge"
   ]
  },
  {
   "cell_type": "markdown",
   "metadata": {},
   "source": [
    "## Define dataset loader"
   ]
  },
  {
   "cell_type": "code",
   "execution_count": 2,
   "metadata": {},
   "outputs": [
    {
     "name": "stdout",
     "output_type": "stream",
     "text": [
      "# N sents: 150000  train: True  sentences_path: ../../Datasets/Data/train_sentences.txt\n",
      "# N sents: 52990  train: False  sentences_path: ../../Datasets/Data/test_sentences.txt\n"
     ]
    }
   ],
   "source": [
    "batch_size = 32\n",
    "\n",
    "data_loader = DataLoader(Sentiment140(data_directory=\"../../Datasets/Data\",train=True,max_sentence_size=32),batch_size=batch_size,shuffle=True,collate_fn=padding_merge)\n",
    "valid_data_loader = DataLoader(Sentiment140(data_directory=\"../../Datasets/Data\",train=False,max_sentence_size=32),batch_size=batch_size,shuffle=True,collate_fn=padding_merge)\n",
    "\n",
    "num_classes = 82\n",
    "\n",
    "batch_loader = iter(data_loader)\n",
    "valid_batch_loader = iter(valid_data_loader)\n",
    "# input has shape [batch_size,seq_len,1]"
   ]
  },
  {
   "cell_type": "markdown",
   "metadata": {},
   "source": [
    "## Define model"
   ]
  },
  {
   "cell_type": "code",
   "execution_count": 3,
   "metadata": {
    "scrolled": false
   },
   "outputs": [
    {
     "name": "stdout",
     "output_type": "stream",
     "text": [
      "Number of trainable parameters 1832994\n",
      "Forward pass succesfull\n"
     ]
    }
   ],
   "source": [
    "model = LadderCNNVAE(input_size=1,hidden_sizes=[512,256,128,64,32],latent_sizes=[128,64,32,16,8],recon_hidden_size=256,output_size=num_classes,use_softmax=True)\n",
    "print(\"Number of trainable parameters {}\".format(sum(p.numel() for p in model.parameters() if p.requires_grad)))\n",
    "\n",
    "# test forward pass\n",
    "try:\n",
    "    initial_batch = batch_loader.next()[0]\n",
    "    x = Variable(torch.FloatTensor(initial_batch)).transpose(1,0).unsqueeze(2)\n",
    "    test,_ = model(x)\n",
    "    assert (test.shape[0] == x.shape[0] and test.shape[1] == x.shape[1] and test.shape[2] == num_classes)\n",
    "    print(\"Forward pass succesfull\")\n",
    "except:\n",
    "    print(\"Error in forward pass. Output should have shape: {} but had {}\".format(x.contiguous().view(-1).shape,test.view(-1).shape))"
   ]
  },
  {
   "cell_type": "markdown",
   "metadata": {},
   "source": [
    "## Define optimizer and loss"
   ]
  },
  {
   "cell_type": "code",
   "execution_count": 4,
   "metadata": {},
   "outputs": [],
   "source": [
    "learning_rate = 1e-4\n",
    "optimizer = optim.Adam(model.parameters(),lr=learning_rate,weight_decay=1e-3)\n",
    "scheduler = optim.lr_scheduler.ReduceLROnPlateau(optimizer,mode=\"min\",factor=0.5,verbose=True,cooldown=2)"
   ]
  },
  {
   "cell_type": "markdown",
   "metadata": {},
   "source": [
    "## Run trainer"
   ]
  },
  {
   "cell_type": "code",
   "execution_count": 5,
   "metadata": {
    "scrolled": false
   },
   "outputs": [
    {
     "name": "stdout",
     "output_type": "stream",
     "text": [
      "\n",
      "Train (1 5%) elbo: -1.6045 r_loss: -1.6045 kl: 23496.8557 aux_loss: 0.0000 beta 0.00e+00\n",
      "Valid (1 5%) elbo: -1.1262 r_loss: -1.1262 kl: 46009.7930 aux_loss: 0.0000 beta 0.00e+00\n",
      "\n",
      "Train (2 10%) elbo: -1.3960 r_loss: -1.2110 kl: 351.3840 aux_loss: 0.0000 beta 5.26e-04\n",
      "Valid (2 10%) elbo: -1.0597 r_loss: -0.9815 kl: 148.5014 aux_loss: 0.0000 beta 5.26e-04\n",
      "\n",
      "Train (3 15%) elbo: -1.0807 r_loss: -0.9494 kl: 124.7618 aux_loss: 0.0000 beta 1.05e-03\n",
      "Valid (3 15%) elbo: -0.9683 r_loss: -0.8348 kl: 126.7937 aux_loss: 0.0000 beta 1.05e-03\n",
      "\n",
      "Train (4 20%) elbo: -1.0354 r_loss: -0.8566 kl: 113.2407 aux_loss: 0.0000 beta 1.58e-03\n",
      "Valid (4 20%) elbo: -0.8875 r_loss: -0.7202 kl: 105.9670 aux_loss: 0.0000 beta 1.58e-03\n",
      "\n",
      "Train (5 25%) elbo: -1.0368 r_loss: -0.8156 kl: 105.0931 aux_loss: 0.0000 beta 2.11e-03\n",
      "Valid (5 25%) elbo: -1.0297 r_loss: -0.8171 kl: 100.9771 aux_loss: 0.0000 beta 2.11e-03\n",
      "\n",
      "Train (6 30%) elbo: -1.0599 r_loss: -0.8037 kl: 97.3849 aux_loss: 0.0000 beta 2.63e-03\n",
      "Valid (6 30%) elbo: -1.0617 r_loss: -0.7872 kl: 104.2899 aux_loss: 0.0000 beta 2.63e-03\n",
      "\n",
      "Train (7 35%) elbo: -1.0681 r_loss: -0.8023 kl: 84.1520 aux_loss: 0.0000 beta 3.16e-03\n",
      "Valid (7 35%) elbo: -1.1285 r_loss: -0.8573 kl: 85.8823 aux_loss: 0.0000 beta 3.16e-03\n",
      "\n",
      "Train (8 40%) elbo: -1.0573 r_loss: -0.7834 kl: 74.3353 aux_loss: 0.0000 beta 3.68e-03\n",
      "Valid (8 40%) elbo: -0.9515 r_loss: -0.6752 kl: 74.9978 aux_loss: 0.0000 beta 3.68e-03\n",
      "\n",
      "Train (9 45%) elbo: -1.0786 r_loss: -0.7770 kl: 71.6371 aux_loss: 0.0000 beta 4.21e-03\n",
      "Valid (9 45%) elbo: -1.1122 r_loss: -0.8062 kl: 72.6755 aux_loss: 0.0000 beta 4.21e-03\n",
      "\n",
      "Train (10 50%) elbo: -1.1044 r_loss: -0.7770 kl: 69.1188 aux_loss: 0.0000 beta 4.74e-03\n",
      "Valid (10 50%) elbo: -1.1508 r_loss: -0.8537 kl: 62.7263 aux_loss: 0.0000 beta 4.74e-03\n",
      "\n",
      "Train (11 55%) elbo: -1.1338 r_loss: -0.7820 kl: 66.8385 aux_loss: 0.0000 beta 5.26e-03\n",
      "Valid (11 55%) elbo: -1.0495 r_loss: -0.7157 kl: 63.4277 aux_loss: 0.0000 beta 5.26e-03\n",
      "\n",
      "Train (12 60%) elbo: -1.1610 r_loss: -0.7864 kl: 64.6929 aux_loss: 0.0000 beta 5.79e-03\n",
      "Valid (12 60%) elbo: -1.0147 r_loss: -0.6646 kl: 60.4826 aux_loss: 0.0000 beta 5.79e-03\n",
      "\n",
      "Train (13 65%) elbo: -1.1906 r_loss: -0.7939 kl: 62.7966 aux_loss: 0.0000 beta 6.32e-03\n",
      "Valid (13 65%) elbo: -1.1106 r_loss: -0.7302 kl: 60.2367 aux_loss: 0.0000 beta 6.32e-03\n",
      "\n",
      "Train (14 70%) elbo: -1.2182 r_loss: -0.8017 kl: 60.8830 aux_loss: 0.0000 beta 6.84e-03\n",
      "Valid (14 70%) elbo: -1.1035 r_loss: -0.6967 kl: 59.4574 aux_loss: 0.0000 beta 6.84e-03\n",
      "\n",
      "Train (15 75%) elbo: -1.2438 r_loss: -0.8106 kl: 58.7920 aux_loss: 0.0000 beta 7.37e-03\n",
      "Epoch    14: reducing learning rate of group 0 to 5.0000e-05.\n",
      "Valid (15 75%) elbo: -1.2052 r_loss: -0.7834 kl: 57.2521 aux_loss: 0.0000 beta 7.37e-03\n",
      "\n",
      "Train (16 80%) elbo: -1.2365 r_loss: -0.8037 kl: 54.8231 aux_loss: 0.0000 beta 7.89e-03\n",
      "Valid (16 80%) elbo: -1.1600 r_loss: -0.7375 kl: 53.5149 aux_loss: 0.0000 beta 7.89e-03\n",
      "\n",
      "Train (17 85%) elbo: -1.2353 r_loss: -0.8146 kl: 49.9601 aux_loss: 0.0000 beta 8.42e-03\n",
      "Valid (17 85%) elbo: -1.0973 r_loss: -0.7342 kl: 43.1186 aux_loss: 0.0000 beta 8.42e-03\n",
      "\n",
      "Train (18 90%) elbo: -1.1720 r_loss: -0.8044 kl: 41.0916 aux_loss: 0.0000 beta 8.95e-03\n",
      "Valid (18 90%) elbo: -1.1246 r_loss: -0.7454 kl: 42.3816 aux_loss: 0.0000 beta 8.95e-03\n",
      "\n",
      "Train (19 95%) elbo: -1.1701 r_loss: -0.7885 kl: 40.2802 aux_loss: 0.0000 beta 9.47e-03\n",
      "Valid (19 95%) elbo: -1.1770 r_loss: -0.7780 kl: 42.1159 aux_loss: 0.0000 beta 9.47e-03\n",
      "\n",
      "Train (20 100%) elbo: -1.1864 r_loss: -0.7873 kl: 39.9118 aux_loss: 0.0000 beta 1.00e-02\n",
      "Valid (20 100%) elbo: -1.2850 r_loss: -0.8711 kl: 41.3991 aux_loss: 0.0000 beta 1.00e-02\n"
     ]
    },
    {
     "data": {
      "image/png": "[encoded data removed]",
      "text/plain": [
       "<Figure size 432x288 with 1 Axes>"
      ]
     },
     "metadata": {},
     "output_type": "display_data"
    }
   ],
   "source": [
    "# use at least 50 iterations to get good results\n",
    "train_twitter(data_loader,valid_data_loader,model,optimizer,scheduler,loss_fn=nll_loss,kl_loss_fn=None,n_iters=20,use_softmax=True,max_beta=1e-2,print_every=1,plot_pred=False,max_batches=3000)"
   ]
  },
  {
   "cell_type": "code",
   "execution_count": 8,
   "metadata": {},
   "outputs": [],
   "source": [
    "#torch.save(model.state_dict(),\"../../Saved_models/Sentiment140/LCNNVAE_nll_map_best_5l.pt\")"
   ]
  },
  {
   "cell_type": "markdown",
   "metadata": {},
   "source": [
    "model with the following settings:\n",
    "\n",
    "hidden_sizes=[512,256,128],latent_sizes=[64,32,16],recon_hidden_size=256\n",
    "\n",
    "got:\n",
    "\n",
    "Train (20 100%) elbo: -1.0568 r_loss: -0.5148 kl: 54.2003 aux_loss: 0.0000 beta 1.00e-02\n",
    "\n",
    "Valid (20 100%) elbo: -0.9635 r_loss: -0.4337 kl: 52.9805 aux_loss: 0.0000 beta 1.00e-02\n",
    "\n",
    "model with following settings:\n",
    "\n",
    "hidden_sizes=[512,256,128,64,32],latent_sizes=[128,64,32,16,8],recon_hidden_size=256\n",
    "\n",
    "got:\n",
    "\n",
    "Train (20 100%) elbo: -1.1864 r_loss: -0.7873 kl: 39.9118 aux_loss: 0.0000 beta 1.00e-02\n",
    "\n",
    "Valid (20 100%) elbo: -1.2850 r_loss: -0.8711 kl: 41.3991 aux_loss: 0.0000 beta 1.00e-02"
   ]
  }
 ],
 "metadata": {
  "kernelspec": {
   "display_name": "Python 3",
   "language": "python",
   "name": "python3"
  },
  "language_info": {
   "codemirror_mode": {
    "name": "ipython",
    "version": 3
   },
   "file_extension": ".py",
   "mimetype": "text/x-python",
   "name": "python",
   "nbconvert_exporter": "python",
   "pygments_lexer": "ipython3",
   "version": "3.6.5"
  }
 },
 "nbformat": 4,
 "nbformat_minor": 2
}
