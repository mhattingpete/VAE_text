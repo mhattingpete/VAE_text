{
 "cells": [
  {
   "cell_type": "markdown",
   "metadata": {},
   "source": [
    "# Train script for Advanced RNN VAE model"
   ]
  },
  {
   "cell_type": "markdown",
   "metadata": {},
   "source": [
    "### imports"
   ]
  },
  {
   "cell_type": "code",
   "execution_count": 1,
   "metadata": {},
   "outputs": [],
   "source": [
    "%matplotlib inline\n",
    "\n",
    "from torch.autograd import Variable\n",
    "from torch import optim\n",
    "from torch.utils.data import DataLoader\n",
    "import torch\n",
    "\n",
    "import sys\n",
    "sys.path.append(\"../../Modules\")\n",
    "sys.path.append(\"../../Datasets\")\n",
    "\n",
    "# local imports\n",
    "from train import train_twitter\n",
    "from helpers import kl_loss,nll_loss,mse_loss,kl_loss_multi\n",
    "from models import AdvancedRNNVAE\n",
    "from babelDatasets.sentiment140 import Sentiment140\n",
    "from babelDatasets.utils import padding_merge"
   ]
  },
  {
   "cell_type": "markdown",
   "metadata": {},
   "source": [
    "## Define dataset loader"
   ]
  },
  {
   "cell_type": "code",
   "execution_count": 2,
   "metadata": {},
   "outputs": [
    {
     "name": "stdout",
     "output_type": "stream",
     "text": [
      "# N sents: 150000  train: True  sentences_path: ../../Datasets/Data/train_sentences.txt\n",
      "# N sents: 52990  train: False  sentences_path: ../../Datasets/Data/test_sentences.txt\n"
     ]
    }
   ],
   "source": [
    "batch_size = 32\n",
    "\n",
    "data_loader = DataLoader(Sentiment140(data_directory=\"../../Datasets/Data\",train=True,max_sentence_size=32),batch_size=batch_size,shuffle=True,collate_fn=padding_merge)\n",
    "valid_data_loader = DataLoader(Sentiment140(data_directory=\"../../Datasets/Data\",train=False,max_sentence_size=32),batch_size=batch_size,shuffle=True,collate_fn=padding_merge)\n",
    "\n",
    "num_classes = 82\n",
    "\n",
    "batch_loader = iter(data_loader)\n",
    "valid_batch_loader = iter(valid_data_loader)\n",
    "# input has shape [batch_size,seq_len,1]"
   ]
  },
  {
   "cell_type": "markdown",
   "metadata": {},
   "source": [
    "## Define model"
   ]
  },
  {
   "cell_type": "code",
   "execution_count": 3,
   "metadata": {},
   "outputs": [
    {
     "name": "stdout",
     "output_type": "stream",
     "text": [
      "Number of trainable parameters 896722\n",
      "Forward pass succesfull\n"
     ]
    }
   ],
   "source": [
    "model = AdvancedRNNVAE(input_size=1,rnn_size=256,latent_size=64,output_size=num_classes,use_softmax=True,bidirectional=True)\n",
    "print(\"Number of trainable parameters {}\".format(sum(p.numel() for p in model.parameters() if p.requires_grad)))\n",
    "\n",
    "# test forward pass\n",
    "try:\n",
    "    initial_batch = batch_loader.next()[0]\n",
    "    x = Variable(torch.FloatTensor(initial_batch)).transpose(1,0).unsqueeze(2)\n",
    "    test,_ = model(x)\n",
    "    assert (test.shape[0] == x.shape[0] and test.shape[1] == x.shape[1] and test.shape[2] == num_classes)\n",
    "    print(\"Forward pass succesfull\")\n",
    "except:\n",
    "    print(\"Error in forward pass. Output should have shape: {} but had {}\".format(x.contiguous().view(-1).shape,test.view(-1).shape))"
   ]
  },
  {
   "cell_type": "markdown",
   "metadata": {},
   "source": [
    "## Define optimizer and loss"
   ]
  },
  {
   "cell_type": "code",
   "execution_count": 4,
   "metadata": {},
   "outputs": [],
   "source": [
    "learning_rate = 1e-4\n",
    "optimizer = optim.Adam(model.parameters(),lr=learning_rate,weight_decay=1e-3)\n",
    "scheduler = optim.lr_scheduler.ReduceLROnPlateau(optimizer,mode=\"min\",factor=0.5,verbose=True,cooldown=2)"
   ]
  },
  {
   "cell_type": "markdown",
   "metadata": {},
   "source": [
    "## Define trainer"
   ]
  },
  {
   "cell_type": "code",
   "execution_count": 5,
   "metadata": {
    "scrolled": false
   },
   "outputs": [
    {
     "name": "stdout",
     "output_type": "stream",
     "text": [
      "\n",
      "Train (1 5%) elbo: -0.8648 r_loss: -0.8648 kl: 39635.9123 aux_loss: 0.0000 beta 0.00e+00\n",
      "Valid (1 5%) elbo: -0.3456 r_loss: -0.3456 kl: 65916.9766 aux_loss: 0.0000 beta 0.00e+00\n",
      "\n",
      "Train (2 10%) elbo: -1.0218 r_loss: -0.7000 kl: 611.4265 aux_loss: 0.0000 beta 5.26e-04\n",
      "Valid (2 10%) elbo: -0.6868 r_loss: -0.5066 kl: 342.4443 aux_loss: 0.0000 beta 5.26e-04\n",
      "\n",
      "Train (3 15%) elbo: -0.7980 r_loss: -0.5426 kl: 242.6562 aux_loss: 0.0000 beta 1.05e-03\n",
      "Valid (3 15%) elbo: -0.6834 r_loss: -0.4362 kl: 234.8174 aux_loss: 0.0000 beta 1.05e-03\n",
      "\n",
      "Train (4 20%) elbo: -0.8240 r_loss: -0.5388 kl: 180.6187 aux_loss: 0.0000 beta 1.58e-03\n",
      "Valid (4 20%) elbo: -0.9526 r_loss: -0.6536 kl: 189.3621 aux_loss: 0.0000 beta 1.58e-03\n",
      "\n",
      "Train (5 25%) elbo: -0.8609 r_loss: -0.5461 kl: 149.5225 aux_loss: 0.0000 beta 2.11e-03\n",
      "Valid (5 25%) elbo: -0.8714 r_loss: -0.5478 kl: 153.7319 aux_loss: 0.0000 beta 2.11e-03\n",
      "\n",
      "Train (6 30%) elbo: -0.9045 r_loss: -0.5569 kl: 132.1083 aux_loss: 0.0000 beta 2.63e-03\n",
      "Valid (6 30%) elbo: -0.7837 r_loss: -0.4695 kl: 119.3972 aux_loss: 0.0000 beta 2.63e-03\n",
      "\n",
      "Train (7 35%) elbo: -0.9359 r_loss: -0.5705 kl: 115.7084 aux_loss: 0.0000 beta 3.16e-03\n",
      "Valid (7 35%) elbo: -0.9171 r_loss: -0.5586 kl: 113.5328 aux_loss: 0.0000 beta 3.16e-03\n",
      "\n",
      "Train (8 40%) elbo: -0.9515 r_loss: -0.5797 kl: 100.9321 aux_loss: 0.0000 beta 3.68e-03\n",
      "Valid (8 40%) elbo: -1.0627 r_loss: -0.6900 kl: 101.1514 aux_loss: 0.0000 beta 3.68e-03\n",
      "\n",
      "Train (9 45%) elbo: -0.9556 r_loss: -0.5798 kl: 89.2465 aux_loss: 0.0000 beta 4.21e-03\n",
      "Valid (9 45%) elbo: -0.8245 r_loss: -0.4955 kl: 78.1314 aux_loss: 0.0000 beta 4.21e-03\n",
      "\n",
      "Train (10 50%) elbo: -0.9557 r_loss: -0.5719 kl: 81.0193 aux_loss: 0.0000 beta 4.74e-03\n",
      "Valid (10 50%) elbo: -1.0350 r_loss: -0.6373 kl: 83.9467 aux_loss: 0.0000 beta 4.74e-03\n",
      "\n",
      "Train (11 55%) elbo: -0.9657 r_loss: -0.5642 kl: 76.2778 aux_loss: 0.0000 beta 5.26e-03\n",
      "Valid (11 55%) elbo: -1.0522 r_loss: -0.6226 kl: 81.6185 aux_loss: 0.0000 beta 5.26e-03\n",
      "\n",
      "Train (12 60%) elbo: -0.9848 r_loss: -0.5589 kl: 73.5641 aux_loss: 0.0000 beta 5.79e-03\n",
      "Epoch    11: reducing learning rate of group 0 to 5.0000e-05.\n",
      "Valid (12 60%) elbo: -0.9587 r_loss: -0.5269 kl: 74.5756 aux_loss: 0.0000 beta 5.79e-03\n",
      "\n",
      "Train (13 65%) elbo: -1.0055 r_loss: -0.5570 kl: 71.0176 aux_loss: 0.0000 beta 6.32e-03\n",
      "Valid (13 65%) elbo: -1.0972 r_loss: -0.6263 kl: 74.5526 aux_loss: 0.0000 beta 6.32e-03\n",
      "\n",
      "Train (14 70%) elbo: -1.0332 r_loss: -0.5635 kl: 68.6485 aux_loss: 0.0000 beta 6.84e-03\n",
      "Valid (14 70%) elbo: -0.9052 r_loss: -0.4722 kl: 63.2906 aux_loss: 0.0000 beta 6.84e-03\n",
      "\n",
      "Train (15 75%) elbo: -1.0624 r_loss: -0.5721 kl: 66.5516 aux_loss: 0.0000 beta 7.37e-03\n",
      "Valid (15 75%) elbo: -1.1333 r_loss: -0.6279 kl: 68.5888 aux_loss: 0.0000 beta 7.37e-03\n",
      "\n",
      "Train (16 80%) elbo: -1.0894 r_loss: -0.5806 kl: 64.4437 aux_loss: 0.0000 beta 7.89e-03\n",
      "Valid (16 80%) elbo: -1.0637 r_loss: -0.5515 kl: 64.8765 aux_loss: 0.0000 beta 7.89e-03\n",
      "\n",
      "Train (17 85%) elbo: -1.1144 r_loss: -0.5879 kl: 62.5210 aux_loss: 0.0000 beta 8.42e-03\n",
      "Valid (17 85%) elbo: -1.1189 r_loss: -0.5720 kl: 64.9488 aux_loss: 0.0000 beta 8.42e-03\n",
      "\n",
      "Train (18 90%) elbo: -1.1377 r_loss: -0.5939 kl: 60.7794 aux_loss: 0.0000 beta 8.95e-03\n",
      "Valid (18 90%) elbo: -1.1661 r_loss: -0.6026 kl: 62.9759 aux_loss: 0.0000 beta 8.95e-03\n",
      "\n",
      "Train (19 95%) elbo: -1.1645 r_loss: -0.6041 kl: 59.1543 aux_loss: 0.0000 beta 9.47e-03\n",
      "Valid (19 95%) elbo: -1.1330 r_loss: -0.5739 kl: 59.0154 aux_loss: 0.0000 beta 9.47e-03\n",
      "\n",
      "Train (20 100%) elbo: -1.1901 r_loss: -0.6144 kl: 57.5669 aux_loss: 0.0000 beta 1.00e-02\n",
      "Valid (20 100%) elbo: -1.1232 r_loss: -0.5846 kl: 53.8622 aux_loss: 0.0000 beta 1.00e-02\n"
     ]
    },
    {
     "data": {
      "image/png": "[encoded data removed]",
      "text/plain": [
       "<Figure size 432x288 with 1 Axes>"
      ]
     },
     "metadata": {},
     "output_type": "display_data"
    }
   ],
   "source": [
    "# use at least 50 iterations to get good results\n",
    "train_twitter(data_loader,valid_data_loader,model,optimizer,scheduler,loss_fn=nll_loss,kl_loss_fn=kl_loss_multi,n_iters=20,use_softmax=True,max_beta=1e-2,print_every=1,plot_pred=False,max_batches=3000)"
   ]
  },
  {
   "cell_type": "code",
   "execution_count": 8,
   "metadata": {},
   "outputs": [],
   "source": [
    "#torch.save(model.state_dict(),\"../../Saved_models/Sentiment140/RNNVAE_nll_map.pt\")"
   ]
  },
  {
   "cell_type": "markdown",
   "metadata": {},
   "source": [
    "Train (20 100%) elbo: -1.1901 r_loss: -0.6144 kl: 57.5669 aux_loss: 0.0000 beta 1.00e-02\n",
    "\n",
    "Valid (20 100%) elbo: -1.1232 r_loss: -0.5846 kl: 53.8622 aux_loss: 0.0000 beta 1.00e-02"
   ]
  }
 ],
 "metadata": {
  "kernelspec": {
   "display_name": "Python 3",
   "language": "python",
   "name": "python3"
  },
  "language_info": {
   "codemirror_mode": {
    "name": "ipython",
    "version": 3
   },
   "file_extension": ".py",
   "mimetype": "text/x-python",
   "name": "python",
   "nbconvert_exporter": "python",
   "pygments_lexer": "ipython3",
   "version": "3.6.5"
  }
 },
 "nbformat": 4,
 "nbformat_minor": 2
}
